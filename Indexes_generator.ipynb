{
 "cells": [
  {
   "cell_type": "markdown",
   "metadata": {},
   "source": [
    "# Simulate Unbalanced Distribution"
   ]
  },
  {
   "cell_type": "code",
   "execution_count": 1,
   "metadata": {},
   "outputs": [],
   "source": [
    "import imp\n",
    "import random\n",
    "import CustomDataset\n",
    "import CustomModels\n",
    "import os\n",
    "import torch\n",
    "import pickle\n",
    "import numpy as np\n",
    "import matplotlib.pyplot as plt\n",
    "from torchvision import datasets, transforms\n",
    "from CustomDataset import dataset_partition\n",
    "from setting import *"
   ]
  },
  {
   "cell_type": "code",
   "execution_count": 2,
   "metadata": {},
   "outputs": [],
   "source": [
    "CIFAR10 = datasets.CIFAR10('./data', train=True, transform=transforms.ToTensor())\n",
    "MNIST = datasets.MNIST('./data', train=True, transform=transforms.ToTensor())\n",
    "MNIST_idx_dic = CustomDataset.produce_idx_dic(MNIST.targets)\n",
    "CIFAR10_idx_dic = CustomDataset.produce_idx_dic(CIFAR10.targets)"
   ]
  },
  {
   "cell_type": "code",
   "execution_count": 3,
   "metadata": {},
   "outputs": [],
   "source": [
    "# create directories\n",
    "def create(path):\n",
    "    if not os.path.isdir(path):\n",
    "        os.mkdir(path)\n",
    "        \n",
    "# eg. Indexs/MNIST/p_?/mu_?/\n",
    "#     Indexs/CIFAR10/p_?/linear/\n",
    "\n",
    "create(\"Indexs\")\n",
    "create(\"Indexs/MNIST\")\n",
    "create(\"Indexs/CIFAR10\")\n",
    "\n",
    "# directories in MNIST\n",
    "path = \"Indexs/MNIST\"\n",
    "for p in p_MNIST:\n",
    "    new_dir = os.path.join(path, 'p_'+str(p))\n",
    "    create(new_dir)\n",
    "    create(os.path.join(new_dir, EXPONENTIAL))\n",
    "    create(os.path.join(new_dir, LINEAR))\n",
    "\n",
    "for p in p_MNIST:\n",
    "    path_d1 = os.path.join(path, 'p_'+str(p))\n",
    "    for mu in mu_MNIST:\n",
    "        new_dir = os.path.join(path_d1, 'mu_'+str(mu))\n",
    "        create(new_dir)\n",
    "\n",
    "# # directories in CIFAR10\n",
    "path = \"Indexs/CIFAR10\"\n",
    "for p in p_CIFAR10:\n",
    "    new_dir = os.path.join(path, 'p_'+str(p))\n",
    "    create(new_dir)\n",
    "    create(os.path.join(new_dir, EXPONENTIAL))\n",
    "    create(os.path.join(new_dir, LINEAR))\n",
    "\n",
    "for p in p_CIFAR10:\n",
    "    path_d1 = os.path.join(path, 'p_'+str(p))\n",
    "    for mu in mu_CIFAR10:\n",
    "        new_dir = os.path.join(path_d1, 'mu_'+str(mu))\n",
    "        create(new_dir)\n"
   ]
  },
  {
   "cell_type": "code",
   "execution_count": 4,
   "metadata": {},
   "outputs": [],
   "source": [
    "# create base index, seperate train set in to train and validation set\n",
    "randomState = np.random.RandomState(np.random.seed(12345))\n",
    "MNIST_eval_idx = CustomDataset.random_select(MNIST_idx_dic, [1000]*10, randomState)\n",
    "CIFAR10_eval_idx = CustomDataset.random_select(CIFAR10_idx_dic, [1000]*10, randomState)\n",
    "np.save(\"Indexs/MNIST_eval\", MNIST_eval_idx)\n",
    "np.save(\"Indexs/CIFAR10_eval\", CIFAR10_eval_idx)\n",
    "\n",
    "MNIST_all_idx = np.arange(len(MNIST.targets))\n",
    "MNIST_train_idx = np.delete(MNIST_all_idx, MNIST_eval_idx)\n",
    "CIFAR10_all_idx = np.arange(len(CIFAR10.targets))\n",
    "CIFAR10_train_idx = np.delete(CIFAR10_all_idx, CIFAR10_eval_idx)\n",
    "np.save(\"Indexs/MNIST_train\", MNIST_train_idx)\n",
    "np.save(\"Indexs/CIFAR10_train\", CIFAR10_train_idx)\n",
    "\n",
    "MNIST_train_idx_dic = CustomDataset.produce_idx_dic(MNIST.targets[MNIST_train_idx])\n",
    "CIFAR10_train_idx_dic = CustomDataset.produce_idx_dic(np.array(CIFAR10.targets)[CIFAR10_train_idx])\n",
    "MNIST_eval_idx_dic = CustomDataset.produce_idx_dic(MNIST.targets[MNIST_eval_idx])\n",
    "CIFAR10_eval_idx_dic = CustomDataset.produce_idx_dic(np.array(CIFAR10.targets)[CIFAR10_eval_idx])"
   ]
  },
  {
   "cell_type": "code",
   "execution_count": 5,
   "metadata": {},
   "outputs": [],
   "source": [
    "# create indexs for each distribution and permutation\n",
    "def generate_distribution(max_size, num_classes, p, mu, unbalanced_type):\n",
    "    distribution = np.zeros(num_classes).astype(int)\n",
    "    if (unbalanced_type == LINEAR):\n",
    "        diff = (max_size-int(max_size/p))\n",
    "        for i in range(num_classes):\n",
    "            distribution[i] = int(np.ceil(max_size - (diff*i/9)))\n",
    "            \n",
    "    elif (unbalanced_type == EXPONENTIAL):\n",
    "        ratio = 1.0/p\n",
    "        for i in range(num_classes):\n",
    "            distribution[i] = int(np.ceil(max_size * np.power(ratio,i/9)))\n",
    "            \n",
    "    else:\n",
    "        # STEP unbalanced\n",
    "        assert(mu is not None)\n",
    "        min_size = int(np.ceil(max_size/p))\n",
    "        for i in range(num_classes):\n",
    "            if(i < int((num_classes+1)*(1-mu))):\n",
    "                distribution[i] = max_size\n",
    "            else:\n",
    "                distribution[i] = min_size\n",
    "    print(\"({},p={},mu={}): {}\".format(\n",
    "        unbalanced_type, p, mu, distribution))\n",
    "    return distribution\n",
    "        \n",
    "\n",
    "def generate_indexs(dataset_name, p_list, mu_list, permutations, \n",
    "                    train_idx_dic, train_idx, eval_idx_dic, eval_idx):\n",
    "    path = os.path.join(\"Indexs\", dataset_name)\n",
    "    # generate unbalanced train set index\n",
    "    train_max = train_max_size\n",
    "    class_size = 10\n",
    "    for p in p_list:\n",
    "        num = 0\n",
    "        for permutation in permutations:\n",
    "            num += 1\n",
    "            for mu in mu_list:\n",
    "                # STEP\n",
    "                distribution = generate_distribution(train_max, class_size, p, mu, STEP)\n",
    "                distribution = distribution[np.array(permutation)]\n",
    "                idx = CustomDataset.random_select(train_idx_dic, distribution, randomState)\n",
    "                file_name = os.path.join(path, \"p_\"+str(p), \"mu_\"+str(mu), str(num))\n",
    "                np.save(file_name, train_idx[idx])\n",
    "            \n",
    "            # LINEAR\n",
    "            distribution = generate_distribution(train_max, class_size, p, None, LINEAR)\n",
    "            distribution = distribution[np.array(permutation)]\n",
    "            idx = CustomDataset.random_select(train_idx_dic, distribution, randomState)\n",
    "            file_name = os.path.join(path, \"p_\"+str(p), LINEAR, str(num))\n",
    "            np.save(file_name, train_idx[idx])\n",
    "            \n",
    "            # EXPONENTIAL\n",
    "            distribution = generate_distribution(train_max, class_size, p, None, EXPONENTIAL)\n",
    "            distribution = distribution[np.array(permutation)]\n",
    "            idx = CustomDataset.random_select(train_idx_dic, distribution, randomState)\n",
    "            file_name = os.path.join(path, \"p_\"+str(p), EXPONENTIAL, str(num))\n",
    "            np.save(file_name, train_idx[idx])\n",
    "            \n",
    "    # generate unbalanced evaluation set index\n",
    "    evaluation_max = evaluation_max_size\n",
    "    class_size = 10\n",
    "    for p in p_list:\n",
    "        num = 0\n",
    "        for permutation in permutations:\n",
    "            num += 1\n",
    "            for mu in mu_list:\n",
    "                # STEP\n",
    "                distribution = generate_distribution(evaluation_max, class_size, p, mu, STEP)\n",
    "                distribution = distribution[np.array(permutation)]\n",
    "                idx = CustomDataset.random_select(eval_idx_dic, distribution, randomState)\n",
    "                file_name = os.path.join(path, \"p_\"+str(p), \"mu_\"+str(mu), str(num) + \"_eval\")\n",
    "                np.save(file_name, eval_idx[idx])\n",
    "            \n",
    "            # LINEAR\n",
    "            distribution = generate_distribution(evaluation_max, class_size, p, None, LINEAR)\n",
    "            distribution = distribution[np.array(permutation)]\n",
    "            idx = CustomDataset.random_select(eval_idx_dic, distribution, randomState)\n",
    "            file_name = os.path.join(path, \"p_\"+str(p), LINEAR, str(num) + \"_eval\")\n",
    "            np.save(file_name, eval_idx[idx])\n",
    "            \n",
    "            # EXPONENTIAL\n",
    "            distribution = generate_distribution(evaluation_max, class_size, p, None, EXPONENTIAL)\n",
    "            distribution = distribution[np.array(permutation)]\n",
    "            idx = CustomDataset.random_select(eval_idx_dic, distribution, randomState)\n",
    "            file_name = os.path.join(path, \"p_\"+str(p), EXPONENTIAL, str(num) + \"_eval\")\n",
    "            np.save(file_name, eval_idx[idx])"
   ]
  },
  {
   "cell_type": "code",
   "execution_count": 6,
   "metadata": {
    "scrolled": true
   },
   "outputs": [
    {
     "name": "stdout",
     "output_type": "stream",
     "text": [
      "(step,p=10,mu=0.2): [4000 4000 4000 4000 4000 4000 4000 4000  400  400]\n",
      "(step,p=10,mu=0.5): [4000 4000 4000 4000 4000  400  400  400  400  400]\n",
      "(step,p=10,mu=0.8): [4000 4000  400  400  400  400  400  400  400  400]\n",
      "(linear,p=10,mu=None): [4000 3600 3200 2800 2400 2000 1600 1200  800  400]\n",
      "(exponential,p=10,mu=None): [4000 3098 2398 1857 1438 1114  862  668  517  400]\n",
      "(step,p=10,mu=0.2): [4000 4000 4000 4000 4000 4000 4000 4000  400  400]\n",
      "(step,p=10,mu=0.5): [4000 4000 4000 4000 4000  400  400  400  400  400]\n",
      "(step,p=10,mu=0.8): [4000 4000  400  400  400  400  400  400  400  400]\n",
      "(linear,p=10,mu=None): [4000 3600 3200 2800 2400 2000 1600 1200  800  400]\n",
      "(exponential,p=10,mu=None): [4000 3098 2398 1857 1438 1114  862  668  517  400]\n",
      "(step,p=10,mu=0.2): [4000 4000 4000 4000 4000 4000 4000 4000  400  400]\n",
      "(step,p=10,mu=0.5): [4000 4000 4000 4000 4000  400  400  400  400  400]\n",
      "(step,p=10,mu=0.8): [4000 4000  400  400  400  400  400  400  400  400]\n",
      "(linear,p=10,mu=None): [4000 3600 3200 2800 2400 2000 1600 1200  800  400]\n",
      "(exponential,p=10,mu=None): [4000 3098 2398 1857 1438 1114  862  668  517  400]\n",
      "(step,p=10,mu=0.2): [4000 4000 4000 4000 4000 4000 4000 4000  400  400]\n",
      "(step,p=10,mu=0.5): [4000 4000 4000 4000 4000  400  400  400  400  400]\n",
      "(step,p=10,mu=0.8): [4000 4000  400  400  400  400  400  400  400  400]\n",
      "(linear,p=10,mu=None): [4000 3600 3200 2800 2400 2000 1600 1200  800  400]\n",
      "(exponential,p=10,mu=None): [4000 3098 2398 1857 1438 1114  862  668  517  400]\n",
      "(step,p=10,mu=0.2): [4000 4000 4000 4000 4000 4000 4000 4000  400  400]\n",
      "(step,p=10,mu=0.5): [4000 4000 4000 4000 4000  400  400  400  400  400]\n",
      "(step,p=10,mu=0.8): [4000 4000  400  400  400  400  400  400  400  400]\n",
      "(linear,p=10,mu=None): [4000 3600 3200 2800 2400 2000 1600 1200  800  400]\n",
      "(exponential,p=10,mu=None): [4000 3098 2398 1857 1438 1114  862  668  517  400]\n",
      "(step,p=25,mu=0.2): [4000 4000 4000 4000 4000 4000 4000 4000  160  160]\n",
      "(step,p=25,mu=0.5): [4000 4000 4000 4000 4000  160  160  160  160  160]\n",
      "(step,p=25,mu=0.8): [4000 4000  160  160  160  160  160  160  160  160]\n",
      "(linear,p=25,mu=None): [4000 3574 3147 2720 2294 1867 1440 1014  587  160]\n",
      "(exponential,p=25,mu=None): [4000 2798 1957 1368  957  670  468  328  229  160]\n",
      "(step,p=25,mu=0.2): [4000 4000 4000 4000 4000 4000 4000 4000  160  160]\n",
      "(step,p=25,mu=0.5): [4000 4000 4000 4000 4000  160  160  160  160  160]\n",
      "(step,p=25,mu=0.8): [4000 4000  160  160  160  160  160  160  160  160]\n",
      "(linear,p=25,mu=None): [4000 3574 3147 2720 2294 1867 1440 1014  587  160]\n",
      "(exponential,p=25,mu=None): [4000 2798 1957 1368  957  670  468  328  229  160]\n",
      "(step,p=25,mu=0.2): [4000 4000 4000 4000 4000 4000 4000 4000  160  160]\n",
      "(step,p=25,mu=0.5): [4000 4000 4000 4000 4000  160  160  160  160  160]\n",
      "(step,p=25,mu=0.8): [4000 4000  160  160  160  160  160  160  160  160]\n",
      "(linear,p=25,mu=None): [4000 3574 3147 2720 2294 1867 1440 1014  587  160]\n",
      "(exponential,p=25,mu=None): [4000 2798 1957 1368  957  670  468  328  229  160]\n",
      "(step,p=25,mu=0.2): [4000 4000 4000 4000 4000 4000 4000 4000  160  160]\n",
      "(step,p=25,mu=0.5): [4000 4000 4000 4000 4000  160  160  160  160  160]\n",
      "(step,p=25,mu=0.8): [4000 4000  160  160  160  160  160  160  160  160]\n",
      "(linear,p=25,mu=None): [4000 3574 3147 2720 2294 1867 1440 1014  587  160]\n",
      "(exponential,p=25,mu=None): [4000 2798 1957 1368  957  670  468  328  229  160]\n",
      "(step,p=25,mu=0.2): [4000 4000 4000 4000 4000 4000 4000 4000  160  160]\n",
      "(step,p=25,mu=0.5): [4000 4000 4000 4000 4000  160  160  160  160  160]\n",
      "(step,p=25,mu=0.8): [4000 4000  160  160  160  160  160  160  160  160]\n",
      "(linear,p=25,mu=None): [4000 3574 3147 2720 2294 1867 1440 1014  587  160]\n",
      "(exponential,p=25,mu=None): [4000 2798 1957 1368  957  670  468  328  229  160]\n",
      "(step,p=50,mu=0.2): [4000 4000 4000 4000 4000 4000 4000 4000   80   80]\n",
      "(step,p=50,mu=0.5): [4000 4000 4000 4000 4000   80   80   80   80   80]\n",
      "(step,p=50,mu=0.8): [4000 4000   80   80   80   80   80   80   80   80]\n",
      "(linear,p=50,mu=None): [4000 3565 3129 2694 2258 1823 1387  952  516   80]\n",
      "(exponential,p=50,mu=None): [4000 2590 1677 1086  704  456  295  191  124   80]\n",
      "(step,p=50,mu=0.2): [4000 4000 4000 4000 4000 4000 4000 4000   80   80]\n",
      "(step,p=50,mu=0.5): [4000 4000 4000 4000 4000   80   80   80   80   80]\n",
      "(step,p=50,mu=0.8): [4000 4000   80   80   80   80   80   80   80   80]\n",
      "(linear,p=50,mu=None): [4000 3565 3129 2694 2258 1823 1387  952  516   80]\n",
      "(exponential,p=50,mu=None): [4000 2590 1677 1086  704  456  295  191  124   80]\n",
      "(step,p=50,mu=0.2): [4000 4000 4000 4000 4000 4000 4000 4000   80   80]\n",
      "(step,p=50,mu=0.5): [4000 4000 4000 4000 4000   80   80   80   80   80]\n",
      "(step,p=50,mu=0.8): [4000 4000   80   80   80   80   80   80   80   80]\n",
      "(linear,p=50,mu=None): [4000 3565 3129 2694 2258 1823 1387  952  516   80]\n",
      "(exponential,p=50,mu=None): [4000 2590 1677 1086  704  456  295  191  124   80]\n",
      "(step,p=50,mu=0.2): [4000 4000 4000 4000 4000 4000 4000 4000   80   80]\n",
      "(step,p=50,mu=0.5): [4000 4000 4000 4000 4000   80   80   80   80   80]\n",
      "(step,p=50,mu=0.8): [4000 4000   80   80   80   80   80   80   80   80]\n",
      "(linear,p=50,mu=None): [4000 3565 3129 2694 2258 1823 1387  952  516   80]\n",
      "(exponential,p=50,mu=None): [4000 2590 1677 1086  704  456  295  191  124   80]\n",
      "(step,p=50,mu=0.2): [4000 4000 4000 4000 4000 4000 4000 4000   80   80]\n",
      "(step,p=50,mu=0.5): [4000 4000 4000 4000 4000   80   80   80   80   80]\n",
      "(step,p=50,mu=0.8): [4000 4000   80   80   80   80   80   80   80   80]\n",
      "(linear,p=50,mu=None): [4000 3565 3129 2694 2258 1823 1387  952  516   80]\n",
      "(exponential,p=50,mu=None): [4000 2590 1677 1086  704  456  295  191  124   80]\n",
      "(step,p=100,mu=0.2): [4000 4000 4000 4000 4000 4000 4000 4000   40   40]\n",
      "(step,p=100,mu=0.5): [4000 4000 4000 4000 4000   40   40   40   40   40]\n",
      "(step,p=100,mu=0.8): [4000 4000   40   40   40   40   40   40   40   40]\n",
      "(linear,p=100,mu=None): [4000 3560 3120 2680 2240 1800 1360  920  480   40]\n",
      "(exponential,p=100,mu=None): [4000 2398 1438  862  517  310  186  112   67   40]\n",
      "(step,p=100,mu=0.2): [4000 4000 4000 4000 4000 4000 4000 4000   40   40]\n",
      "(step,p=100,mu=0.5): [4000 4000 4000 4000 4000   40   40   40   40   40]\n",
      "(step,p=100,mu=0.8): [4000 4000   40   40   40   40   40   40   40   40]\n",
      "(linear,p=100,mu=None): [4000 3560 3120 2680 2240 1800 1360  920  480   40]\n",
      "(exponential,p=100,mu=None): [4000 2398 1438  862  517  310  186  112   67   40]\n",
      "(step,p=100,mu=0.2): [4000 4000 4000 4000 4000 4000 4000 4000   40   40]\n",
      "(step,p=100,mu=0.5): [4000 4000 4000 4000 4000   40   40   40   40   40]\n",
      "(step,p=100,mu=0.8): [4000 4000   40   40   40   40   40   40   40   40]\n",
      "(linear,p=100,mu=None): [4000 3560 3120 2680 2240 1800 1360  920  480   40]\n",
      "(exponential,p=100,mu=None): [4000 2398 1438  862  517  310  186  112   67   40]\n",
      "(step,p=100,mu=0.2): [4000 4000 4000 4000 4000 4000 4000 4000   40   40]\n",
      "(step,p=100,mu=0.5): [4000 4000 4000 4000 4000   40   40   40   40   40]\n",
      "(step,p=100,mu=0.8): [4000 4000   40   40   40   40   40   40   40   40]\n",
      "(linear,p=100,mu=None): [4000 3560 3120 2680 2240 1800 1360  920  480   40]\n",
      "(exponential,p=100,mu=None): [4000 2398 1438  862  517  310  186  112   67   40]\n",
      "(step,p=100,mu=0.2): [4000 4000 4000 4000 4000 4000 4000 4000   40   40]\n",
      "(step,p=100,mu=0.5): [4000 4000 4000 4000 4000   40   40   40   40   40]\n",
      "(step,p=100,mu=0.8): [4000 4000   40   40   40   40   40   40   40   40]\n",
      "(linear,p=100,mu=None): [4000 3560 3120 2680 2240 1800 1360  920  480   40]\n",
      "(exponential,p=100,mu=None): [4000 2398 1438  862  517  310  186  112   67   40]\n",
      "(step,p=250,mu=0.2): [4000 4000 4000 4000 4000 4000 4000 4000   16   16]\n",
      "(step,p=250,mu=0.5): [4000 4000 4000 4000 4000   16   16   16   16   16]\n",
      "(step,p=250,mu=0.8): [4000 4000   16   16   16   16   16   16   16   16]\n",
      "(linear,p=250,mu=None): [4000 3558 3115 2672 2230 1787 1344  902  459   16]\n",
      "(exponential,p=250,mu=None): [4000 2166 1173  635  344  187  101   55   30   16]\n",
      "(step,p=250,mu=0.2): [4000 4000 4000 4000 4000 4000 4000 4000   16   16]\n",
      "(step,p=250,mu=0.5): [4000 4000 4000 4000 4000   16   16   16   16   16]\n",
      "(step,p=250,mu=0.8): [4000 4000   16   16   16   16   16   16   16   16]\n",
      "(linear,p=250,mu=None): [4000 3558 3115 2672 2230 1787 1344  902  459   16]\n",
      "(exponential,p=250,mu=None): [4000 2166 1173  635  344  187  101   55   30   16]\n",
      "(step,p=250,mu=0.2): [4000 4000 4000 4000 4000 4000 4000 4000   16   16]\n",
      "(step,p=250,mu=0.5): [4000 4000 4000 4000 4000   16   16   16   16   16]\n",
      "(step,p=250,mu=0.8): [4000 4000   16   16   16   16   16   16   16   16]\n",
      "(linear,p=250,mu=None): [4000 3558 3115 2672 2230 1787 1344  902  459   16]\n",
      "(exponential,p=250,mu=None): [4000 2166 1173  635  344  187  101   55   30   16]\n",
      "(step,p=250,mu=0.2): [4000 4000 4000 4000 4000 4000 4000 4000   16   16]\n",
      "(step,p=250,mu=0.5): [4000 4000 4000 4000 4000   16   16   16   16   16]\n"
     ]
    },
    {
     "name": "stdout",
     "output_type": "stream",
     "text": [
      "(step,p=250,mu=0.8): [4000 4000   16   16   16   16   16   16   16   16]\n",
      "(linear,p=250,mu=None): [4000 3558 3115 2672 2230 1787 1344  902  459   16]\n",
      "(exponential,p=250,mu=None): [4000 2166 1173  635  344  187  101   55   30   16]\n",
      "(step,p=250,mu=0.2): [4000 4000 4000 4000 4000 4000 4000 4000   16   16]\n",
      "(step,p=250,mu=0.5): [4000 4000 4000 4000 4000   16   16   16   16   16]\n",
      "(step,p=250,mu=0.8): [4000 4000   16   16   16   16   16   16   16   16]\n",
      "(linear,p=250,mu=None): [4000 3558 3115 2672 2230 1787 1344  902  459   16]\n",
      "(exponential,p=250,mu=None): [4000 2166 1173  635  344  187  101   55   30   16]\n",
      "(step,p=500,mu=0.2): [4000 4000 4000 4000 4000 4000 4000 4000    8    8]\n",
      "(step,p=500,mu=0.5): [4000 4000 4000 4000 4000    8    8    8    8    8]\n",
      "(step,p=500,mu=0.8): [4000 4000    8    8    8    8    8    8    8    8]\n",
      "(linear,p=500,mu=None): [4000 3557 3113 2670 2226 1783 1339  896  452    8]\n",
      "(exponential,p=500,mu=None): [4000 2006 1006  504  253  127   64   32   16    8]\n",
      "(step,p=500,mu=0.2): [4000 4000 4000 4000 4000 4000 4000 4000    8    8]\n",
      "(step,p=500,mu=0.5): [4000 4000 4000 4000 4000    8    8    8    8    8]\n",
      "(step,p=500,mu=0.8): [4000 4000    8    8    8    8    8    8    8    8]\n",
      "(linear,p=500,mu=None): [4000 3557 3113 2670 2226 1783 1339  896  452    8]\n",
      "(exponential,p=500,mu=None): [4000 2006 1006  504  253  127   64   32   16    8]\n",
      "(step,p=500,mu=0.2): [4000 4000 4000 4000 4000 4000 4000 4000    8    8]\n",
      "(step,p=500,mu=0.5): [4000 4000 4000 4000 4000    8    8    8    8    8]\n",
      "(step,p=500,mu=0.8): [4000 4000    8    8    8    8    8    8    8    8]\n",
      "(linear,p=500,mu=None): [4000 3557 3113 2670 2226 1783 1339  896  452    8]\n",
      "(exponential,p=500,mu=None): [4000 2006 1006  504  253  127   64   32   16    8]\n",
      "(step,p=500,mu=0.2): [4000 4000 4000 4000 4000 4000 4000 4000    8    8]\n",
      "(step,p=500,mu=0.5): [4000 4000 4000 4000 4000    8    8    8    8    8]\n",
      "(step,p=500,mu=0.8): [4000 4000    8    8    8    8    8    8    8    8]\n",
      "(linear,p=500,mu=None): [4000 3557 3113 2670 2226 1783 1339  896  452    8]\n",
      "(exponential,p=500,mu=None): [4000 2006 1006  504  253  127   64   32   16    8]\n",
      "(step,p=500,mu=0.2): [4000 4000 4000 4000 4000 4000 4000 4000    8    8]\n",
      "(step,p=500,mu=0.5): [4000 4000 4000 4000 4000    8    8    8    8    8]\n",
      "(step,p=500,mu=0.8): [4000 4000    8    8    8    8    8    8    8    8]\n",
      "(linear,p=500,mu=None): [4000 3557 3113 2670 2226 1783 1339  896  452    8]\n",
      "(exponential,p=500,mu=None): [4000 2006 1006  504  253  127   64   32   16    8]\n",
      "(step,p=1000,mu=0.2): [4000 4000 4000 4000 4000 4000 4000 4000    4    4]\n",
      "(step,p=1000,mu=0.5): [4000 4000 4000 4000 4000    4    4    4    4    4]\n",
      "(step,p=1000,mu=0.8): [4000 4000    4    4    4    4    4    4    4    4]\n",
      "(linear,p=1000,mu=None): [4000 3556 3112 2668 2224 1780 1336  892  448    4]\n",
      "(exponential,p=1000,mu=None): [4000 1857  862  401  186   87   41   19    9    4]\n",
      "(step,p=1000,mu=0.2): [4000 4000 4000 4000 4000 4000 4000 4000    4    4]\n",
      "(step,p=1000,mu=0.5): [4000 4000 4000 4000 4000    4    4    4    4    4]\n",
      "(step,p=1000,mu=0.8): [4000 4000    4    4    4    4    4    4    4    4]\n",
      "(linear,p=1000,mu=None): [4000 3556 3112 2668 2224 1780 1336  892  448    4]\n",
      "(exponential,p=1000,mu=None): [4000 1857  862  401  186   87   41   19    9    4]\n",
      "(step,p=1000,mu=0.2): [4000 4000 4000 4000 4000 4000 4000 4000    4    4]\n",
      "(step,p=1000,mu=0.5): [4000 4000 4000 4000 4000    4    4    4    4    4]\n",
      "(step,p=1000,mu=0.8): [4000 4000    4    4    4    4    4    4    4    4]\n",
      "(linear,p=1000,mu=None): [4000 3556 3112 2668 2224 1780 1336  892  448    4]\n",
      "(exponential,p=1000,mu=None): [4000 1857  862  401  186   87   41   19    9    4]\n",
      "(step,p=1000,mu=0.2): [4000 4000 4000 4000 4000 4000 4000 4000    4    4]\n",
      "(step,p=1000,mu=0.5): [4000 4000 4000 4000 4000    4    4    4    4    4]\n",
      "(step,p=1000,mu=0.8): [4000 4000    4    4    4    4    4    4    4    4]\n",
      "(linear,p=1000,mu=None): [4000 3556 3112 2668 2224 1780 1336  892  448    4]\n",
      "(exponential,p=1000,mu=None): [4000 1857  862  401  186   87   41   19    9    4]\n",
      "(step,p=1000,mu=0.2): [4000 4000 4000 4000 4000 4000 4000 4000    4    4]\n",
      "(step,p=1000,mu=0.5): [4000 4000 4000 4000 4000    4    4    4    4    4]\n",
      "(step,p=1000,mu=0.8): [4000 4000    4    4    4    4    4    4    4    4]\n",
      "(linear,p=1000,mu=None): [4000 3556 3112 2668 2224 1780 1336  892  448    4]\n",
      "(exponential,p=1000,mu=None): [4000 1857  862  401  186   87   41   19    9    4]\n",
      "(step,p=2000,mu=0.2): [4000 4000 4000 4000 4000 4000 4000 4000    2    2]\n",
      "(step,p=2000,mu=0.5): [4000 4000 4000 4000 4000    2    2    2    2    2]\n",
      "(step,p=2000,mu=0.8): [4000 4000    2    2    2    2    2    2    2    2]\n",
      "(linear,p=2000,mu=None): [4000 3556 3112 2668 2224 1779 1335  891  447    2]\n",
      "(exponential,p=2000,mu=None): [4000 1720  739  318  137   59   26   11    5    2]\n",
      "(step,p=2000,mu=0.2): [4000 4000 4000 4000 4000 4000 4000 4000    2    2]\n",
      "(step,p=2000,mu=0.5): [4000 4000 4000 4000 4000    2    2    2    2    2]\n",
      "(step,p=2000,mu=0.8): [4000 4000    2    2    2    2    2    2    2    2]\n",
      "(linear,p=2000,mu=None): [4000 3556 3112 2668 2224 1779 1335  891  447    2]\n",
      "(exponential,p=2000,mu=None): [4000 1720  739  318  137   59   26   11    5    2]\n",
      "(step,p=2000,mu=0.2): [4000 4000 4000 4000 4000 4000 4000 4000    2    2]\n",
      "(step,p=2000,mu=0.5): [4000 4000 4000 4000 4000    2    2    2    2    2]\n",
      "(step,p=2000,mu=0.8): [4000 4000    2    2    2    2    2    2    2    2]\n",
      "(linear,p=2000,mu=None): [4000 3556 3112 2668 2224 1779 1335  891  447    2]\n",
      "(exponential,p=2000,mu=None): [4000 1720  739  318  137   59   26   11    5    2]\n",
      "(step,p=2000,mu=0.2): [4000 4000 4000 4000 4000 4000 4000 4000    2    2]\n",
      "(step,p=2000,mu=0.5): [4000 4000 4000 4000 4000    2    2    2    2    2]\n",
      "(step,p=2000,mu=0.8): [4000 4000    2    2    2    2    2    2    2    2]\n",
      "(linear,p=2000,mu=None): [4000 3556 3112 2668 2224 1779 1335  891  447    2]\n",
      "(exponential,p=2000,mu=None): [4000 1720  739  318  137   59   26   11    5    2]\n",
      "(step,p=2000,mu=0.2): [4000 4000 4000 4000 4000 4000 4000 4000    2    2]\n",
      "(step,p=2000,mu=0.5): [4000 4000 4000 4000 4000    2    2    2    2    2]\n",
      "(step,p=2000,mu=0.8): [4000 4000    2    2    2    2    2    2    2    2]\n",
      "(linear,p=2000,mu=None): [4000 3556 3112 2668 2224 1779 1335  891  447    2]\n",
      "(exponential,p=2000,mu=None): [4000 1720  739  318  137   59   26   11    5    2]\n",
      "(step,p=4000,mu=0.2): [4000 4000 4000 4000 4000 4000 4000 4000    1    1]\n",
      "(step,p=4000,mu=0.5): [4000 4000 4000 4000 4000    1    1    1    1    1]\n",
      "(step,p=4000,mu=0.8): [4000 4000    1    1    1    1    1    1    1    1]\n",
      "(linear,p=4000,mu=None): [4000 3556 3112 2667 2223 1779 1334  890  446    1]\n",
      "(exponential,p=4000,mu=None): [4000 1592  634  252  101   40   16    7    3    1]\n",
      "(step,p=4000,mu=0.2): [4000 4000 4000 4000 4000 4000 4000 4000    1    1]\n",
      "(step,p=4000,mu=0.5): [4000 4000 4000 4000 4000    1    1    1    1    1]\n",
      "(step,p=4000,mu=0.8): [4000 4000    1    1    1    1    1    1    1    1]\n",
      "(linear,p=4000,mu=None): [4000 3556 3112 2667 2223 1779 1334  890  446    1]\n",
      "(exponential,p=4000,mu=None): [4000 1592  634  252  101   40   16    7    3    1]\n",
      "(step,p=4000,mu=0.2): [4000 4000 4000 4000 4000 4000 4000 4000    1    1]\n",
      "(step,p=4000,mu=0.5): [4000 4000 4000 4000 4000    1    1    1    1    1]\n",
      "(step,p=4000,mu=0.8): [4000 4000    1    1    1    1    1    1    1    1]\n",
      "(linear,p=4000,mu=None): [4000 3556 3112 2667 2223 1779 1334  890  446    1]\n",
      "(exponential,p=4000,mu=None): [4000 1592  634  252  101   40   16    7    3    1]\n",
      "(step,p=4000,mu=0.2): [4000 4000 4000 4000 4000 4000 4000 4000    1    1]\n",
      "(step,p=4000,mu=0.5): [4000 4000 4000 4000 4000    1    1    1    1    1]\n",
      "(step,p=4000,mu=0.8): [4000 4000    1    1    1    1    1    1    1    1]\n",
      "(linear,p=4000,mu=None): [4000 3556 3112 2667 2223 1779 1334  890  446    1]\n",
      "(exponential,p=4000,mu=None): [4000 1592  634  252  101   40   16    7    3    1]\n",
      "(step,p=4000,mu=0.2): [4000 4000 4000 4000 4000 4000 4000 4000    1    1]\n",
      "(step,p=4000,mu=0.5): [4000 4000 4000 4000 4000    1    1    1    1    1]\n",
      "(step,p=4000,mu=0.8): [4000 4000    1    1    1    1    1    1    1    1]\n",
      "(linear,p=4000,mu=None): [4000 3556 3112 2667 2223 1779 1334  890  446    1]\n",
      "(exponential,p=4000,mu=None): [4000 1592  634  252  101   40   16    7    3    1]\n",
      "(step,p=10,mu=0.2): [1000 1000 1000 1000 1000 1000 1000 1000  100  100]\n",
      "(step,p=10,mu=0.5): [1000 1000 1000 1000 1000  100  100  100  100  100]\n",
      "(step,p=10,mu=0.8): [1000 1000  100  100  100  100  100  100  100  100]\n",
      "(linear,p=10,mu=None): [1000  900  800  700  600  500  400  300  200  100]\n",
      "(exponential,p=10,mu=None): [1000  775  600  465  360  279  216  167  130  100]\n",
      "(step,p=10,mu=0.2): [1000 1000 1000 1000 1000 1000 1000 1000  100  100]\n",
      "(step,p=10,mu=0.5): [1000 1000 1000 1000 1000  100  100  100  100  100]\n",
      "(step,p=10,mu=0.8): [1000 1000  100  100  100  100  100  100  100  100]\n",
      "(linear,p=10,mu=None): [1000  900  800  700  600  500  400  300  200  100]\n",
      "(exponential,p=10,mu=None): [1000  775  600  465  360  279  216  167  130  100]\n",
      "(step,p=10,mu=0.2): [1000 1000 1000 1000 1000 1000 1000 1000  100  100]\n",
      "(step,p=10,mu=0.5): [1000 1000 1000 1000 1000  100  100  100  100  100]\n",
      "(step,p=10,mu=0.8): [1000 1000  100  100  100  100  100  100  100  100]\n",
      "(linear,p=10,mu=None): [1000  900  800  700  600  500  400  300  200  100]\n",
      "(exponential,p=10,mu=None): [1000  775  600  465  360  279  216  167  130  100]\n",
      "(step,p=10,mu=0.2): [1000 1000 1000 1000 1000 1000 1000 1000  100  100]\n",
      "(step,p=10,mu=0.5): [1000 1000 1000 1000 1000  100  100  100  100  100]\n",
      "(step,p=10,mu=0.8): [1000 1000  100  100  100  100  100  100  100  100]\n",
      "(linear,p=10,mu=None): [1000  900  800  700  600  500  400  300  200  100]\n"
     ]
    },
    {
     "name": "stdout",
     "output_type": "stream",
     "text": [
      "(exponential,p=10,mu=None): [1000  775  600  465  360  279  216  167  130  100]\n",
      "(step,p=10,mu=0.2): [1000 1000 1000 1000 1000 1000 1000 1000  100  100]\n",
      "(step,p=10,mu=0.5): [1000 1000 1000 1000 1000  100  100  100  100  100]\n",
      "(step,p=10,mu=0.8): [1000 1000  100  100  100  100  100  100  100  100]\n",
      "(linear,p=10,mu=None): [1000  900  800  700  600  500  400  300  200  100]\n",
      "(exponential,p=10,mu=None): [1000  775  600  465  360  279  216  167  130  100]\n",
      "(step,p=25,mu=0.2): [1000 1000 1000 1000 1000 1000 1000 1000   40   40]\n",
      "(step,p=25,mu=0.5): [1000 1000 1000 1000 1000   40   40   40   40   40]\n",
      "(step,p=25,mu=0.8): [1000 1000   40   40   40   40   40   40   40   40]\n",
      "(linear,p=25,mu=None): [1000  894  787  680  574  467  360  254  147   40]\n",
      "(exponential,p=25,mu=None): [1000  700  490  342  240  168  117   82   58   40]\n",
      "(step,p=25,mu=0.2): [1000 1000 1000 1000 1000 1000 1000 1000   40   40]\n",
      "(step,p=25,mu=0.5): [1000 1000 1000 1000 1000   40   40   40   40   40]\n",
      "(step,p=25,mu=0.8): [1000 1000   40   40   40   40   40   40   40   40]\n",
      "(linear,p=25,mu=None): [1000  894  787  680  574  467  360  254  147   40]\n",
      "(exponential,p=25,mu=None): [1000  700  490  342  240  168  117   82   58   40]\n",
      "(step,p=25,mu=0.2): [1000 1000 1000 1000 1000 1000 1000 1000   40   40]\n",
      "(step,p=25,mu=0.5): [1000 1000 1000 1000 1000   40   40   40   40   40]\n",
      "(step,p=25,mu=0.8): [1000 1000   40   40   40   40   40   40   40   40]\n",
      "(linear,p=25,mu=None): [1000  894  787  680  574  467  360  254  147   40]\n",
      "(exponential,p=25,mu=None): [1000  700  490  342  240  168  117   82   58   40]\n",
      "(step,p=25,mu=0.2): [1000 1000 1000 1000 1000 1000 1000 1000   40   40]\n",
      "(step,p=25,mu=0.5): [1000 1000 1000 1000 1000   40   40   40   40   40]\n",
      "(step,p=25,mu=0.8): [1000 1000   40   40   40   40   40   40   40   40]\n",
      "(linear,p=25,mu=None): [1000  894  787  680  574  467  360  254  147   40]\n",
      "(exponential,p=25,mu=None): [1000  700  490  342  240  168  117   82   58   40]\n",
      "(step,p=25,mu=0.2): [1000 1000 1000 1000 1000 1000 1000 1000   40   40]\n",
      "(step,p=25,mu=0.5): [1000 1000 1000 1000 1000   40   40   40   40   40]\n",
      "(step,p=25,mu=0.8): [1000 1000   40   40   40   40   40   40   40   40]\n",
      "(linear,p=25,mu=None): [1000  894  787  680  574  467  360  254  147   40]\n",
      "(exponential,p=25,mu=None): [1000  700  490  342  240  168  117   82   58   40]\n",
      "(step,p=50,mu=0.2): [1000 1000 1000 1000 1000 1000 1000 1000   20   20]\n",
      "(step,p=50,mu=0.5): [1000 1000 1000 1000 1000   20   20   20   20   20]\n",
      "(step,p=50,mu=0.8): [1000 1000   20   20   20   20   20   20   20   20]\n",
      "(linear,p=50,mu=None): [1000  892  783  674  565  456  347  238  129   20]\n",
      "(exponential,p=50,mu=None): [1000  648  420  272  176  114   74   48   31   20]\n",
      "(step,p=50,mu=0.2): [1000 1000 1000 1000 1000 1000 1000 1000   20   20]\n",
      "(step,p=50,mu=0.5): [1000 1000 1000 1000 1000   20   20   20   20   20]\n",
      "(step,p=50,mu=0.8): [1000 1000   20   20   20   20   20   20   20   20]\n",
      "(linear,p=50,mu=None): [1000  892  783  674  565  456  347  238  129   20]\n",
      "(exponential,p=50,mu=None): [1000  648  420  272  176  114   74   48   31   20]\n",
      "(step,p=50,mu=0.2): [1000 1000 1000 1000 1000 1000 1000 1000   20   20]\n",
      "(step,p=50,mu=0.5): [1000 1000 1000 1000 1000   20   20   20   20   20]\n",
      "(step,p=50,mu=0.8): [1000 1000   20   20   20   20   20   20   20   20]\n",
      "(linear,p=50,mu=None): [1000  892  783  674  565  456  347  238  129   20]\n",
      "(exponential,p=50,mu=None): [1000  648  420  272  176  114   74   48   31   20]\n",
      "(step,p=50,mu=0.2): [1000 1000 1000 1000 1000 1000 1000 1000   20   20]\n",
      "(step,p=50,mu=0.5): [1000 1000 1000 1000 1000   20   20   20   20   20]\n",
      "(step,p=50,mu=0.8): [1000 1000   20   20   20   20   20   20   20   20]\n",
      "(linear,p=50,mu=None): [1000  892  783  674  565  456  347  238  129   20]\n",
      "(exponential,p=50,mu=None): [1000  648  420  272  176  114   74   48   31   20]\n",
      "(step,p=50,mu=0.2): [1000 1000 1000 1000 1000 1000 1000 1000   20   20]\n",
      "(step,p=50,mu=0.5): [1000 1000 1000 1000 1000   20   20   20   20   20]\n",
      "(step,p=50,mu=0.8): [1000 1000   20   20   20   20   20   20   20   20]\n",
      "(linear,p=50,mu=None): [1000  892  783  674  565  456  347  238  129   20]\n",
      "(exponential,p=50,mu=None): [1000  648  420  272  176  114   74   48   31   20]\n",
      "(step,p=100,mu=0.2): [1000 1000 1000 1000 1000 1000 1000 1000   10   10]\n",
      "(step,p=100,mu=0.5): [1000 1000 1000 1000 1000   10   10   10   10   10]\n",
      "(step,p=100,mu=0.8): [1000 1000   10   10   10   10   10   10   10   10]\n",
      "(linear,p=100,mu=None): [1000  890  780  670  560  450  340  230  120   10]\n",
      "(exponential,p=100,mu=None): [1000  600  360  216  130   78   47   28   17   10]\n",
      "(step,p=100,mu=0.2): [1000 1000 1000 1000 1000 1000 1000 1000   10   10]\n",
      "(step,p=100,mu=0.5): [1000 1000 1000 1000 1000   10   10   10   10   10]\n",
      "(step,p=100,mu=0.8): [1000 1000   10   10   10   10   10   10   10   10]\n",
      "(linear,p=100,mu=None): [1000  890  780  670  560  450  340  230  120   10]\n",
      "(exponential,p=100,mu=None): [1000  600  360  216  130   78   47   28   17   10]\n",
      "(step,p=100,mu=0.2): [1000 1000 1000 1000 1000 1000 1000 1000   10   10]\n",
      "(step,p=100,mu=0.5): [1000 1000 1000 1000 1000   10   10   10   10   10]\n",
      "(step,p=100,mu=0.8): [1000 1000   10   10   10   10   10   10   10   10]\n",
      "(linear,p=100,mu=None): [1000  890  780  670  560  450  340  230  120   10]\n",
      "(exponential,p=100,mu=None): [1000  600  360  216  130   78   47   28   17   10]\n",
      "(step,p=100,mu=0.2): [1000 1000 1000 1000 1000 1000 1000 1000   10   10]\n",
      "(step,p=100,mu=0.5): [1000 1000 1000 1000 1000   10   10   10   10   10]\n",
      "(step,p=100,mu=0.8): [1000 1000   10   10   10   10   10   10   10   10]\n",
      "(linear,p=100,mu=None): [1000  890  780  670  560  450  340  230  120   10]\n",
      "(exponential,p=100,mu=None): [1000  600  360  216  130   78   47   28   17   10]\n",
      "(step,p=100,mu=0.2): [1000 1000 1000 1000 1000 1000 1000 1000   10   10]\n",
      "(step,p=100,mu=0.5): [1000 1000 1000 1000 1000   10   10   10   10   10]\n",
      "(step,p=100,mu=0.8): [1000 1000   10   10   10   10   10   10   10   10]\n",
      "(linear,p=100,mu=None): [1000  890  780  670  560  450  340  230  120   10]\n",
      "(exponential,p=100,mu=None): [1000  600  360  216  130   78   47   28   17   10]\n",
      "(step,p=250,mu=0.2): [1000 1000 1000 1000 1000 1000 1000 1000    4    4]\n",
      "(step,p=250,mu=0.5): [1000 1000 1000 1000 1000    4    4    4    4    4]\n",
      "(step,p=250,mu=0.8): [1000 1000    4    4    4    4    4    4    4    4]\n",
      "(linear,p=250,mu=None): [1000  890  779  668  558  447  336  226  115    4]\n",
      "(exponential,p=250,mu=None): [1000  542  294  159   86   47   26   14    8    4]\n",
      "(step,p=250,mu=0.2): [1000 1000 1000 1000 1000 1000 1000 1000    4    4]\n",
      "(step,p=250,mu=0.5): [1000 1000 1000 1000 1000    4    4    4    4    4]\n",
      "(step,p=250,mu=0.8): [1000 1000    4    4    4    4    4    4    4    4]\n",
      "(linear,p=250,mu=None): [1000  890  779  668  558  447  336  226  115    4]\n",
      "(exponential,p=250,mu=None): [1000  542  294  159   86   47   26   14    8    4]\n",
      "(step,p=250,mu=0.2): [1000 1000 1000 1000 1000 1000 1000 1000    4    4]\n",
      "(step,p=250,mu=0.5): [1000 1000 1000 1000 1000    4    4    4    4    4]\n",
      "(step,p=250,mu=0.8): [1000 1000    4    4    4    4    4    4    4    4]\n",
      "(linear,p=250,mu=None): [1000  890  779  668  558  447  336  226  115    4]\n",
      "(exponential,p=250,mu=None): [1000  542  294  159   86   47   26   14    8    4]\n",
      "(step,p=250,mu=0.2): [1000 1000 1000 1000 1000 1000 1000 1000    4    4]\n",
      "(step,p=250,mu=0.5): [1000 1000 1000 1000 1000    4    4    4    4    4]\n",
      "(step,p=250,mu=0.8): [1000 1000    4    4    4    4    4    4    4    4]\n",
      "(linear,p=250,mu=None): [1000  890  779  668  558  447  336  226  115    4]\n",
      "(exponential,p=250,mu=None): [1000  542  294  159   86   47   26   14    8    4]\n",
      "(step,p=250,mu=0.2): [1000 1000 1000 1000 1000 1000 1000 1000    4    4]\n",
      "(step,p=250,mu=0.5): [1000 1000 1000 1000 1000    4    4    4    4    4]\n",
      "(step,p=250,mu=0.8): [1000 1000    4    4    4    4    4    4    4    4]\n",
      "(linear,p=250,mu=None): [1000  890  779  668  558  447  336  226  115    4]\n",
      "(exponential,p=250,mu=None): [1000  542  294  159   86   47   26   14    8    4]\n",
      "(step,p=500,mu=0.2): [1000 1000 1000 1000 1000 1000 1000 1000    2    2]\n",
      "(step,p=500,mu=0.5): [1000 1000 1000 1000 1000    2    2    2    2    2]\n",
      "(step,p=500,mu=0.8): [1000 1000    2    2    2    2    2    2    2    2]\n",
      "(linear,p=500,mu=None): [1000  890  779  668  557  446  335  224  113    2]\n",
      "(exponential,p=500,mu=None): [1000  502  252  126   64   32   16    8    4    2]\n",
      "(step,p=500,mu=0.2): [1000 1000 1000 1000 1000 1000 1000 1000    2    2]\n",
      "(step,p=500,mu=0.5): [1000 1000 1000 1000 1000    2    2    2    2    2]\n",
      "(step,p=500,mu=0.8): [1000 1000    2    2    2    2    2    2    2    2]\n",
      "(linear,p=500,mu=None): [1000  890  779  668  557  446  335  224  113    2]\n",
      "(exponential,p=500,mu=None): [1000  502  252  126   64   32   16    8    4    2]\n",
      "(step,p=500,mu=0.2): [1000 1000 1000 1000 1000 1000 1000 1000    2    2]\n",
      "(step,p=500,mu=0.5): [1000 1000 1000 1000 1000    2    2    2    2    2]\n",
      "(step,p=500,mu=0.8): [1000 1000    2    2    2    2    2    2    2    2]\n",
      "(linear,p=500,mu=None): [1000  890  779  668  557  446  335  224  113    2]\n",
      "(exponential,p=500,mu=None): [1000  502  252  126   64   32   16    8    4    2]\n",
      "(step,p=500,mu=0.2): [1000 1000 1000 1000 1000 1000 1000 1000    2    2]\n",
      "(step,p=500,mu=0.5): [1000 1000 1000 1000 1000    2    2    2    2    2]\n",
      "(step,p=500,mu=0.8): [1000 1000    2    2    2    2    2    2    2    2]\n",
      "(linear,p=500,mu=None): [1000  890  779  668  557  446  335  224  113    2]\n",
      "(exponential,p=500,mu=None): [1000  502  252  126   64   32   16    8    4    2]\n",
      "(step,p=500,mu=0.2): [1000 1000 1000 1000 1000 1000 1000 1000    2    2]\n"
     ]
    },
    {
     "name": "stdout",
     "output_type": "stream",
     "text": [
      "(step,p=500,mu=0.5): [1000 1000 1000 1000 1000    2    2    2    2    2]\n",
      "(step,p=500,mu=0.8): [1000 1000    2    2    2    2    2    2    2    2]\n",
      "(linear,p=500,mu=None): [1000  890  779  668  557  446  335  224  113    2]\n",
      "(exponential,p=500,mu=None): [1000  502  252  126   64   32   16    8    4    2]\n",
      "(step,p=1000,mu=0.2): [1000 1000 1000 1000 1000 1000 1000 1000    1    1]\n",
      "(step,p=1000,mu=0.5): [1000 1000 1000 1000 1000    1    1    1    1    1]\n",
      "(step,p=1000,mu=0.8): [1000 1000    1    1    1    1    1    1    1    1]\n",
      "(linear,p=1000,mu=None): [1000  889  778  667  556  445  334  223  112    1]\n",
      "(exponential,p=1000,mu=None): [1000  465  216  101   47   22   11    5    3    1]\n",
      "(step,p=1000,mu=0.2): [1000 1000 1000 1000 1000 1000 1000 1000    1    1]\n",
      "(step,p=1000,mu=0.5): [1000 1000 1000 1000 1000    1    1    1    1    1]\n",
      "(step,p=1000,mu=0.8): [1000 1000    1    1    1    1    1    1    1    1]\n",
      "(linear,p=1000,mu=None): [1000  889  778  667  556  445  334  223  112    1]\n",
      "(exponential,p=1000,mu=None): [1000  465  216  101   47   22   11    5    3    1]\n",
      "(step,p=1000,mu=0.2): [1000 1000 1000 1000 1000 1000 1000 1000    1    1]\n",
      "(step,p=1000,mu=0.5): [1000 1000 1000 1000 1000    1    1    1    1    1]\n",
      "(step,p=1000,mu=0.8): [1000 1000    1    1    1    1    1    1    1    1]\n",
      "(linear,p=1000,mu=None): [1000  889  778  667  556  445  334  223  112    1]\n",
      "(exponential,p=1000,mu=None): [1000  465  216  101   47   22   11    5    3    1]\n",
      "(step,p=1000,mu=0.2): [1000 1000 1000 1000 1000 1000 1000 1000    1    1]\n",
      "(step,p=1000,mu=0.5): [1000 1000 1000 1000 1000    1    1    1    1    1]\n",
      "(step,p=1000,mu=0.8): [1000 1000    1    1    1    1    1    1    1    1]\n",
      "(linear,p=1000,mu=None): [1000  889  778  667  556  445  334  223  112    1]\n",
      "(exponential,p=1000,mu=None): [1000  465  216  101   47   22   11    5    3    1]\n",
      "(step,p=1000,mu=0.2): [1000 1000 1000 1000 1000 1000 1000 1000    1    1]\n",
      "(step,p=1000,mu=0.5): [1000 1000 1000 1000 1000    1    1    1    1    1]\n",
      "(step,p=1000,mu=0.8): [1000 1000    1    1    1    1    1    1    1    1]\n",
      "(linear,p=1000,mu=None): [1000  889  778  667  556  445  334  223  112    1]\n",
      "(exponential,p=1000,mu=None): [1000  465  216  101   47   22   11    5    3    1]\n",
      "(step,p=2000,mu=0.2): [1000 1000 1000 1000 1000 1000 1000 1000    1    1]\n",
      "(step,p=2000,mu=0.5): [1000 1000 1000 1000 1000    1    1    1    1    1]\n",
      "(step,p=2000,mu=0.8): [1000 1000    1    1    1    1    1    1    1    1]\n",
      "(linear,p=2000,mu=None): [1000  889  778  667  556  445  334  223  112    0]\n",
      "(exponential,p=2000,mu=None): [1000  430  185   80   35   15    7    3    2    1]\n",
      "(step,p=2000,mu=0.2): [1000 1000 1000 1000 1000 1000 1000 1000    1    1]\n",
      "(step,p=2000,mu=0.5): [1000 1000 1000 1000 1000    1    1    1    1    1]\n",
      "(step,p=2000,mu=0.8): [1000 1000    1    1    1    1    1    1    1    1]\n",
      "(linear,p=2000,mu=None): [1000  889  778  667  556  445  334  223  112    0]\n",
      "(exponential,p=2000,mu=None): [1000  430  185   80   35   15    7    3    2    1]\n",
      "(step,p=2000,mu=0.2): [1000 1000 1000 1000 1000 1000 1000 1000    1    1]\n",
      "(step,p=2000,mu=0.5): [1000 1000 1000 1000 1000    1    1    1    1    1]\n",
      "(step,p=2000,mu=0.8): [1000 1000    1    1    1    1    1    1    1    1]\n",
      "(linear,p=2000,mu=None): [1000  889  778  667  556  445  334  223  112    0]\n",
      "(exponential,p=2000,mu=None): [1000  430  185   80   35   15    7    3    2    1]\n",
      "(step,p=2000,mu=0.2): [1000 1000 1000 1000 1000 1000 1000 1000    1    1]\n",
      "(step,p=2000,mu=0.5): [1000 1000 1000 1000 1000    1    1    1    1    1]\n",
      "(step,p=2000,mu=0.8): [1000 1000    1    1    1    1    1    1    1    1]\n",
      "(linear,p=2000,mu=None): [1000  889  778  667  556  445  334  223  112    0]\n",
      "(exponential,p=2000,mu=None): [1000  430  185   80   35   15    7    3    2    1]\n",
      "(step,p=2000,mu=0.2): [1000 1000 1000 1000 1000 1000 1000 1000    1    1]\n",
      "(step,p=2000,mu=0.5): [1000 1000 1000 1000 1000    1    1    1    1    1]\n",
      "(step,p=2000,mu=0.8): [1000 1000    1    1    1    1    1    1    1    1]\n",
      "(linear,p=2000,mu=None): [1000  889  778  667  556  445  334  223  112    0]\n",
      "(exponential,p=2000,mu=None): [1000  430  185   80   35   15    7    3    2    1]\n",
      "(step,p=4000,mu=0.2): [1000 1000 1000 1000 1000 1000 1000 1000    1    1]\n",
      "(step,p=4000,mu=0.5): [1000 1000 1000 1000 1000    1    1    1    1    1]\n",
      "(step,p=4000,mu=0.8): [1000 1000    1    1    1    1    1    1    1    1]\n",
      "(linear,p=4000,mu=None): [1000  889  778  667  556  445  334  223  112    0]\n",
      "(exponential,p=4000,mu=None): [1000  398  159   63   26   10    4    2    1    1]\n",
      "(step,p=4000,mu=0.2): [1000 1000 1000 1000 1000 1000 1000 1000    1    1]\n",
      "(step,p=4000,mu=0.5): [1000 1000 1000 1000 1000    1    1    1    1    1]\n",
      "(step,p=4000,mu=0.8): [1000 1000    1    1    1    1    1    1    1    1]\n",
      "(linear,p=4000,mu=None): [1000  889  778  667  556  445  334  223  112    0]\n",
      "(exponential,p=4000,mu=None): [1000  398  159   63   26   10    4    2    1    1]\n",
      "(step,p=4000,mu=0.2): [1000 1000 1000 1000 1000 1000 1000 1000    1    1]\n",
      "(step,p=4000,mu=0.5): [1000 1000 1000 1000 1000    1    1    1    1    1]\n",
      "(step,p=4000,mu=0.8): [1000 1000    1    1    1    1    1    1    1    1]\n",
      "(linear,p=4000,mu=None): [1000  889  778  667  556  445  334  223  112    0]\n",
      "(exponential,p=4000,mu=None): [1000  398  159   63   26   10    4    2    1    1]\n",
      "(step,p=4000,mu=0.2): [1000 1000 1000 1000 1000 1000 1000 1000    1    1]\n",
      "(step,p=4000,mu=0.5): [1000 1000 1000 1000 1000    1    1    1    1    1]\n",
      "(step,p=4000,mu=0.8): [1000 1000    1    1    1    1    1    1    1    1]\n",
      "(linear,p=4000,mu=None): [1000  889  778  667  556  445  334  223  112    0]\n",
      "(exponential,p=4000,mu=None): [1000  398  159   63   26   10    4    2    1    1]\n",
      "(step,p=4000,mu=0.2): [1000 1000 1000 1000 1000 1000 1000 1000    1    1]\n",
      "(step,p=4000,mu=0.5): [1000 1000 1000 1000 1000    1    1    1    1    1]\n",
      "(step,p=4000,mu=0.8): [1000 1000    1    1    1    1    1    1    1    1]\n",
      "(linear,p=4000,mu=None): [1000  889  778  667  556  445  334  223  112    0]\n",
      "(exponential,p=4000,mu=None): [1000  398  159   63   26   10    4    2    1    1]\n"
     ]
    }
   ],
   "source": [
    "generate_indexs('MNIST', p_MNIST, mu_MNIST, permutations, \n",
    "                MNIST_train_idx_dic, MNIST_train_idx,\n",
    "                MNIST_eval_idx_dic, MNIST_eval_idx)"
   ]
  },
  {
   "cell_type": "code",
   "execution_count": 7,
   "metadata": {
    "scrolled": true
   },
   "outputs": [
    {
     "name": "stdout",
     "output_type": "stream",
     "text": [
      "(step,p=2,mu=0.2): [4000 4000 4000 4000 4000 4000 4000 4000 2000 2000]\n",
      "(step,p=2,mu=0.5): [4000 4000 4000 4000 4000 2000 2000 2000 2000 2000]\n",
      "(step,p=2,mu=0.8): [4000 4000 2000 2000 2000 2000 2000 2000 2000 2000]\n",
      "(linear,p=2,mu=None): [4000 3778 3556 3334 3112 2889 2667 2445 2223 2000]\n",
      "(exponential,p=2,mu=None): [4000 3704 3429 3175 2940 2722 2520 2334 2161 2000]\n",
      "(step,p=2,mu=0.2): [4000 4000 4000 4000 4000 4000 4000 4000 2000 2000]\n",
      "(step,p=2,mu=0.5): [4000 4000 4000 4000 4000 2000 2000 2000 2000 2000]\n",
      "(step,p=2,mu=0.8): [4000 4000 2000 2000 2000 2000 2000 2000 2000 2000]\n",
      "(linear,p=2,mu=None): [4000 3778 3556 3334 3112 2889 2667 2445 2223 2000]\n",
      "(exponential,p=2,mu=None): [4000 3704 3429 3175 2940 2722 2520 2334 2161 2000]\n",
      "(step,p=2,mu=0.2): [4000 4000 4000 4000 4000 4000 4000 4000 2000 2000]\n",
      "(step,p=2,mu=0.5): [4000 4000 4000 4000 4000 2000 2000 2000 2000 2000]\n",
      "(step,p=2,mu=0.8): [4000 4000 2000 2000 2000 2000 2000 2000 2000 2000]\n",
      "(linear,p=2,mu=None): [4000 3778 3556 3334 3112 2889 2667 2445 2223 2000]\n",
      "(exponential,p=2,mu=None): [4000 3704 3429 3175 2940 2722 2520 2334 2161 2000]\n",
      "(step,p=2,mu=0.2): [4000 4000 4000 4000 4000 4000 4000 4000 2000 2000]\n",
      "(step,p=2,mu=0.5): [4000 4000 4000 4000 4000 2000 2000 2000 2000 2000]\n",
      "(step,p=2,mu=0.8): [4000 4000 2000 2000 2000 2000 2000 2000 2000 2000]\n",
      "(linear,p=2,mu=None): [4000 3778 3556 3334 3112 2889 2667 2445 2223 2000]\n",
      "(exponential,p=2,mu=None): [4000 3704 3429 3175 2940 2722 2520 2334 2161 2000]\n",
      "(step,p=2,mu=0.2): [4000 4000 4000 4000 4000 4000 4000 4000 2000 2000]\n",
      "(step,p=2,mu=0.5): [4000 4000 4000 4000 4000 2000 2000 2000 2000 2000]\n",
      "(step,p=2,mu=0.8): [4000 4000 2000 2000 2000 2000 2000 2000 2000 2000]\n",
      "(linear,p=2,mu=None): [4000 3778 3556 3334 3112 2889 2667 2445 2223 2000]\n",
      "(exponential,p=2,mu=None): [4000 3704 3429 3175 2940 2722 2520 2334 2161 2000]\n",
      "(step,p=10,mu=0.2): [4000 4000 4000 4000 4000 4000 4000 4000  400  400]\n",
      "(step,p=10,mu=0.5): [4000 4000 4000 4000 4000  400  400  400  400  400]\n",
      "(step,p=10,mu=0.8): [4000 4000  400  400  400  400  400  400  400  400]\n",
      "(linear,p=10,mu=None): [4000 3600 3200 2800 2400 2000 1600 1200  800  400]\n",
      "(exponential,p=10,mu=None): [4000 3098 2398 1857 1438 1114  862  668  517  400]\n",
      "(step,p=10,mu=0.2): [4000 4000 4000 4000 4000 4000 4000 4000  400  400]\n",
      "(step,p=10,mu=0.5): [4000 4000 4000 4000 4000  400  400  400  400  400]\n",
      "(step,p=10,mu=0.8): [4000 4000  400  400  400  400  400  400  400  400]\n",
      "(linear,p=10,mu=None): [4000 3600 3200 2800 2400 2000 1600 1200  800  400]\n",
      "(exponential,p=10,mu=None): [4000 3098 2398 1857 1438 1114  862  668  517  400]\n",
      "(step,p=10,mu=0.2): [4000 4000 4000 4000 4000 4000 4000 4000  400  400]\n",
      "(step,p=10,mu=0.5): [4000 4000 4000 4000 4000  400  400  400  400  400]\n",
      "(step,p=10,mu=0.8): [4000 4000  400  400  400  400  400  400  400  400]\n",
      "(linear,p=10,mu=None): [4000 3600 3200 2800 2400 2000 1600 1200  800  400]\n",
      "(exponential,p=10,mu=None): [4000 3098 2398 1857 1438 1114  862  668  517  400]\n",
      "(step,p=10,mu=0.2): [4000 4000 4000 4000 4000 4000 4000 4000  400  400]\n",
      "(step,p=10,mu=0.5): [4000 4000 4000 4000 4000  400  400  400  400  400]\n",
      "(step,p=10,mu=0.8): [4000 4000  400  400  400  400  400  400  400  400]\n",
      "(linear,p=10,mu=None): [4000 3600 3200 2800 2400 2000 1600 1200  800  400]\n",
      "(exponential,p=10,mu=None): [4000 3098 2398 1857 1438 1114  862  668  517  400]\n",
      "(step,p=10,mu=0.2): [4000 4000 4000 4000 4000 4000 4000 4000  400  400]\n",
      "(step,p=10,mu=0.5): [4000 4000 4000 4000 4000  400  400  400  400  400]\n",
      "(step,p=10,mu=0.8): [4000 4000  400  400  400  400  400  400  400  400]\n",
      "(linear,p=10,mu=None): [4000 3600 3200 2800 2400 2000 1600 1200  800  400]\n",
      "(exponential,p=10,mu=None): [4000 3098 2398 1857 1438 1114  862  668  517  400]\n",
      "(step,p=20,mu=0.2): [4000 4000 4000 4000 4000 4000 4000 4000  200  200]\n",
      "(step,p=20,mu=0.5): [4000 4000 4000 4000 4000  200  200  200  200  200]\n",
      "(step,p=20,mu=0.8): [4000 4000  200  200  200  200  200  200  200  200]\n",
      "(linear,p=20,mu=None): [4000 3578 3156 2734 2312 1889 1467 1045  623  200]\n",
      "(exponential,p=20,mu=None): [4000 2868 2056 1474 1057  758  543  390  279  200]\n",
      "(step,p=20,mu=0.2): [4000 4000 4000 4000 4000 4000 4000 4000  200  200]\n",
      "(step,p=20,mu=0.5): [4000 4000 4000 4000 4000  200  200  200  200  200]\n",
      "(step,p=20,mu=0.8): [4000 4000  200  200  200  200  200  200  200  200]\n",
      "(linear,p=20,mu=None): [4000 3578 3156 2734 2312 1889 1467 1045  623  200]\n",
      "(exponential,p=20,mu=None): [4000 2868 2056 1474 1057  758  543  390  279  200]\n",
      "(step,p=20,mu=0.2): [4000 4000 4000 4000 4000 4000 4000 4000  200  200]\n",
      "(step,p=20,mu=0.5): [4000 4000 4000 4000 4000  200  200  200  200  200]\n",
      "(step,p=20,mu=0.8): [4000 4000  200  200  200  200  200  200  200  200]\n",
      "(linear,p=20,mu=None): [4000 3578 3156 2734 2312 1889 1467 1045  623  200]\n",
      "(exponential,p=20,mu=None): [4000 2868 2056 1474 1057  758  543  390  279  200]\n",
      "(step,p=20,mu=0.2): [4000 4000 4000 4000 4000 4000 4000 4000  200  200]\n",
      "(step,p=20,mu=0.5): [4000 4000 4000 4000 4000  200  200  200  200  200]\n",
      "(step,p=20,mu=0.8): [4000 4000  200  200  200  200  200  200  200  200]\n",
      "(linear,p=20,mu=None): [4000 3578 3156 2734 2312 1889 1467 1045  623  200]\n",
      "(exponential,p=20,mu=None): [4000 2868 2056 1474 1057  758  543  390  279  200]\n",
      "(step,p=20,mu=0.2): [4000 4000 4000 4000 4000 4000 4000 4000  200  200]\n",
      "(step,p=20,mu=0.5): [4000 4000 4000 4000 4000  200  200  200  200  200]\n",
      "(step,p=20,mu=0.8): [4000 4000  200  200  200  200  200  200  200  200]\n",
      "(linear,p=20,mu=None): [4000 3578 3156 2734 2312 1889 1467 1045  623  200]\n",
      "(exponential,p=20,mu=None): [4000 2868 2056 1474 1057  758  543  390  279  200]\n",
      "(step,p=40,mu=0.2): [4000 4000 4000 4000 4000 4000 4000 4000  100  100]\n",
      "(step,p=40,mu=0.5): [4000 4000 4000 4000 4000  100  100  100  100  100]\n",
      "(step,p=40,mu=0.8): [4000 4000  100  100  100  100  100  100  100  100]\n",
      "(linear,p=40,mu=None): [4000 3567 3134 2700 2267 1834 1400  967  534  100]\n",
      "(exponential,p=40,mu=None): [4000 2655 1763 1170  777  516  342  227  151  100]\n",
      "(step,p=40,mu=0.2): [4000 4000 4000 4000 4000 4000 4000 4000  100  100]\n",
      "(step,p=40,mu=0.5): [4000 4000 4000 4000 4000  100  100  100  100  100]\n",
      "(step,p=40,mu=0.8): [4000 4000  100  100  100  100  100  100  100  100]\n",
      "(linear,p=40,mu=None): [4000 3567 3134 2700 2267 1834 1400  967  534  100]\n",
      "(exponential,p=40,mu=None): [4000 2655 1763 1170  777  516  342  227  151  100]\n",
      "(step,p=40,mu=0.2): [4000 4000 4000 4000 4000 4000 4000 4000  100  100]\n",
      "(step,p=40,mu=0.5): [4000 4000 4000 4000 4000  100  100  100  100  100]\n",
      "(step,p=40,mu=0.8): [4000 4000  100  100  100  100  100  100  100  100]\n",
      "(linear,p=40,mu=None): [4000 3567 3134 2700 2267 1834 1400  967  534  100]\n",
      "(exponential,p=40,mu=None): [4000 2655 1763 1170  777  516  342  227  151  100]\n",
      "(step,p=40,mu=0.2): [4000 4000 4000 4000 4000 4000 4000 4000  100  100]\n",
      "(step,p=40,mu=0.5): [4000 4000 4000 4000 4000  100  100  100  100  100]\n",
      "(step,p=40,mu=0.8): [4000 4000  100  100  100  100  100  100  100  100]\n",
      "(linear,p=40,mu=None): [4000 3567 3134 2700 2267 1834 1400  967  534  100]\n",
      "(exponential,p=40,mu=None): [4000 2655 1763 1170  777  516  342  227  151  100]\n",
      "(step,p=40,mu=0.2): [4000 4000 4000 4000 4000 4000 4000 4000  100  100]\n",
      "(step,p=40,mu=0.5): [4000 4000 4000 4000 4000  100  100  100  100  100]\n",
      "(step,p=40,mu=0.8): [4000 4000  100  100  100  100  100  100  100  100]\n",
      "(linear,p=40,mu=None): [4000 3567 3134 2700 2267 1834 1400  967  534  100]\n",
      "(exponential,p=40,mu=None): [4000 2655 1763 1170  777  516  342  227  151  100]\n",
      "(step,p=2,mu=0.2): [1000 1000 1000 1000 1000 1000 1000 1000  500  500]\n",
      "(step,p=2,mu=0.5): [1000 1000 1000 1000 1000  500  500  500  500  500]\n",
      "(step,p=2,mu=0.8): [1000 1000  500  500  500  500  500  500  500  500]\n",
      "(linear,p=2,mu=None): [1000  945  889  834  778  723  667  612  556  500]\n",
      "(exponential,p=2,mu=None): [1000  926  858  794  735  681  630  584  541  500]\n",
      "(step,p=2,mu=0.2): [1000 1000 1000 1000 1000 1000 1000 1000  500  500]\n",
      "(step,p=2,mu=0.5): [1000 1000 1000 1000 1000  500  500  500  500  500]\n",
      "(step,p=2,mu=0.8): [1000 1000  500  500  500  500  500  500  500  500]\n",
      "(linear,p=2,mu=None): [1000  945  889  834  778  723  667  612  556  500]\n",
      "(exponential,p=2,mu=None): [1000  926  858  794  735  681  630  584  541  500]\n",
      "(step,p=2,mu=0.2): [1000 1000 1000 1000 1000 1000 1000 1000  500  500]\n",
      "(step,p=2,mu=0.5): [1000 1000 1000 1000 1000  500  500  500  500  500]\n",
      "(step,p=2,mu=0.8): [1000 1000  500  500  500  500  500  500  500  500]\n"
     ]
    },
    {
     "name": "stdout",
     "output_type": "stream",
     "text": [
      "(linear,p=2,mu=None): [1000  945  889  834  778  723  667  612  556  500]\n",
      "(exponential,p=2,mu=None): [1000  926  858  794  735  681  630  584  541  500]\n",
      "(step,p=2,mu=0.2): [1000 1000 1000 1000 1000 1000 1000 1000  500  500]\n",
      "(step,p=2,mu=0.5): [1000 1000 1000 1000 1000  500  500  500  500  500]\n",
      "(step,p=2,mu=0.8): [1000 1000  500  500  500  500  500  500  500  500]\n",
      "(linear,p=2,mu=None): [1000  945  889  834  778  723  667  612  556  500]\n",
      "(exponential,p=2,mu=None): [1000  926  858  794  735  681  630  584  541  500]\n",
      "(step,p=2,mu=0.2): [1000 1000 1000 1000 1000 1000 1000 1000  500  500]\n",
      "(step,p=2,mu=0.5): [1000 1000 1000 1000 1000  500  500  500  500  500]\n",
      "(step,p=2,mu=0.8): [1000 1000  500  500  500  500  500  500  500  500]\n",
      "(linear,p=2,mu=None): [1000  945  889  834  778  723  667  612  556  500]\n",
      "(exponential,p=2,mu=None): [1000  926  858  794  735  681  630  584  541  500]\n",
      "(step,p=10,mu=0.2): [1000 1000 1000 1000 1000 1000 1000 1000  100  100]\n",
      "(step,p=10,mu=0.5): [1000 1000 1000 1000 1000  100  100  100  100  100]\n",
      "(step,p=10,mu=0.8): [1000 1000  100  100  100  100  100  100  100  100]\n",
      "(linear,p=10,mu=None): [1000  900  800  700  600  500  400  300  200  100]\n",
      "(exponential,p=10,mu=None): [1000  775  600  465  360  279  216  167  130  100]\n",
      "(step,p=10,mu=0.2): [1000 1000 1000 1000 1000 1000 1000 1000  100  100]\n",
      "(step,p=10,mu=0.5): [1000 1000 1000 1000 1000  100  100  100  100  100]\n",
      "(step,p=10,mu=0.8): [1000 1000  100  100  100  100  100  100  100  100]\n",
      "(linear,p=10,mu=None): [1000  900  800  700  600  500  400  300  200  100]\n",
      "(exponential,p=10,mu=None): [1000  775  600  465  360  279  216  167  130  100]\n",
      "(step,p=10,mu=0.2): [1000 1000 1000 1000 1000 1000 1000 1000  100  100]\n",
      "(step,p=10,mu=0.5): [1000 1000 1000 1000 1000  100  100  100  100  100]\n",
      "(step,p=10,mu=0.8): [1000 1000  100  100  100  100  100  100  100  100]\n",
      "(linear,p=10,mu=None): [1000  900  800  700  600  500  400  300  200  100]\n",
      "(exponential,p=10,mu=None): [1000  775  600  465  360  279  216  167  130  100]\n",
      "(step,p=10,mu=0.2): [1000 1000 1000 1000 1000 1000 1000 1000  100  100]\n",
      "(step,p=10,mu=0.5): [1000 1000 1000 1000 1000  100  100  100  100  100]\n",
      "(step,p=10,mu=0.8): [1000 1000  100  100  100  100  100  100  100  100]\n",
      "(linear,p=10,mu=None): [1000  900  800  700  600  500  400  300  200  100]\n",
      "(exponential,p=10,mu=None): [1000  775  600  465  360  279  216  167  130  100]\n",
      "(step,p=10,mu=0.2): [1000 1000 1000 1000 1000 1000 1000 1000  100  100]\n",
      "(step,p=10,mu=0.5): [1000 1000 1000 1000 1000  100  100  100  100  100]\n",
      "(step,p=10,mu=0.8): [1000 1000  100  100  100  100  100  100  100  100]\n",
      "(linear,p=10,mu=None): [1000  900  800  700  600  500  400  300  200  100]\n",
      "(exponential,p=10,mu=None): [1000  775  600  465  360  279  216  167  130  100]\n",
      "(step,p=20,mu=0.2): [1000 1000 1000 1000 1000 1000 1000 1000   50   50]\n",
      "(step,p=20,mu=0.5): [1000 1000 1000 1000 1000   50   50   50   50   50]\n",
      "(step,p=20,mu=0.8): [1000 1000   50   50   50   50   50   50   50   50]\n",
      "(linear,p=20,mu=None): [1000  895  789  684  578  473  367  262  156   50]\n",
      "(exponential,p=20,mu=None): [1000  717  514  369  265  190  136   98   70   50]\n",
      "(step,p=20,mu=0.2): [1000 1000 1000 1000 1000 1000 1000 1000   50   50]\n",
      "(step,p=20,mu=0.5): [1000 1000 1000 1000 1000   50   50   50   50   50]\n",
      "(step,p=20,mu=0.8): [1000 1000   50   50   50   50   50   50   50   50]\n",
      "(linear,p=20,mu=None): [1000  895  789  684  578  473  367  262  156   50]\n",
      "(exponential,p=20,mu=None): [1000  717  514  369  265  190  136   98   70   50]\n",
      "(step,p=20,mu=0.2): [1000 1000 1000 1000 1000 1000 1000 1000   50   50]\n",
      "(step,p=20,mu=0.5): [1000 1000 1000 1000 1000   50   50   50   50   50]\n",
      "(step,p=20,mu=0.8): [1000 1000   50   50   50   50   50   50   50   50]\n",
      "(linear,p=20,mu=None): [1000  895  789  684  578  473  367  262  156   50]\n",
      "(exponential,p=20,mu=None): [1000  717  514  369  265  190  136   98   70   50]\n",
      "(step,p=20,mu=0.2): [1000 1000 1000 1000 1000 1000 1000 1000   50   50]\n",
      "(step,p=20,mu=0.5): [1000 1000 1000 1000 1000   50   50   50   50   50]\n",
      "(step,p=20,mu=0.8): [1000 1000   50   50   50   50   50   50   50   50]\n",
      "(linear,p=20,mu=None): [1000  895  789  684  578  473  367  262  156   50]\n",
      "(exponential,p=20,mu=None): [1000  717  514  369  265  190  136   98   70   50]\n",
      "(step,p=20,mu=0.2): [1000 1000 1000 1000 1000 1000 1000 1000   50   50]\n",
      "(step,p=20,mu=0.5): [1000 1000 1000 1000 1000   50   50   50   50   50]\n",
      "(step,p=20,mu=0.8): [1000 1000   50   50   50   50   50   50   50   50]\n",
      "(linear,p=20,mu=None): [1000  895  789  684  578  473  367  262  156   50]\n",
      "(exponential,p=20,mu=None): [1000  717  514  369  265  190  136   98   70   50]\n",
      "(step,p=40,mu=0.2): [1000 1000 1000 1000 1000 1000 1000 1000   25   25]\n",
      "(step,p=40,mu=0.5): [1000 1000 1000 1000 1000   25   25   25   25   25]\n",
      "(step,p=40,mu=0.8): [1000 1000   25   25   25   25   25   25   25   25]\n",
      "(linear,p=40,mu=None): [1000  892  784  675  567  459  350  242  134   25]\n",
      "(exponential,p=40,mu=None): [1000  664  441  293  195  129   86   57   38   25]\n",
      "(step,p=40,mu=0.2): [1000 1000 1000 1000 1000 1000 1000 1000   25   25]\n",
      "(step,p=40,mu=0.5): [1000 1000 1000 1000 1000   25   25   25   25   25]\n",
      "(step,p=40,mu=0.8): [1000 1000   25   25   25   25   25   25   25   25]\n",
      "(linear,p=40,mu=None): [1000  892  784  675  567  459  350  242  134   25]\n",
      "(exponential,p=40,mu=None): [1000  664  441  293  195  129   86   57   38   25]\n",
      "(step,p=40,mu=0.2): [1000 1000 1000 1000 1000 1000 1000 1000   25   25]\n",
      "(step,p=40,mu=0.5): [1000 1000 1000 1000 1000   25   25   25   25   25]\n",
      "(step,p=40,mu=0.8): [1000 1000   25   25   25   25   25   25   25   25]\n",
      "(linear,p=40,mu=None): [1000  892  784  675  567  459  350  242  134   25]\n",
      "(exponential,p=40,mu=None): [1000  664  441  293  195  129   86   57   38   25]\n",
      "(step,p=40,mu=0.2): [1000 1000 1000 1000 1000 1000 1000 1000   25   25]\n",
      "(step,p=40,mu=0.5): [1000 1000 1000 1000 1000   25   25   25   25   25]\n",
      "(step,p=40,mu=0.8): [1000 1000   25   25   25   25   25   25   25   25]\n",
      "(linear,p=40,mu=None): [1000  892  784  675  567  459  350  242  134   25]\n",
      "(exponential,p=40,mu=None): [1000  664  441  293  195  129   86   57   38   25]\n",
      "(step,p=40,mu=0.2): [1000 1000 1000 1000 1000 1000 1000 1000   25   25]\n",
      "(step,p=40,mu=0.5): [1000 1000 1000 1000 1000   25   25   25   25   25]\n",
      "(step,p=40,mu=0.8): [1000 1000   25   25   25   25   25   25   25   25]\n",
      "(linear,p=40,mu=None): [1000  892  784  675  567  459  350  242  134   25]\n",
      "(exponential,p=40,mu=None): [1000  664  441  293  195  129   86   57   38   25]\n"
     ]
    }
   ],
   "source": [
    "generate_indexs('CIFAR10', p_CIFAR10, mu_CIFAR10, permutations,\n",
    "                CIFAR10_train_idx_dic, CIFAR10_train_idx,\n",
    "                CIFAR10_eval_idx_dic, CIFAR10_eval_idx)"
   ]
  },
  {
   "cell_type": "code",
   "execution_count": 8,
   "metadata": {},
   "outputs": [],
   "source": [
    "# create ROS indexs\n",
    "def generate_ros_indexs(dataset_name, dataset_targets, p_list, mu_list, permutations, randomState):\n",
    "    path = os.path.join(\"Indexs\", dataset_name)\n",
    "    # generate unbalanced train set index\n",
    "    train_max = train_max_size\n",
    "    class_size = 10\n",
    "    \n",
    "    for p in p_list:\n",
    "        num = 0\n",
    "        for permutation in permutations:\n",
    "            num += 1\n",
    "            for mu in mu_list:\n",
    "                # STEP\n",
    "                imbalanced_idx = np.load(os.path.join(path, \"p_\"+str(p), \"mu_\"+str(mu), str(num)+\".npy\"))\n",
    "                imbalanced_idx_dic =  CustomDataset.produce_idx_dic(dataset_targets[imbalanced_idx])\n",
    "                ROS_idx = CustomDataset.duplicate_idxs(imbalanced_idx_dic, 4000, randomState=randomState)\n",
    "                file_name = os.path.join(path, \"p_\"+str(p), \"mu_\"+str(mu), str(num)+\"_ros\")\n",
    "                np.save(file_name, imbalanced_idx[ROS_idx])\n",
    "                \n",
    "                #print(len(CustomDataset.produce_idx_dic(dataset_targets[imbalanced_idx[ROS_idx]])[0]))\n",
    "            \n",
    "            # LINEAR\n",
    "            imbalanced_idx = np.load(os.path.join(path, \"p_\"+str(p), LINEAR, str(num)+\".npy\"))\n",
    "            imbalanced_idx_dic =  CustomDataset.produce_idx_dic(dataset_targets[imbalanced_idx])\n",
    "            ROS_idx = CustomDataset.duplicate_idxs(imbalanced_idx_dic, 4000, randomState=randomState)\n",
    "            file_name = os.path.join(path, \"p_\"+str(p), LINEAR, str(num)+\"_ros\")\n",
    "            np.save(file_name, imbalanced_idx[ROS_idx])\n",
    "            \n",
    "            #print(len(CustomDataset.produce_idx_dic(dataset_targets[imbalanced_idx[ROS_idx]])[0]))\n",
    "            \n",
    "            # EXPONENTIAL\n",
    "            imbalanced_idx = np.load(os.path.join(path, \"p_\"+str(p), EXPONENTIAL, str(num)+\".npy\"))\n",
    "            imbalanced_idx_dic =  CustomDataset.produce_idx_dic(dataset_targets[imbalanced_idx])\n",
    "            ROS_idx = CustomDataset.duplicate_idxs(imbalanced_idx_dic, 4000, randomState=randomState)\n",
    "            file_name = os.path.join(path, \"p_\"+str(p), EXPONENTIAL, str(num)+\"_ros\")\n",
    "            np.save(file_name, imbalanced_idx[ROS_idx])\n",
    "            \n",
    "            #print(len(CustomDataset.produce_idx_dic(dataset_targets[imbalanced_idx[ROS_idx]])[0]))\n"
   ]
  },
  {
   "cell_type": "code",
   "execution_count": 9,
   "metadata": {
    "scrolled": true
   },
   "outputs": [],
   "source": [
    "generate_ros_indexs(\"MNIST\", MNIST.targets, p_MNIST, mu_MNIST, permutations, randomState)\n",
    "generate_ros_indexs(\"CIFAR10\", np.array(CIFAR10.targets), p_CIFAR10, mu_CIFAR10, permutations, randomState)"
   ]
  },
  {
   "cell_type": "code",
   "execution_count": 10,
   "metadata": {},
   "outputs": [],
   "source": [
    "# create dataset partition for imbalanced ditribution\n",
    "def generate_class_partition(imbalance_index_dic):\n",
    "    dtype = [('key', int), ('size', int)]\n",
    "    sizes = np.array([(0,0)]*len(imbalance_index_dic.keys()), dtype)\n",
    "    total_size = 0\n",
    "\n",
    "    for (k,v) in imbalance_index_dic.items():\n",
    "        sizes[k] = (k,len(v))\n",
    "        total_size = total_size + len(v)\n",
    "\n",
    "    sizes[::-1].sort(order='size')\n",
    "    partition, structure = recursive_partition(sizes, total_size)\n",
    "    print(structure)\n",
    "    print(\"\")\n",
    "    return partition\n",
    "\n",
    "def recursive_partition(sizes, total_size):\n",
    "    # param sizes: list of data where dtype = [('key', int), ('size', int)]\n",
    "    if (len(sizes) == 1):\n",
    "        return dataset_partition(old_class_number = sizes[0][0]), sizes[0]\n",
    "    \n",
    "    class_zero_size = 0\n",
    "    partition_point = 0\n",
    "    classes = np.array([-1]*10)\n",
    "    \n",
    "    while class_zero_size < total_size/2:\n",
    "        class_zero_size = class_zero_size + sizes[partition_point][1]\n",
    "        classes[sizes[partition_point][0]] = 0\n",
    "        partition_point = partition_point+1\n",
    "    \n",
    "    for i in range(partition_point, len(sizes)):\n",
    "        classes[sizes[i][0]] = 1\n",
    "    \n",
    "    child_1, structure_1 = recursive_partition(sizes[0:partition_point], class_zero_size)\n",
    "    child_2, structure_2 = recursive_partition(sizes[partition_point:], total_size-class_zero_size)\n",
    "    \n",
    "    children = [child_1, child_2]\n",
    "    \n",
    "    return dataset_partition(classes=classes, children=children), [structure_1, structure_2]\n",
    "\n",
    "def check_dataset_partition(partition):\n",
    "    classes = np.array([0,1,2,3,4,5,6,7,8,9])\n",
    "    frontier = partition.children[:]\n",
    "    while len(frontier) != 0:\n",
    "        item = frontier.pop(0)\n",
    "        if (not item.has_children):\n",
    "            print(item.old_class_number)\n",
    "        else:\n",
    "            frontier = frontier+item.children[:]\n",
    "            temp = classes[item.classes!=-1]\n",
    "            print(temp)\n",
    "\n",
    "def check_idx_dic(idx_dic):\n",
    "    for k, v in idx_dic.items():\n",
    "        print(str((k,len(v))), end=' ')\n",
    "    print(\"\")\n",
    "\n",
    "def generate_hierarchical_partition(dataset_name, dataset_targets, p_list, mu_list, permutations):\n",
    "    path = os.path.join(\"Indexs\", dataset_name)\n",
    "    # generate unbalanced train set index\n",
    "    train_max = train_max_size\n",
    "    class_size = 10\n",
    "    \n",
    "    for p in p_list:\n",
    "        num = 0\n",
    "        for permutation in permutations:\n",
    "            num += 1\n",
    "            for mu in mu_list:\n",
    "                # STEP\n",
    "                imbalanced_idx = np.load(os.path.join(path, \"p_\"+str(p), \"mu_\"+str(mu), str(num)+\".npy\"))\n",
    "                imbalanced_idx_dic =  CustomDataset.produce_idx_dic(dataset_targets[imbalanced_idx])\n",
    "                partition = generate_class_partition(imbalanced_idx_dic)\n",
    "                file_name = os.path.join(path, \"p_\"+str(p), \"mu_\"+str(mu), str(num)+\"_h.txt\")\n",
    "                with open(file_name, 'wb') as f:\n",
    "                    pickle.dump(partition, f)\n",
    "                \n",
    "                #print(len(CustomDataset.produce_idx_dic(dataset_targets[imbalanced_idx[ROS_idx]])[0]))\n",
    "            \n",
    "            # LINEAR\n",
    "            imbalanced_idx = np.load(os.path.join(path, \"p_\"+str(p), LINEAR, str(num)+\".npy\"))\n",
    "            imbalanced_idx_dic =  CustomDataset.produce_idx_dic(dataset_targets[imbalanced_idx])\n",
    "            #check_idx_dic(imbalanced_idx_dic)\n",
    "            partition = generate_class_partition(imbalanced_idx_dic)\n",
    "            #check_dataset_partition(partition)\n",
    "            file_name = os.path.join(path, \"p_\"+str(p), LINEAR, str(num)+\"_h.txt\")\n",
    "            with open(file_name, 'wb') as f:\n",
    "                pickle.dump(partition, f)\n",
    "            \n",
    "            #print(len(CustomDataset.produce_idx_dic(dataset_targets[imbalanced_idx[ROS_idx]])[0]))\n",
    "            \n",
    "            # EXPONENTIAL\n",
    "            imbalanced_idx = np.load(os.path.join(path, \"p_\"+str(p), EXPONENTIAL, str(num)+\".npy\"))\n",
    "            imbalanced_idx_dic =  CustomDataset.produce_idx_dic(dataset_targets[imbalanced_idx])\n",
    "            partition = generate_class_partition(imbalanced_idx_dic)\n",
    "            file_name = os.path.join(path, \"p_\"+str(p), EXPONENTIAL, str(num)+\"_h.txt\")\n",
    "            with open(file_name, 'wb') as f:\n",
    "                pickle.dump(partition, f)\n",
    "            \n",
    "            #print(len(CustomDataset.produce_idx_dic(dataset_targets[imbalanced_idx[ROS_idx]])[0]))"
   ]
  },
  {
   "cell_type": "code",
   "execution_count": 11,
   "metadata": {
    "scrolled": true
   },
   "outputs": [
    {
     "name": "stdout",
     "output_type": "stream",
     "text": [
      "[[[[(7, 4000), (6, 4000)], (5, 4000)], [(4, 4000), (3, 4000)]], [[(2, 4000), (1, 4000)], [(0, 4000), [(9, 400), (8, 400)]]]]\n",
      "\n",
      "[[[(4, 4000), (3, 4000)], (2, 4000)], [[(1, 4000), (0, 4000)], [[[(9, 400), (8, 400)], (7, 400)], [(6, 400), (5, 400)]]]]\n",
      "\n",
      "[[(1, 4000), (0, 4000)], [[[(9, 400), (8, 400)], [(7, 400), (6, 400)]], [[(5, 400), (4, 400)], [(3, 400), (2, 400)]]]]\n",
      "\n",
      "[[[(0, 4000), (1, 3600)], [(2, 3200), (3, 2800)]], [[(4, 2400), (5, 2000)], [[(6, 1600), (7, 1200)], [(8, 800), (9, 400)]]]]\n",
      "\n",
      "[[[(0, 4000), (1, 3098)], (2, 2398)], [[[(3, 1857), (4, 1438)], (5, 1114)], [[(6, 862), (7, 668)], [(8, 517), (9, 400)]]]]\n",
      "\n",
      "[[[[(9, 4000), (8, 4000)], (7, 4000)], [(6, 4000), (4, 4000)]], [[(3, 4000), (2, 4000)], [(1, 4000), [(5, 400), (0, 400)]]]]\n",
      "\n",
      "[[[(9, 4000), (6, 4000)], (3, 4000)], [[(2, 4000), (1, 4000)], [[[(8, 400), (7, 400)], (5, 400)], [(4, 400), (0, 400)]]]]\n",
      "\n",
      "[[(9, 4000), (6, 4000)], [[[(8, 400), (7, 400)], [(5, 400), (4, 400)]], [[(3, 400), (2, 400)], [(1, 400), (0, 400)]]]]\n",
      "\n",
      "[[[(6, 4000), (9, 3600)], [(1, 3200), (2, 2800)]], [[(3, 2400), (8, 2000)], [[(7, 1600), (4, 1200)], [(5, 800), (0, 400)]]]]\n",
      "\n",
      "[[[(6, 4000), (9, 3098)], (1, 2398)], [[[(2, 1857), (3, 1438)], (8, 1114)], [[(7, 862), (4, 668)], [(5, 517), (0, 400)]]]]\n",
      "\n",
      "[[[[(9, 4000), (8, 4000)], (7, 4000)], [(6, 4000), (5, 4000)]], [[(4, 4000), (2, 4000)], [(0, 4000), [(3, 400), (1, 400)]]]]\n",
      "\n",
      "[[[(9, 4000), (8, 4000)], (5, 4000)], [[(4, 4000), (0, 4000)], [[[(7, 400), (6, 400)], (3, 400)], [(2, 400), (1, 400)]]]]\n",
      "\n",
      "[[(4, 4000), (0, 4000)], [[[(9, 400), (8, 400)], [(7, 400), (6, 400)]], [[(5, 400), (3, 400)], [(2, 400), (1, 400)]]]]\n",
      "\n",
      "[[[(4, 4000), (0, 3600)], [(9, 3200), (5, 2800)]], [[(8, 2400), (7, 2000)], [[(2, 1600), (6, 1200)], [(1, 800), (3, 400)]]]]\n",
      "\n",
      "[[[(4, 4000), (0, 3098)], (9, 2398)], [[[(5, 1857), (8, 1438)], (7, 1114)], [[(2, 862), (6, 668)], [(1, 517), (3, 400)]]]]\n",
      "\n",
      "[[[[(9, 4000), (8, 4000)], (7, 4000)], [(6, 4000), (5, 4000)]], [[(3, 4000), (2, 4000)], [(0, 4000), [(4, 400), (1, 400)]]]]\n",
      "\n",
      "[[[(9, 4000), (8, 4000)], (7, 4000)], [[(6, 4000), (2, 4000)], [[[(5, 400), (4, 400)], (3, 400)], [(1, 400), (0, 400)]]]]\n",
      "\n",
      "[[(8, 4000), (6, 4000)], [[[(9, 400), (7, 400)], [(5, 400), (4, 400)]], [[(3, 400), (2, 400)], [(1, 400), (0, 400)]]]]\n",
      "\n",
      "[[[(6, 4000), (8, 3600)], [(2, 3200), (9, 2800)]], [[(7, 2400), (0, 2000)], [[(5, 1600), (3, 1200)], [(4, 800), (1, 400)]]]]\n",
      "\n",
      "[[[(6, 4000), (8, 3098)], (2, 2398)], [[[(9, 1857), (7, 1438)], (0, 1114)], [[(5, 862), (3, 668)], [(4, 517), (1, 400)]]]]\n",
      "\n",
      "[[[[(9, 4000), (8, 4000)], (6, 4000)], [(4, 4000), (3, 4000)]], [[(2, 4000), (1, 4000)], [(0, 4000), [(7, 400), (5, 400)]]]]\n",
      "\n",
      "[[[(4, 4000), (3, 4000)], (2, 4000)], [[(1, 4000), (0, 4000)], [[[(9, 400), (8, 400)], (7, 400)], [(6, 400), (5, 400)]]]]\n",
      "\n",
      "[[(4, 4000), (2, 4000)], [[[(9, 400), (8, 400)], [(7, 400), (6, 400)]], [[(5, 400), (3, 400)], [(1, 400), (0, 400)]]]]\n",
      "\n",
      "[[[(2, 4000), (4, 3600)], [(1, 3200), (3, 2800)]], [[(0, 2400), (9, 2000)], [[(8, 1600), (6, 1200)], [(7, 800), (5, 400)]]]]\n",
      "\n",
      "[[[(2, 4000), (4, 3098)], (1, 2398)], [[[(3, 1857), (0, 1438)], (9, 1114)], [[(8, 862), (6, 668)], [(7, 517), (5, 400)]]]]\n",
      "\n",
      "[[[[(7, 4000), (6, 4000)], (5, 4000)], [(4, 4000), (3, 4000)]], [[(2, 4000), (1, 4000)], [(0, 4000), [(9, 160), (8, 160)]]]]\n",
      "\n",
      "[[[(4, 4000), (3, 4000)], (2, 4000)], [[(1, 4000), (0, 4000)], [[[(9, 160), (8, 160)], (7, 160)], [(6, 160), (5, 160)]]]]\n",
      "\n",
      "[[(1, 4000), (0, 4000)], [[[(9, 160), (8, 160)], [(7, 160), (6, 160)]], [[(5, 160), (4, 160)], [(3, 160), (2, 160)]]]]\n",
      "\n",
      "[[[(0, 4000), (1, 3574)], (2, 3147)], [[[(3, 2720), (4, 2294)], (5, 1867)], [[(6, 1440), (7, 1014)], [(8, 587), (9, 160)]]]]\n",
      "\n",
      "[[(0, 4000), (1, 2798)], [[(2, 1957), (3, 1368)], [[(4, 957), (5, 670)], [[(6, 468), (7, 328)], [(8, 229), (9, 160)]]]]]\n",
      "\n",
      "[[[[(9, 4000), (8, 4000)], (7, 4000)], [(6, 4000), (4, 4000)]], [[(3, 4000), (2, 4000)], [(1, 4000), [(5, 160), (0, 160)]]]]\n",
      "\n",
      "[[[(9, 4000), (6, 4000)], (3, 4000)], [[(2, 4000), (1, 4000)], [[[(8, 160), (7, 160)], (5, 160)], [(4, 160), (0, 160)]]]]\n",
      "\n",
      "[[(9, 4000), (6, 4000)], [[[(8, 160), (7, 160)], [(5, 160), (4, 160)]], [[(3, 160), (2, 160)], [(1, 160), (0, 160)]]]]\n",
      "\n",
      "[[[(6, 4000), (9, 3574)], (1, 3147)], [[[(2, 2720), (3, 2294)], (8, 1867)], [[(7, 1440), (4, 1014)], [(5, 587), (0, 160)]]]]\n",
      "\n",
      "[[(6, 4000), (9, 2798)], [[(1, 1957), (2, 1368)], [[(3, 957), (8, 670)], [[(7, 468), (4, 328)], [(5, 229), (0, 160)]]]]]\n",
      "\n",
      "[[[[(9, 4000), (8, 4000)], (7, 4000)], [(6, 4000), (5, 4000)]], [[(4, 4000), (2, 4000)], [(0, 4000), [(3, 160), (1, 160)]]]]\n",
      "\n",
      "[[[(9, 4000), (8, 4000)], (5, 4000)], [[(4, 4000), (0, 4000)], [[[(7, 160), (6, 160)], (3, 160)], [(2, 160), (1, 160)]]]]\n",
      "\n",
      "[[(4, 4000), (0, 4000)], [[[(9, 160), (8, 160)], [(7, 160), (6, 160)]], [[(5, 160), (3, 160)], [(2, 160), (1, 160)]]]]\n",
      "\n",
      "[[[(4, 4000), (0, 3574)], (9, 3147)], [[[(5, 2720), (8, 2294)], (7, 1867)], [[(2, 1440), (6, 1014)], [(1, 587), (3, 160)]]]]\n",
      "\n",
      "[[(4, 4000), (0, 2798)], [[(9, 1957), (5, 1368)], [[(8, 957), (7, 670)], [[(2, 468), (6, 328)], [(1, 229), (3, 160)]]]]]\n",
      "\n",
      "[[[[(9, 4000), (8, 4000)], (7, 4000)], [(6, 4000), (5, 4000)]], [[(3, 4000), (2, 4000)], [(0, 4000), [(4, 160), (1, 160)]]]]\n",
      "\n",
      "[[[(9, 4000), (8, 4000)], (7, 4000)], [[(6, 4000), (2, 4000)], [[[(5, 160), (4, 160)], (3, 160)], [(1, 160), (0, 160)]]]]\n",
      "\n",
      "[[(8, 4000), (6, 4000)], [[[(9, 160), (7, 160)], [(5, 160), (4, 160)]], [[(3, 160), (2, 160)], [(1, 160), (0, 160)]]]]\n",
      "\n",
      "[[[(6, 4000), (8, 3574)], (2, 3147)], [[[(9, 2720), (7, 2294)], (0, 1867)], [[(5, 1440), (3, 1014)], [(4, 587), (1, 160)]]]]\n",
      "\n",
      "[[(6, 4000), (8, 2798)], [[(2, 1957), (9, 1368)], [[(7, 957), (0, 670)], [[(5, 468), (3, 328)], [(4, 229), (1, 160)]]]]]\n",
      "\n",
      "[[[[(9, 4000), (8, 4000)], (6, 4000)], [(4, 4000), (3, 4000)]], [[(2, 4000), (1, 4000)], [(0, 4000), [(7, 160), (5, 160)]]]]\n",
      "\n",
      "[[[(4, 4000), (3, 4000)], (2, 4000)], [[(1, 4000), (0, 4000)], [[[(9, 160), (8, 160)], (7, 160)], [(6, 160), (5, 160)]]]]\n",
      "\n",
      "[[(4, 4000), (2, 4000)], [[[(9, 160), (8, 160)], [(7, 160), (6, 160)]], [[(5, 160), (3, 160)], [(1, 160), (0, 160)]]]]\n",
      "\n",
      "[[[(2, 4000), (4, 3574)], (1, 3147)], [[[(3, 2720), (0, 2294)], (9, 1867)], [[(8, 1440), (6, 1014)], [(7, 587), (5, 160)]]]]\n",
      "\n",
      "[[(2, 4000), (4, 2798)], [[(1, 1957), (3, 1368)], [[(0, 957), (9, 670)], [[(8, 468), (6, 328)], [(7, 229), (5, 160)]]]]]\n",
      "\n",
      "[[[[(7, 4000), (6, 4000)], (5, 4000)], [(4, 4000), (3, 4000)]], [[(2, 4000), (1, 4000)], [(0, 4000), [(9, 80), (8, 80)]]]]\n",
      "\n",
      "[[[(4, 4000), (3, 4000)], (2, 4000)], [[(1, 4000), (0, 4000)], [[[(9, 80), (8, 80)], (7, 80)], [(6, 80), (5, 80)]]]]\n",
      "\n",
      "[[(1, 4000), (0, 4000)], [[[(9, 80), (8, 80)], [(7, 80), (6, 80)]], [[(5, 80), (4, 80)], [(3, 80), (2, 80)]]]]\n",
      "\n",
      "[[[(0, 4000), (1, 3565)], (2, 3129)], [[(3, 2694), (4, 2258)], [[(5, 1823), (6, 1387)], [(7, 952), [(8, 516), (9, 80)]]]]]\n",
      "\n",
      "[[(0, 4000), (1, 2590)], [[(2, 1677), (3, 1086)], [[(4, 704), (5, 456)], [[(6, 295), (7, 191)], [(8, 124), (9, 80)]]]]]\n",
      "\n",
      "[[[[(9, 4000), (8, 4000)], (7, 4000)], [(6, 4000), (4, 4000)]], [[(3, 4000), (2, 4000)], [(1, 4000), [(5, 80), (0, 80)]]]]\n",
      "\n",
      "[[[(9, 4000), (6, 4000)], (3, 4000)], [[(2, 4000), (1, 4000)], [[[(8, 80), (7, 80)], (5, 80)], [(4, 80), (0, 80)]]]]\n",
      "\n",
      "[[(9, 4000), (6, 4000)], [[[(8, 80), (7, 80)], [(5, 80), (4, 80)]], [[(3, 80), (2, 80)], [(1, 80), (0, 80)]]]]\n",
      "\n",
      "[[[(6, 4000), (9, 3565)], (1, 3129)], [[(2, 2694), (3, 2258)], [[(8, 1823), (7, 1387)], [(4, 952), [(5, 516), (0, 80)]]]]]\n",
      "\n",
      "[[(6, 4000), (9, 2590)], [[(1, 1677), (2, 1086)], [[(3, 704), (8, 456)], [[(7, 295), (4, 191)], [(5, 124), (0, 80)]]]]]\n",
      "\n",
      "[[[[(9, 4000), (8, 4000)], (7, 4000)], [(6, 4000), (5, 4000)]], [[(4, 4000), (2, 4000)], [(0, 4000), [(3, 80), (1, 80)]]]]\n",
      "\n",
      "[[[(9, 4000), (8, 4000)], (5, 4000)], [[(4, 4000), (0, 4000)], [[[(7, 80), (6, 80)], (3, 80)], [(2, 80), (1, 80)]]]]\n",
      "\n",
      "[[(4, 4000), (0, 4000)], [[[(9, 80), (8, 80)], [(7, 80), (6, 80)]], [[(5, 80), (3, 80)], [(2, 80), (1, 80)]]]]\n",
      "\n",
      "[[[(4, 4000), (0, 3565)], (9, 3129)], [[(5, 2694), (8, 2258)], [[(7, 1823), (2, 1387)], [(6, 952), [(1, 516), (3, 80)]]]]]\n",
      "\n",
      "[[(4, 4000), (0, 2590)], [[(9, 1677), (5, 1086)], [[(8, 704), (7, 456)], [[(2, 295), (6, 191)], [(1, 124), (3, 80)]]]]]\n",
      "\n",
      "[[[[(9, 4000), (8, 4000)], (7, 4000)], [(6, 4000), (5, 4000)]], [[(3, 4000), (2, 4000)], [(0, 4000), [(4, 80), (1, 80)]]]]\n",
      "\n",
      "[[[(9, 4000), (8, 4000)], (7, 4000)], [[(6, 4000), (2, 4000)], [[[(5, 80), (4, 80)], (3, 80)], [(1, 80), (0, 80)]]]]\n",
      "\n",
      "[[(8, 4000), (6, 4000)], [[[(9, 80), (7, 80)], [(5, 80), (4, 80)]], [[(3, 80), (2, 80)], [(1, 80), (0, 80)]]]]\n",
      "\n"
     ]
    },
    {
     "name": "stdout",
     "output_type": "stream",
     "text": [
      "[[[(6, 4000), (8, 3565)], (2, 3129)], [[(9, 2694), (7, 2258)], [[(0, 1823), (5, 1387)], [(3, 952), [(4, 516), (1, 80)]]]]]\n",
      "\n",
      "[[(6, 4000), (8, 2590)], [[(2, 1677), (9, 1086)], [[(7, 704), (0, 456)], [[(5, 295), (3, 191)], [(4, 124), (1, 80)]]]]]\n",
      "\n",
      "[[[[(9, 4000), (8, 4000)], (6, 4000)], [(4, 4000), (3, 4000)]], [[(2, 4000), (1, 4000)], [(0, 4000), [(7, 80), (5, 80)]]]]\n",
      "\n",
      "[[[(4, 4000), (3, 4000)], (2, 4000)], [[(1, 4000), (0, 4000)], [[[(9, 80), (8, 80)], (7, 80)], [(6, 80), (5, 80)]]]]\n",
      "\n",
      "[[(4, 4000), (2, 4000)], [[[(9, 80), (8, 80)], [(7, 80), (6, 80)]], [[(5, 80), (3, 80)], [(1, 80), (0, 80)]]]]\n",
      "\n",
      "[[[(2, 4000), (4, 3565)], (1, 3129)], [[(3, 2694), (0, 2258)], [[(9, 1823), (8, 1387)], [(6, 952), [(7, 516), (5, 80)]]]]]\n",
      "\n",
      "[[(2, 4000), (4, 2590)], [[(1, 1677), (3, 1086)], [[(0, 704), (9, 456)], [[(8, 295), (6, 191)], [(7, 124), (5, 80)]]]]]\n",
      "\n",
      "[[[[(7, 4000), (6, 4000)], (5, 4000)], [(4, 4000), (3, 4000)]], [[(2, 4000), (1, 4000)], [(0, 4000), [(9, 40), (8, 40)]]]]\n",
      "\n",
      "[[[(4, 4000), (3, 4000)], (2, 4000)], [[(1, 4000), (0, 4000)], [[[(9, 40), (8, 40)], (7, 40)], [(6, 40), (5, 40)]]]]\n",
      "\n",
      "[[(1, 4000), (0, 4000)], [[[(9, 40), (8, 40)], [(7, 40), (6, 40)]], [[(5, 40), (4, 40)], [(3, 40), (2, 40)]]]]\n",
      "\n",
      "[[[(0, 4000), (1, 3560)], (2, 3120)], [[(3, 2680), (4, 2240)], [[(5, 1800), (6, 1360)], [(7, 920), [(8, 480), (9, 40)]]]]]\n",
      "\n",
      "[[(0, 4000), (1, 2398)], [[(2, 1438), (3, 862)], [[(4, 517), (5, 310)], [[(6, 186), (7, 112)], [(8, 67), (9, 40)]]]]]\n",
      "\n",
      "[[[[(9, 4000), (8, 4000)], (7, 4000)], [(6, 4000), (4, 4000)]], [[(3, 4000), (2, 4000)], [(1, 4000), [(5, 40), (0, 40)]]]]\n",
      "\n",
      "[[[(9, 4000), (6, 4000)], (3, 4000)], [[(2, 4000), (1, 4000)], [[[(8, 40), (7, 40)], (5, 40)], [(4, 40), (0, 40)]]]]\n",
      "\n",
      "[[(9, 4000), (6, 4000)], [[[(8, 40), (7, 40)], [(5, 40), (4, 40)]], [[(3, 40), (2, 40)], [(1, 40), (0, 40)]]]]\n",
      "\n",
      "[[[(6, 4000), (9, 3560)], (1, 3120)], [[(2, 2680), (3, 2240)], [[(8, 1800), (7, 1360)], [(4, 920), [(5, 480), (0, 40)]]]]]\n",
      "\n",
      "[[(6, 4000), (9, 2398)], [[(1, 1438), (2, 862)], [[(3, 517), (8, 310)], [[(7, 186), (4, 112)], [(5, 67), (0, 40)]]]]]\n",
      "\n",
      "[[[[(9, 4000), (8, 4000)], (7, 4000)], [(6, 4000), (5, 4000)]], [[(4, 4000), (2, 4000)], [(0, 4000), [(3, 40), (1, 40)]]]]\n",
      "\n",
      "[[[(9, 4000), (8, 4000)], (5, 4000)], [[(4, 4000), (0, 4000)], [[[(7, 40), (6, 40)], (3, 40)], [(2, 40), (1, 40)]]]]\n",
      "\n",
      "[[(4, 4000), (0, 4000)], [[[(9, 40), (8, 40)], [(7, 40), (6, 40)]], [[(5, 40), (3, 40)], [(2, 40), (1, 40)]]]]\n",
      "\n",
      "[[[(4, 4000), (0, 3560)], (9, 3120)], [[(5, 2680), (8, 2240)], [[(7, 1800), (2, 1360)], [(6, 920), [(1, 480), (3, 40)]]]]]\n",
      "\n",
      "[[(4, 4000), (0, 2398)], [[(9, 1438), (5, 862)], [[(8, 517), (7, 310)], [[(2, 186), (6, 112)], [(1, 67), (3, 40)]]]]]\n",
      "\n",
      "[[[[(9, 4000), (8, 4000)], (7, 4000)], [(6, 4000), (5, 4000)]], [[(3, 4000), (2, 4000)], [(0, 4000), [(4, 40), (1, 40)]]]]\n",
      "\n",
      "[[[(9, 4000), (8, 4000)], (7, 4000)], [[(6, 4000), (2, 4000)], [[[(5, 40), (4, 40)], (3, 40)], [(1, 40), (0, 40)]]]]\n",
      "\n",
      "[[(8, 4000), (6, 4000)], [[[(9, 40), (7, 40)], [(5, 40), (4, 40)]], [[(3, 40), (2, 40)], [(1, 40), (0, 40)]]]]\n",
      "\n",
      "[[[(6, 4000), (8, 3560)], (2, 3120)], [[(9, 2680), (7, 2240)], [[(0, 1800), (5, 1360)], [(3, 920), [(4, 480), (1, 40)]]]]]\n",
      "\n",
      "[[(6, 4000), (8, 2398)], [[(2, 1438), (9, 862)], [[(7, 517), (0, 310)], [[(5, 186), (3, 112)], [(4, 67), (1, 40)]]]]]\n",
      "\n",
      "[[[[(9, 4000), (8, 4000)], (6, 4000)], [(4, 4000), (3, 4000)]], [[(2, 4000), (1, 4000)], [(0, 4000), [(7, 40), (5, 40)]]]]\n",
      "\n",
      "[[[(4, 4000), (3, 4000)], (2, 4000)], [[(1, 4000), (0, 4000)], [[[(9, 40), (8, 40)], (7, 40)], [(6, 40), (5, 40)]]]]\n",
      "\n",
      "[[(4, 4000), (2, 4000)], [[[(9, 40), (8, 40)], [(7, 40), (6, 40)]], [[(5, 40), (3, 40)], [(1, 40), (0, 40)]]]]\n",
      "\n",
      "[[[(2, 4000), (4, 3560)], (1, 3120)], [[(3, 2680), (0, 2240)], [[(9, 1800), (8, 1360)], [(6, 920), [(7, 480), (5, 40)]]]]]\n",
      "\n",
      "[[(2, 4000), (4, 2398)], [[(1, 1438), (3, 862)], [[(0, 517), (9, 310)], [[(8, 186), (6, 112)], [(7, 67), (5, 40)]]]]]\n",
      "\n",
      "[[[[(7, 4000), (6, 4000)], (5, 4000)], [(4, 4000), (3, 4000)]], [[(2, 4000), (1, 4000)], [(0, 4000), [(9, 16), (8, 16)]]]]\n",
      "\n",
      "[[[(4, 4000), (3, 4000)], (2, 4000)], [[(1, 4000), (0, 4000)], [[[(9, 16), (8, 16)], (7, 16)], [(6, 16), (5, 16)]]]]\n",
      "\n",
      "[[(1, 4000), (0, 4000)], [[[(9, 16), (8, 16)], [(7, 16), (6, 16)]], [[(5, 16), (4, 16)], [(3, 16), (2, 16)]]]]\n",
      "\n",
      "[[[(0, 4000), (1, 3558)], (2, 3115)], [[(3, 2672), (4, 2230)], [[(5, 1787), (6, 1344)], [(7, 902), [(8, 459), (9, 16)]]]]]\n",
      "\n",
      "[[(0, 4000), (1, 2166)], [[(2, 1173), (3, 635)], [[(4, 344), (5, 187)], [(6, 101), [(7, 55), [(8, 30), (9, 16)]]]]]]\n",
      "\n",
      "[[[[(9, 4000), (8, 4000)], (7, 4000)], [(6, 4000), (4, 4000)]], [[(3, 4000), (2, 4000)], [(1, 4000), [(5, 16), (0, 16)]]]]\n",
      "\n",
      "[[[(9, 4000), (6, 4000)], (3, 4000)], [[(2, 4000), (1, 4000)], [[[(8, 16), (7, 16)], (5, 16)], [(4, 16), (0, 16)]]]]\n",
      "\n",
      "[[(9, 4000), (6, 4000)], [[[(8, 16), (7, 16)], [(5, 16), (4, 16)]], [[(3, 16), (2, 16)], [(1, 16), (0, 16)]]]]\n",
      "\n",
      "[[[(6, 4000), (9, 3558)], (1, 3115)], [[(2, 2672), (3, 2230)], [[(8, 1787), (7, 1344)], [(4, 902), [(5, 459), (0, 16)]]]]]\n",
      "\n",
      "[[(6, 4000), (9, 2166)], [[(1, 1173), (2, 635)], [[(3, 344), (8, 187)], [(7, 101), [(4, 55), [(5, 30), (0, 16)]]]]]]\n",
      "\n",
      "[[[[(9, 4000), (8, 4000)], (7, 4000)], [(6, 4000), (5, 4000)]], [[(4, 4000), (2, 4000)], [(0, 4000), [(3, 16), (1, 16)]]]]\n",
      "\n",
      "[[[(9, 4000), (8, 4000)], (5, 4000)], [[(4, 4000), (0, 4000)], [[[(7, 16), (6, 16)], (3, 16)], [(2, 16), (1, 16)]]]]\n",
      "\n",
      "[[(4, 4000), (0, 4000)], [[[(9, 16), (8, 16)], [(7, 16), (6, 16)]], [[(5, 16), (3, 16)], [(2, 16), (1, 16)]]]]\n",
      "\n",
      "[[[(4, 4000), (0, 3558)], (9, 3115)], [[(5, 2672), (8, 2230)], [[(7, 1787), (2, 1344)], [(6, 902), [(1, 459), (3, 16)]]]]]\n",
      "\n",
      "[[(4, 4000), (0, 2166)], [[(9, 1173), (5, 635)], [[(8, 344), (7, 187)], [(2, 101), [(6, 55), [(1, 30), (3, 16)]]]]]]\n",
      "\n",
      "[[[[(9, 4000), (8, 4000)], (7, 4000)], [(6, 4000), (5, 4000)]], [[(3, 4000), (2, 4000)], [(0, 4000), [(4, 16), (1, 16)]]]]\n",
      "\n",
      "[[[(9, 4000), (8, 4000)], (7, 4000)], [[(6, 4000), (2, 4000)], [[[(5, 16), (4, 16)], (3, 16)], [(1, 16), (0, 16)]]]]\n",
      "\n",
      "[[(8, 4000), (6, 4000)], [[[(9, 16), (7, 16)], [(5, 16), (4, 16)]], [[(3, 16), (2, 16)], [(1, 16), (0, 16)]]]]\n",
      "\n",
      "[[[(6, 4000), (8, 3558)], (2, 3115)], [[(9, 2672), (7, 2230)], [[(0, 1787), (5, 1344)], [(3, 902), [(4, 459), (1, 16)]]]]]\n",
      "\n",
      "[[(6, 4000), (8, 2166)], [[(2, 1173), (9, 635)], [[(7, 344), (0, 187)], [(5, 101), [(3, 55), [(4, 30), (1, 16)]]]]]]\n",
      "\n",
      "[[[[(9, 4000), (8, 4000)], (6, 4000)], [(4, 4000), (3, 4000)]], [[(2, 4000), (1, 4000)], [(0, 4000), [(7, 16), (5, 16)]]]]\n",
      "\n",
      "[[[(4, 4000), (3, 4000)], (2, 4000)], [[(1, 4000), (0, 4000)], [[[(9, 16), (8, 16)], (7, 16)], [(6, 16), (5, 16)]]]]\n",
      "\n",
      "[[(4, 4000), (2, 4000)], [[[(9, 16), (8, 16)], [(7, 16), (6, 16)]], [[(5, 16), (3, 16)], [(1, 16), (0, 16)]]]]\n",
      "\n",
      "[[[(2, 4000), (4, 3558)], (1, 3115)], [[(3, 2672), (0, 2230)], [[(9, 1787), (8, 1344)], [(6, 902), [(7, 459), (5, 16)]]]]]\n",
      "\n",
      "[[(2, 4000), (4, 2166)], [[(1, 1173), (3, 635)], [[(0, 344), (9, 187)], [(8, 101), [(6, 55), [(7, 30), (5, 16)]]]]]]\n",
      "\n",
      "[[[[(7, 4000), (6, 4000)], (5, 4000)], [(4, 4000), (3, 4000)]], [[(2, 4000), (1, 4000)], [(0, 4000), [(9, 8), (8, 8)]]]]\n",
      "\n",
      "[[[(4, 4000), (3, 4000)], (2, 4000)], [[(1, 4000), (0, 4000)], [[[(9, 8), (8, 8)], (7, 8)], [(6, 8), (5, 8)]]]]\n",
      "\n",
      "[[(1, 4000), (0, 4000)], [[[(9, 8), (8, 8)], [(7, 8), (6, 8)]], [[(5, 8), (4, 8)], [(3, 8), (2, 8)]]]]\n",
      "\n",
      "[[[(0, 4000), (1, 3557)], (2, 3113)], [[(3, 2670), (4, 2226)], [[(5, 1783), (6, 1339)], [(7, 896), [(8, 452), (9, 8)]]]]]\n",
      "\n",
      "[[(0, 4000), (1, 2006)], [(2, 1006), [(3, 504), [(4, 253), [(5, 127), [(6, 64), [(7, 32), [(8, 16), (9, 8)]]]]]]]]\n",
      "\n",
      "[[[[(9, 4000), (8, 4000)], (7, 4000)], [(6, 4000), (4, 4000)]], [[(3, 4000), (2, 4000)], [(1, 4000), [(5, 8), (0, 8)]]]]\n",
      "\n",
      "[[[(9, 4000), (6, 4000)], (3, 4000)], [[(2, 4000), (1, 4000)], [[[(8, 8), (7, 8)], (5, 8)], [(4, 8), (0, 8)]]]]\n",
      "\n",
      "[[(9, 4000), (6, 4000)], [[[(8, 8), (7, 8)], [(5, 8), (4, 8)]], [[(3, 8), (2, 8)], [(1, 8), (0, 8)]]]]\n",
      "\n",
      "[[[(6, 4000), (9, 3557)], (1, 3113)], [[(2, 2670), (3, 2226)], [[(8, 1783), (7, 1339)], [(4, 896), [(5, 452), (0, 8)]]]]]\n",
      "\n",
      "[[(6, 4000), (9, 2006)], [(1, 1006), [(2, 504), [(3, 253), [(8, 127), [(7, 64), [(4, 32), [(5, 16), (0, 8)]]]]]]]]\n",
      "\n",
      "[[[[(9, 4000), (8, 4000)], (7, 4000)], [(6, 4000), (5, 4000)]], [[(4, 4000), (2, 4000)], [(0, 4000), [(3, 8), (1, 8)]]]]\n",
      "\n",
      "[[[(9, 4000), (8, 4000)], (5, 4000)], [[(4, 4000), (0, 4000)], [[[(7, 8), (6, 8)], (3, 8)], [(2, 8), (1, 8)]]]]\n",
      "\n",
      "[[(4, 4000), (0, 4000)], [[[(9, 8), (8, 8)], [(7, 8), (6, 8)]], [[(5, 8), (3, 8)], [(2, 8), (1, 8)]]]]\n",
      "\n"
     ]
    },
    {
     "name": "stdout",
     "output_type": "stream",
     "text": [
      "[[[(4, 4000), (0, 3557)], (9, 3113)], [[(5, 2670), (8, 2226)], [[(7, 1783), (2, 1339)], [(6, 896), [(1, 452), (3, 8)]]]]]\n",
      "\n",
      "[[(4, 4000), (0, 2006)], [(9, 1006), [(5, 504), [(8, 253), [(7, 127), [(2, 64), [(6, 32), [(1, 16), (3, 8)]]]]]]]]\n",
      "\n",
      "[[[[(9, 4000), (8, 4000)], (7, 4000)], [(6, 4000), (5, 4000)]], [[(3, 4000), (2, 4000)], [(0, 4000), [(4, 8), (1, 8)]]]]\n",
      "\n",
      "[[[(9, 4000), (8, 4000)], (7, 4000)], [[(6, 4000), (2, 4000)], [[[(5, 8), (4, 8)], (3, 8)], [(1, 8), (0, 8)]]]]\n",
      "\n",
      "[[(8, 4000), (6, 4000)], [[[(9, 8), (7, 8)], [(5, 8), (4, 8)]], [[(3, 8), (2, 8)], [(1, 8), (0, 8)]]]]\n",
      "\n",
      "[[[(6, 4000), (8, 3557)], (2, 3113)], [[(9, 2670), (7, 2226)], [[(0, 1783), (5, 1339)], [(3, 896), [(4, 452), (1, 8)]]]]]\n",
      "\n",
      "[[(6, 4000), (8, 2006)], [(2, 1006), [(9, 504), [(7, 253), [(0, 127), [(5, 64), [(3, 32), [(4, 16), (1, 8)]]]]]]]]\n",
      "\n",
      "[[[[(9, 4000), (8, 4000)], (6, 4000)], [(4, 4000), (3, 4000)]], [[(2, 4000), (1, 4000)], [(0, 4000), [(7, 8), (5, 8)]]]]\n",
      "\n",
      "[[[(4, 4000), (3, 4000)], (2, 4000)], [[(1, 4000), (0, 4000)], [[[(9, 8), (8, 8)], (7, 8)], [(6, 8), (5, 8)]]]]\n",
      "\n",
      "[[(4, 4000), (2, 4000)], [[[(9, 8), (8, 8)], [(7, 8), (6, 8)]], [[(5, 8), (3, 8)], [(1, 8), (0, 8)]]]]\n",
      "\n",
      "[[[(2, 4000), (4, 3557)], (1, 3113)], [[(3, 2670), (0, 2226)], [[(9, 1783), (8, 1339)], [(6, 896), [(7, 452), (5, 8)]]]]]\n",
      "\n",
      "[[(2, 4000), (4, 2006)], [(1, 1006), [(3, 504), [(0, 253), [(9, 127), [(8, 64), [(6, 32), [(7, 16), (5, 8)]]]]]]]]\n",
      "\n",
      "[[[[(7, 4000), (6, 4000)], (5, 4000)], [(4, 4000), (3, 4000)]], [[(2, 4000), (1, 4000)], [(0, 4000), [(9, 4), (8, 4)]]]]\n",
      "\n",
      "[[[(4, 4000), (3, 4000)], (2, 4000)], [[(1, 4000), (0, 4000)], [[[(9, 4), (8, 4)], (7, 4)], [(6, 4), (5, 4)]]]]\n",
      "\n",
      "[[(1, 4000), (0, 4000)], [[[(9, 4), (8, 4)], [(7, 4), (6, 4)]], [[(5, 4), (4, 4)], [(3, 4), (2, 4)]]]]\n",
      "\n",
      "[[[(0, 4000), (1, 3556)], (2, 3112)], [[(3, 2668), (4, 2224)], [[(5, 1780), (6, 1336)], [(7, 892), [(8, 448), (9, 4)]]]]]\n",
      "\n",
      "[(0, 4000), [(1, 1857), [(2, 862), [(3, 401), [(4, 186), [(5, 87), [(6, 41), [(7, 19), [(8, 9), (9, 4)]]]]]]]]]\n",
      "\n",
      "[[[[(9, 4000), (8, 4000)], (7, 4000)], [(6, 4000), (4, 4000)]], [[(3, 4000), (2, 4000)], [(1, 4000), [(5, 4), (0, 4)]]]]\n",
      "\n",
      "[[[(9, 4000), (6, 4000)], (3, 4000)], [[(2, 4000), (1, 4000)], [[[(8, 4), (7, 4)], (5, 4)], [(4, 4), (0, 4)]]]]\n",
      "\n",
      "[[(9, 4000), (6, 4000)], [[[(8, 4), (7, 4)], [(5, 4), (4, 4)]], [[(3, 4), (2, 4)], [(1, 4), (0, 4)]]]]\n",
      "\n",
      "[[[(6, 4000), (9, 3556)], (1, 3112)], [[(2, 2668), (3, 2224)], [[(8, 1780), (7, 1336)], [(4, 892), [(5, 448), (0, 4)]]]]]\n",
      "\n",
      "[(6, 4000), [(9, 1857), [(1, 862), [(2, 401), [(3, 186), [(8, 87), [(7, 41), [(4, 19), [(5, 9), (0, 4)]]]]]]]]]\n",
      "\n",
      "[[[[(9, 4000), (8, 4000)], (7, 4000)], [(6, 4000), (5, 4000)]], [[(4, 4000), (2, 4000)], [(0, 4000), [(3, 4), (1, 4)]]]]\n",
      "\n",
      "[[[(9, 4000), (8, 4000)], (5, 4000)], [[(4, 4000), (0, 4000)], [[[(7, 4), (6, 4)], (3, 4)], [(2, 4), (1, 4)]]]]\n",
      "\n",
      "[[(4, 4000), (0, 4000)], [[[(9, 4), (8, 4)], [(7, 4), (6, 4)]], [[(5, 4), (3, 4)], [(2, 4), (1, 4)]]]]\n",
      "\n",
      "[[[(4, 4000), (0, 3556)], (9, 3112)], [[(5, 2668), (8, 2224)], [[(7, 1780), (2, 1336)], [(6, 892), [(1, 448), (3, 4)]]]]]\n",
      "\n",
      "[(4, 4000), [(0, 1857), [(9, 862), [(5, 401), [(8, 186), [(7, 87), [(2, 41), [(6, 19), [(1, 9), (3, 4)]]]]]]]]]\n",
      "\n",
      "[[[[(9, 4000), (8, 4000)], (7, 4000)], [(6, 4000), (5, 4000)]], [[(3, 4000), (2, 4000)], [(0, 4000), [(4, 4), (1, 4)]]]]\n",
      "\n",
      "[[[(9, 4000), (8, 4000)], (7, 4000)], [[(6, 4000), (2, 4000)], [[[(5, 4), (4, 4)], (3, 4)], [(1, 4), (0, 4)]]]]\n",
      "\n",
      "[[(8, 4000), (6, 4000)], [[[(9, 4), (7, 4)], [(5, 4), (4, 4)]], [[(3, 4), (2, 4)], [(1, 4), (0, 4)]]]]\n",
      "\n",
      "[[[(6, 4000), (8, 3556)], (2, 3112)], [[(9, 2668), (7, 2224)], [[(0, 1780), (5, 1336)], [(3, 892), [(4, 448), (1, 4)]]]]]\n",
      "\n",
      "[(6, 4000), [(8, 1857), [(2, 862), [(9, 401), [(7, 186), [(0, 87), [(5, 41), [(3, 19), [(4, 9), (1, 4)]]]]]]]]]\n",
      "\n",
      "[[[[(9, 4000), (8, 4000)], (6, 4000)], [(4, 4000), (3, 4000)]], [[(2, 4000), (1, 4000)], [(0, 4000), [(7, 4), (5, 4)]]]]\n",
      "\n",
      "[[[(4, 4000), (3, 4000)], (2, 4000)], [[(1, 4000), (0, 4000)], [[[(9, 4), (8, 4)], (7, 4)], [(6, 4), (5, 4)]]]]\n",
      "\n",
      "[[(4, 4000), (2, 4000)], [[[(9, 4), (8, 4)], [(7, 4), (6, 4)]], [[(5, 4), (3, 4)], [(1, 4), (0, 4)]]]]\n",
      "\n",
      "[[[(2, 4000), (4, 3556)], (1, 3112)], [[(3, 2668), (0, 2224)], [[(9, 1780), (8, 1336)], [(6, 892), [(7, 448), (5, 4)]]]]]\n",
      "\n",
      "[(2, 4000), [(4, 1857), [(1, 862), [(3, 401), [(0, 186), [(9, 87), [(8, 41), [(6, 19), [(7, 9), (5, 4)]]]]]]]]]\n",
      "\n",
      "[[[[(7, 4000), (6, 4000)], (5, 4000)], [(4, 4000), (3, 4000)]], [[(2, 4000), (1, 4000)], [(0, 4000), [(9, 2), (8, 2)]]]]\n",
      "\n",
      "[[[(4, 4000), (3, 4000)], (2, 4000)], [[(1, 4000), (0, 4000)], [[[(9, 2), (8, 2)], (7, 2)], [(6, 2), (5, 2)]]]]\n",
      "\n",
      "[[(1, 4000), (0, 4000)], [[[(9, 2), (8, 2)], [(7, 2), (6, 2)]], [[(5, 2), (4, 2)], [(3, 2), (2, 2)]]]]\n",
      "\n",
      "[[[(0, 4000), (1, 3556)], (2, 3112)], [[(3, 2668), (4, 2224)], [[(5, 1779), (6, 1335)], [(7, 891), [(8, 447), (9, 2)]]]]]\n",
      "\n",
      "[(0, 4000), [(1, 1720), [(2, 739), [(3, 318), [(4, 137), [(5, 59), [(6, 26), [(7, 11), [(8, 5), (9, 2)]]]]]]]]]\n",
      "\n",
      "[[[[(9, 4000), (8, 4000)], (7, 4000)], [(6, 4000), (4, 4000)]], [[(3, 4000), (2, 4000)], [(1, 4000), [(5, 2), (0, 2)]]]]\n",
      "\n",
      "[[[(9, 4000), (6, 4000)], (3, 4000)], [[(2, 4000), (1, 4000)], [[[(8, 2), (7, 2)], (5, 2)], [(4, 2), (0, 2)]]]]\n",
      "\n",
      "[[(9, 4000), (6, 4000)], [[[(8, 2), (7, 2)], [(5, 2), (4, 2)]], [[(3, 2), (2, 2)], [(1, 2), (0, 2)]]]]\n",
      "\n",
      "[[[(6, 4000), (9, 3556)], (1, 3112)], [[(2, 2668), (3, 2224)], [[(8, 1779), (7, 1335)], [(4, 891), [(5, 447), (0, 2)]]]]]\n",
      "\n",
      "[(6, 4000), [(9, 1720), [(1, 739), [(2, 318), [(3, 137), [(8, 59), [(7, 26), [(4, 11), [(5, 5), (0, 2)]]]]]]]]]\n",
      "\n",
      "[[[[(9, 4000), (8, 4000)], (7, 4000)], [(6, 4000), (5, 4000)]], [[(4, 4000), (2, 4000)], [(0, 4000), [(3, 2), (1, 2)]]]]\n",
      "\n",
      "[[[(9, 4000), (8, 4000)], (5, 4000)], [[(4, 4000), (0, 4000)], [[[(7, 2), (6, 2)], (3, 2)], [(2, 2), (1, 2)]]]]\n",
      "\n",
      "[[(4, 4000), (0, 4000)], [[[(9, 2), (8, 2)], [(7, 2), (6, 2)]], [[(5, 2), (3, 2)], [(2, 2), (1, 2)]]]]\n",
      "\n",
      "[[[(4, 4000), (0, 3556)], (9, 3112)], [[(5, 2668), (8, 2224)], [[(7, 1779), (2, 1335)], [(6, 891), [(1, 447), (3, 2)]]]]]\n",
      "\n",
      "[(4, 4000), [(0, 1720), [(9, 739), [(5, 318), [(8, 137), [(7, 59), [(2, 26), [(6, 11), [(1, 5), (3, 2)]]]]]]]]]\n",
      "\n",
      "[[[[(9, 4000), (8, 4000)], (7, 4000)], [(6, 4000), (5, 4000)]], [[(3, 4000), (2, 4000)], [(0, 4000), [(4, 2), (1, 2)]]]]\n",
      "\n",
      "[[[(9, 4000), (8, 4000)], (7, 4000)], [[(6, 4000), (2, 4000)], [[[(5, 2), (4, 2)], (3, 2)], [(1, 2), (0, 2)]]]]\n",
      "\n",
      "[[(8, 4000), (6, 4000)], [[[(9, 2), (7, 2)], [(5, 2), (4, 2)]], [[(3, 2), (2, 2)], [(1, 2), (0, 2)]]]]\n",
      "\n",
      "[[[(6, 4000), (8, 3556)], (2, 3112)], [[(9, 2668), (7, 2224)], [[(0, 1779), (5, 1335)], [(3, 891), [(4, 447), (1, 2)]]]]]\n",
      "\n",
      "[(6, 4000), [(8, 1720), [(2, 739), [(9, 318), [(7, 137), [(0, 59), [(5, 26), [(3, 11), [(4, 5), (1, 2)]]]]]]]]]\n",
      "\n",
      "[[[[(9, 4000), (8, 4000)], (6, 4000)], [(4, 4000), (3, 4000)]], [[(2, 4000), (1, 4000)], [(0, 4000), [(7, 2), (5, 2)]]]]\n",
      "\n",
      "[[[(4, 4000), (3, 4000)], (2, 4000)], [[(1, 4000), (0, 4000)], [[[(9, 2), (8, 2)], (7, 2)], [(6, 2), (5, 2)]]]]\n",
      "\n",
      "[[(4, 4000), (2, 4000)], [[[(9, 2), (8, 2)], [(7, 2), (6, 2)]], [[(5, 2), (3, 2)], [(1, 2), (0, 2)]]]]\n",
      "\n",
      "[[[(2, 4000), (4, 3556)], (1, 3112)], [[(3, 2668), (0, 2224)], [[(9, 1779), (8, 1335)], [(6, 891), [(7, 447), (5, 2)]]]]]\n",
      "\n",
      "[(2, 4000), [(4, 1720), [(1, 739), [(3, 318), [(0, 137), [(9, 59), [(8, 26), [(6, 11), [(7, 5), (5, 2)]]]]]]]]]\n",
      "\n",
      "[[[[(7, 4000), (6, 4000)], (5, 4000)], [(4, 4000), (3, 4000)]], [[(2, 4000), (1, 4000)], [(0, 4000), [(9, 1), (8, 1)]]]]\n",
      "\n",
      "[[[(4, 4000), (3, 4000)], (2, 4000)], [[(1, 4000), (0, 4000)], [[[(9, 1), (8, 1)], (7, 1)], [(6, 1), (5, 1)]]]]\n",
      "\n",
      "[[(1, 4000), (0, 4000)], [[[(9, 1), (8, 1)], [(7, 1), (6, 1)]], [[(5, 1), (4, 1)], [(3, 1), (2, 1)]]]]\n",
      "\n",
      "[[[(0, 4000), (1, 3556)], (2, 3112)], [[(3, 2667), (4, 2223)], [[(5, 1779), (6, 1334)], [(7, 890), [(8, 446), (9, 1)]]]]]\n",
      "\n",
      "[(0, 4000), [(1, 1592), [(2, 634), [(3, 252), [(4, 101), [(5, 40), [(6, 16), [(7, 7), [(8, 3), (9, 1)]]]]]]]]]\n",
      "\n",
      "[[[[(9, 4000), (8, 4000)], (7, 4000)], [(6, 4000), (4, 4000)]], [[(3, 4000), (2, 4000)], [(1, 4000), [(5, 1), (0, 1)]]]]\n",
      "\n",
      "[[[(9, 4000), (6, 4000)], (3, 4000)], [[(2, 4000), (1, 4000)], [[[(8, 1), (7, 1)], (5, 1)], [(4, 1), (0, 1)]]]]\n",
      "\n",
      "[[(9, 4000), (6, 4000)], [[[(8, 1), (7, 1)], [(5, 1), (4, 1)]], [[(3, 1), (2, 1)], [(1, 1), (0, 1)]]]]\n",
      "\n",
      "[[[(6, 4000), (9, 3556)], (1, 3112)], [[(2, 2667), (3, 2223)], [[(8, 1779), (7, 1334)], [(4, 890), [(5, 446), (0, 1)]]]]]\n",
      "\n",
      "[(6, 4000), [(9, 1592), [(1, 634), [(2, 252), [(3, 101), [(8, 40), [(7, 16), [(4, 7), [(5, 3), (0, 1)]]]]]]]]]\n",
      "\n",
      "[[[[(9, 4000), (8, 4000)], (7, 4000)], [(6, 4000), (5, 4000)]], [[(4, 4000), (2, 4000)], [(0, 4000), [(3, 1), (1, 1)]]]]\n",
      "\n",
      "[[[(9, 4000), (8, 4000)], (5, 4000)], [[(4, 4000), (0, 4000)], [[[(7, 1), (6, 1)], (3, 1)], [(2, 1), (1, 1)]]]]\n",
      "\n",
      "[[(4, 4000), (0, 4000)], [[[(9, 1), (8, 1)], [(7, 1), (6, 1)]], [[(5, 1), (3, 1)], [(2, 1), (1, 1)]]]]\n",
      "\n",
      "[[[(4, 4000), (0, 3556)], (9, 3112)], [[(5, 2667), (8, 2223)], [[(7, 1779), (2, 1334)], [(6, 890), [(1, 446), (3, 1)]]]]]\n",
      "\n",
      "[(4, 4000), [(0, 1592), [(9, 634), [(5, 252), [(8, 101), [(7, 40), [(2, 16), [(6, 7), [(1, 3), (3, 1)]]]]]]]]]\n",
      "\n",
      "[[[[(9, 4000), (8, 4000)], (7, 4000)], [(6, 4000), (5, 4000)]], [[(3, 4000), (2, 4000)], [(0, 4000), [(4, 1), (1, 1)]]]]\n",
      "\n",
      "[[[(9, 4000), (8, 4000)], (7, 4000)], [[(6, 4000), (2, 4000)], [[[(5, 1), (4, 1)], (3, 1)], [(1, 1), (0, 1)]]]]\n",
      "\n",
      "[[(8, 4000), (6, 4000)], [[[(9, 1), (7, 1)], [(5, 1), (4, 1)]], [[(3, 1), (2, 1)], [(1, 1), (0, 1)]]]]\n",
      "\n",
      "[[[(6, 4000), (8, 3556)], (2, 3112)], [[(9, 2667), (7, 2223)], [[(0, 1779), (5, 1334)], [(3, 890), [(4, 446), (1, 1)]]]]]\n",
      "\n"
     ]
    },
    {
     "name": "stdout",
     "output_type": "stream",
     "text": [
      "[(6, 4000), [(8, 1592), [(2, 634), [(9, 252), [(7, 101), [(0, 40), [(5, 16), [(3, 7), [(4, 3), (1, 1)]]]]]]]]]\n",
      "\n",
      "[[[[(9, 4000), (8, 4000)], (6, 4000)], [(4, 4000), (3, 4000)]], [[(2, 4000), (1, 4000)], [(0, 4000), [(7, 1), (5, 1)]]]]\n",
      "\n",
      "[[[(4, 4000), (3, 4000)], (2, 4000)], [[(1, 4000), (0, 4000)], [[[(9, 1), (8, 1)], (7, 1)], [(6, 1), (5, 1)]]]]\n",
      "\n",
      "[[(4, 4000), (2, 4000)], [[[(9, 1), (8, 1)], [(7, 1), (6, 1)]], [[(5, 1), (3, 1)], [(1, 1), (0, 1)]]]]\n",
      "\n",
      "[[[(2, 4000), (4, 3556)], (1, 3112)], [[(3, 2667), (0, 2223)], [[(9, 1779), (8, 1334)], [(6, 890), [(7, 446), (5, 1)]]]]]\n",
      "\n",
      "[(2, 4000), [(4, 1592), [(1, 634), [(3, 252), [(0, 101), [(9, 40), [(8, 16), [(6, 7), [(7, 3), (5, 1)]]]]]]]]]\n",
      "\n"
     ]
    }
   ],
   "source": [
    "generate_hierarchical_partition(\"MNIST\", MNIST.targets, p_MNIST, mu_MNIST, permutations)"
   ]
  },
  {
   "cell_type": "code",
   "execution_count": 34,
   "metadata": {},
   "outputs": [
    {
     "data": {
      "text/plain": [
       "'a/b/c'"
      ]
     },
     "execution_count": 34,
     "metadata": {},
     "output_type": "execute_result"
    }
   ],
   "source": [
    "os.path.join(\"a\",\"b\",\"c\")"
   ]
  },
  {
   "cell_type": "code",
   "execution_count": 32,
   "metadata": {},
   "outputs": [
    {
     "data": {
      "text/plain": [
       "1.0"
      ]
     },
     "execution_count": 32,
     "metadata": {},
     "output_type": "execute_result"
    }
   ],
   "source": [
    "np.power(np.power(1.0/2, 0), 9)"
   ]
  },
  {
   "cell_type": "code",
   "execution_count": null,
   "metadata": {},
   "outputs": [],
   "source": [
    "# Produce targrt transform and index transform on datasets use by the hierarchical method"
   ]
  },
  {
   "cell_type": "code",
   "execution_count": 5,
   "metadata": {},
   "outputs": [
    {
     "name": "stdout",
     "output_type": "stream",
     "text": [
      "897\n"
     ]
    }
   ],
   "source": [
    "# target dataset MNIST_expo_unbalance_2560to5\n",
    "Dataset = 'MNIST'\n",
    "Distribution = 'expo_unbalance_2560to5'\n",
    "randomState = np.random.RandomState(np.random.seed(12345))\n",
    "target_dataset, _, _ = CustomDataset.load_dataset(dataset_name=Dataset, distribution_name=Distribution, transform = None, data_folder=\"./data\")\n",
    "target_idx_dic = CustomDataset.produce_idx_dic(target_dataset.targets)\n",
    "origin_indexs = np.load(\"./data/\"+Dataset+\"_\"+Distribution +\".npy\")"
   ]
  },
  {
   "cell_type": "code",
   "execution_count": 6,
   "metadata": {},
   "outputs": [
    {
     "data": {
      "text/plain": [
       "array([   13,    14,    19, ..., 59983, 59986, 59998])"
      ]
     },
     "execution_count": 6,
     "metadata": {},
     "output_type": "execute_result"
    }
   ],
   "source": [
    "origin_indexs"
   ]
  },
  {
   "cell_type": "code",
   "execution_count": 7,
   "metadata": {},
   "outputs": [
    {
     "data": {
      "text/plain": [
       "[414, 1748, 2611, 3507, 3853]"
      ]
     },
     "execution_count": 7,
     "metadata": {},
     "output_type": "execute_result"
    }
   ],
   "source": [
    "target_idx_dic[0]"
   ]
  },
  {
   "cell_type": "code",
   "execution_count": 8,
   "metadata": {},
   "outputs": [],
   "source": [
    "# using binary splits on the targets\n",
    "dtype = [('key', int), ('size', int)]\n",
    "sizes = np.array([(0,0)]*len(target_idx_dic.keys()), dtype)\n",
    "total_size = 0\n",
    "\n",
    "for (k,v) in target_idx_dic.items():\n",
    "    sizes[k] = (k,len(v))\n",
    "    total_size = total_size + len(v)\n",
    "\n",
    "sizes[::-1].sort(order='size')\n",
    "\n",
    "def recursive_partition(sizes, total_size):\n",
    "    if (len(sizes) == 1):\n",
    "        return sizes[0]\n",
    "    \n",
    "    class_one_size = 0\n",
    "    index = 0\n",
    "    while class_one_size < total_size/2:\n",
    "        class_one_size = class_one_size + sizes[index][1]\n",
    "        index = index+1\n",
    "    return [\n",
    "        recursive_partition(sizes[0:index], class_one_size), \n",
    "        recursive_partition(sizes[index:], total_size-class_one_size)\n",
    "    ]"
   ]
  },
  {
   "cell_type": "code",
   "execution_count": 9,
   "metadata": {},
   "outputs": [],
   "source": [
    "class_partition = recursive_partition(sizes, total_size)"
   ]
  },
  {
   "cell_type": "code",
   "execution_count": 10,
   "metadata": {},
   "outputs": [
    {
     "data": {
      "text/plain": [
       "True"
      ]
     },
     "execution_count": 10,
     "metadata": {},
     "output_type": "execute_result"
    }
   ],
   "source": [
    "isinstance(class_partition, list)"
   ]
  },
  {
   "cell_type": "code",
   "execution_count": 11,
   "metadata": {},
   "outputs": [
    {
     "data": {
      "text/plain": [
       "[(6, 2560),\n",
       " [(9, 1280),\n",
       "  [(1, 640),\n",
       "   [(2, 320),\n",
       "    [(3, 160), [(5, 80), [(7, 40), [(4, 20), [(8, 10), (0, 5)]]]]]]]]]"
      ]
     },
     "execution_count": 11,
     "metadata": {},
     "output_type": "execute_result"
    }
   ],
   "source": [
    "class_partition"
   ]
  },
  {
   "cell_type": "code",
   "execution_count": 12,
   "metadata": {},
   "outputs": [],
   "source": [
    "# TODO: build levels of classifers and datasets based on the given hierarchical structure"
   ]
  },
  {
   "cell_type": "code",
   "execution_count": 19,
   "metadata": {},
   "outputs": [],
   "source": [
    "def build_datasets_partition(target_idx_dic, class_partition, origin_indexs):\n",
    "    # dataset_partition : (idxs, classes, children) | (idxs, old_class_number)\n",
    "    # children : [dataset_partition, dataset_partition]\n",
    "    # this function will return an dataset_partition build from the root of class_partition\n",
    "    classes = np.array([-1]*10)\n",
    "    children = []\n",
    "    class_number = 0\n",
    "    for child_class_partition in class_partition:\n",
    "        if isinstance(child_class_partition, list):\n",
    "            # build child partition for the classes\n",
    "            child_dataset_partition = build_datasets_partition(target_idx_dic, child_class_partition, origin_indexs)\n",
    "            children.append(child_dataset_partition)\n",
    "            # all classes in the child partition will be merged into single class of current partition\n",
    "            classes[child_dataset_partition.classes!=-1] = class_number\n",
    "        else:\n",
    "            # no child partition, single class\n",
    "            old_class_number = child_class_partition[0]\n",
    "            children.append(\n",
    "                dataset_partition(\n",
    "                    idxs = origin_indexs[target_idx_dic[old_class_number]], \n",
    "                    old_class_number = old_class_number\n",
    "                )\n",
    "            )\n",
    "            classes[old_class_number] = class_number\n",
    "        class_number = class_number+1\n",
    "    \n",
    "    return dataset_partition(classes=classes, children=children)\n",
    "\n",
    "def check_dataset_partition(target_idx_dic, partition):\n",
    "    classes = np.array([0,1,2,3,4,5,6,7,8,9])\n",
    "    frontier = partition.children[:]\n",
    "    while len(frontier) != 0:\n",
    "        item = frontier.pop(0)\n",
    "        if (not item.has_children):\n",
    "            print(item.old_class_number)\n",
    "        else:\n",
    "            frontier = frontier+item.children[:]\n",
    "            temp = classes[item.classes!=-1]\n",
    "            print(temp)\n",
    "    \n",
    "    "
   ]
  },
  {
   "cell_type": "code",
   "execution_count": 20,
   "metadata": {},
   "outputs": [],
   "source": [
    "a = build_datasets_partition(target_idx_dic, class_partition, origin_indexs)"
   ]
  },
  {
   "cell_type": "code",
   "execution_count": 37,
   "metadata": {},
   "outputs": [],
   "source": [
    "import pickle \n",
    "filehandler = open('./data/partition_object_test.txt', 'wb') \n",
    "pickle.dump(a, filehandler)"
   ]
  },
  {
   "cell_type": "code",
   "execution_count": 46,
   "metadata": {},
   "outputs": [],
   "source": [
    "import pickle \n",
    "filehandler = open('./data/partition_object_test.txt', 'rb') \n",
    "a_2 = pickle.load(filehandler)"
   ]
  },
  {
   "cell_type": "code",
   "execution_count": 52,
   "metadata": {},
   "outputs": [],
   "source": [
    "d=CustomDataset.load_partition_dataset(\"MNIST\", a_2.children[1], None, train=True, data_folder=\"./data\")"
   ]
  },
  {
   "cell_type": "code",
   "execution_count": 53,
   "metadata": {},
   "outputs": [],
   "source": [
    "dic = CustomDataset.produce_idx_dic(d.targets)"
   ]
  },
  {
   "cell_type": "code",
   "execution_count": 54,
   "metadata": {},
   "outputs": [
    {
     "name": "stdout",
     "output_type": "stream",
     "text": [
      "1280\n",
      "1275\n"
     ]
    }
   ],
   "source": [
    "for (k,v) in dic.items():\n",
    "    print(len(v))"
   ]
  },
  {
   "cell_type": "code",
   "execution_count": 51,
   "metadata": {},
   "outputs": [
    {
     "name": "stdout",
     "output_type": "stream",
     "text": [
      "6\n",
      "Number: 2560\n",
      "[0 1 2 3 4 5 7 8 9]\n",
      "Number: 2555\n",
      "9\n",
      "Number: 1280\n",
      "[0 1 2 3 4 5 7 8]\n",
      "Number: 1275\n",
      "1\n",
      "Number: 640\n",
      "[0 2 3 4 5 7 8]\n",
      "Number: 635\n",
      "2\n",
      "Number: 320\n",
      "[0 3 4 5 7 8]\n",
      "Number: 315\n",
      "3\n",
      "Number: 160\n",
      "[0 4 5 7 8]\n",
      "Number: 155\n",
      "5\n",
      "Number: 80\n",
      "[0 4 7 8]\n",
      "Number: 75\n",
      "7\n",
      "Number: 40\n",
      "[0 4 8]\n",
      "Number: 35\n",
      "4\n",
      "Number: 20\n",
      "[0 8]\n",
      "Number: 15\n",
      "8\n",
      "Number: 10\n",
      "0\n",
      "Number: 5\n"
     ]
    }
   ],
   "source": [
    "check_dataset_partition(target_idx_dic, a_2)"
   ]
  },
  {
   "cell_type": "code",
   "execution_count": 12,
   "metadata": {},
   "outputs": [],
   "source": [
    "# finished"
   ]
  },
  {
   "cell_type": "code",
   "execution_count": 6,
   "metadata": {},
   "outputs": [
    {
     "data": {
      "text/plain": [
       "array([[-1,  1,  1]])"
      ]
     },
     "execution_count": 6,
     "metadata": {},
     "output_type": "execute_result"
    }
   ],
   "source": [
    "np.array([-1,1,1])[True]"
   ]
  },
  {
   "cell_type": "code",
   "execution_count": 1,
   "metadata": {},
   "outputs": [
    {
     "data": {
      "text/plain": [
       "'1\\n1\\n1\\n1'"
      ]
     },
     "execution_count": 1,
     "metadata": {},
     "output_type": "execute_result"
    }
   ],
   "source": [
    "\"\\n\".join(str(item) for item in [1,1,1,1])"
   ]
  },
  {
   "cell_type": "code",
   "execution_count": 45,
   "metadata": {},
   "outputs": [],
   "source": [
    "m = CustomModels.load_model('Custom_05', 1,  2)\n",
    "target_dataset = datasets.MNIST('./data', train=False, download=True,\n",
    "                                transform=transforms.Compose([\n",
    "                            transforms.Pad(2, fill=0, padding_mode='constant'),\n",
    "                           transforms.ToTensor(),\n",
    "                           transforms.Normalize((0.1307,), (0.3081,))\n",
    "                       ]))"
   ]
  },
  {
   "cell_type": "code",
   "execution_count": 46,
   "metadata": {},
   "outputs": [],
   "source": [
    "loader= torch.utils.data.DataLoader(target_dataset, batch_size=10, shuffle=True, num_workers=4)"
   ]
  },
  {
   "cell_type": "code",
   "execution_count": 32,
   "metadata": {},
   "outputs": [
    {
     "data": {
      "text/plain": [
       "tensor([[[[0., 0., 0.,  ..., 0., 0., 0.],\n",
       "          [0., 0., 0.,  ..., 0., 0., 0.],\n",
       "          [0., 0., 0.,  ..., 0., 0., 0.],\n",
       "          ...,\n",
       "          [0., 0., 0.,  ..., 0., 0., 0.],\n",
       "          [0., 0., 0.,  ..., 0., 0., 0.],\n",
       "          [0., 0., 0.,  ..., 0., 0., 0.]]]])"
      ]
     },
     "execution_count": 32,
     "metadata": {},
     "output_type": "execute_result"
    }
   ],
   "source": [
    "pic = (target_dataset[0][0])\n",
    "tensor = transforms.ToTensor()(pic)\n",
    "tensor.unsqueeze_(0)"
   ]
  },
  {
   "cell_type": "code",
   "execution_count": 48,
   "metadata": {},
   "outputs": [],
   "source": [
    "a = loader.__iter__().next()"
   ]
  },
  {
   "cell_type": "code",
   "execution_count": 72,
   "metadata": {},
   "outputs": [
    {
     "data": {
      "text/plain": [
       "10"
      ]
     },
     "execution_count": 72,
     "metadata": {},
     "output_type": "execute_result"
    }
   ],
   "source": [
    "a[0].shape[0]"
   ]
  },
  {
   "cell_type": "code",
   "execution_count": 33,
   "metadata": {},
   "outputs": [
    {
     "data": {
      "text/plain": [
       "torch.Size([1, 1, 32, 32])"
      ]
     },
     "execution_count": 33,
     "metadata": {},
     "output_type": "execute_result"
    }
   ],
   "source": [
    "tensor.shape"
   ]
  },
  {
   "cell_type": "code",
   "execution_count": 58,
   "metadata": {},
   "outputs": [],
   "source": [
    "result = m(a[0])"
   ]
  },
  {
   "cell_type": "code",
   "execution_count": 74,
   "metadata": {},
   "outputs": [
    {
     "data": {
      "text/plain": [
       "tensor([-0.7331, -0.6521, -0.4208, -0.5569, -0.6298, -1.0289, -1.0347, -0.4753,\n",
       "        -0.6981, -0.7299])"
      ]
     },
     "execution_count": 74,
     "metadata": {},
     "output_type": "execute_result"
    }
   ],
   "source": [
    "result.data[:,0]"
   ]
  },
  {
   "cell_type": "code",
   "execution_count": 73,
   "metadata": {},
   "outputs": [
    {
     "data": {
      "text/plain": [
       "array([[0.48041195, 0.519588  ],\n",
       "       [0.52097166, 0.47902843],\n",
       "       [0.6565223 , 0.34347776],\n",
       "       [0.5729933 , 0.42700675],\n",
       "       [0.53271914, 0.46728086],\n",
       "       [0.357414  , 0.642586  ],\n",
       "       [0.35531732, 0.64468265],\n",
       "       [0.62169015, 0.37830985],\n",
       "       [0.49755234, 0.50244766],\n",
       "       [0.48194927, 0.51805073]], dtype=float32)"
      ]
     },
     "execution_count": 73,
     "metadata": {},
     "output_type": "execute_result"
    }
   ],
   "source": [
    "np.exp(result.data.numpy())"
   ]
  },
  {
   "cell_type": "code",
   "execution_count": 96,
   "metadata": {},
   "outputs": [
    {
     "data": {
      "text/plain": [
       "10"
      ]
     },
     "execution_count": 96,
     "metadata": {},
     "output_type": "execute_result"
    }
   ],
   "source": []
  },
  {
   "cell_type": "code",
   "execution_count": 34,
   "metadata": {},
   "outputs": [],
   "source": [
    "m = torch.tensor([[1,2],\n",
    "             [1,2],\n",
    "                 [2,1]])\n",
    "n = torch.argmax(m,axis=1)"
   ]
  },
  {
   "cell_type": "code",
   "execution_count": 35,
   "metadata": {},
   "outputs": [
    {
     "data": {
      "text/plain": [
       "-0.01005033585350145"
      ]
     },
     "execution_count": 35,
     "metadata": {},
     "output_type": "execute_result"
    }
   ],
   "source": [
    "np.log(0.99)"
   ]
  },
  {
   "cell_type": "code",
   "execution_count": 36,
   "metadata": {},
   "outputs": [
    {
     "data": {
      "text/plain": [
       "tensor([1, 1, 0])"
      ]
     },
     "execution_count": 36,
     "metadata": {},
     "output_type": "execute_result"
    }
   ],
   "source": [
    "n"
   ]
  },
  {
   "cell_type": "code",
   "execution_count": 44,
   "metadata": {},
   "outputs": [],
   "source": [
    "m[np.arange(len(m)),n]\n",
    "m[:,:] = 1"
   ]
  },
  {
   "cell_type": "code",
   "execution_count": 45,
   "metadata": {},
   "outputs": [
    {
     "data": {
      "text/plain": [
       "tensor([[1, 1],\n",
       "        [1, 1],\n",
       "        [1, 1]])"
      ]
     },
     "execution_count": 45,
     "metadata": {},
     "output_type": "execute_result"
    }
   ],
   "source": [
    "m"
   ]
  },
  {
   "cell_type": "code",
   "execution_count": 66,
   "metadata": {},
   "outputs": [
    {
     "ename": "ValueError",
     "evalue": "The truth value of an array with more than one element is ambiguous. Use a.any() or a.all()",
     "output_type": "error",
     "traceback": [
      "\u001b[0;31m---------------------------------------------------------------------------\u001b[0m",
      "\u001b[0;31mValueError\u001b[0m                                Traceback (most recent call last)",
      "\u001b[0;32m<ipython-input-66-f5fe4c8a6b41>\u001b[0m in \u001b[0;36m<module>\u001b[0;34m\u001b[0m\n\u001b[0;32m----> 1\u001b[0;31m \u001b[0;34m(\u001b[0m\u001b[0mnp\u001b[0m\u001b[0;34m.\u001b[0m\u001b[0marray\u001b[0m\u001b[0;34m(\u001b[0m\u001b[0;34m[\u001b[0m\u001b[0;36m1\u001b[0m\u001b[0;34m,\u001b[0m\u001b[0;36m2\u001b[0m\u001b[0;34m,\u001b[0m\u001b[0;36m3\u001b[0m\u001b[0;34m,\u001b[0m\u001b[0;36m4\u001b[0m\u001b[0;34m]\u001b[0m\u001b[0;34m)\u001b[0m \u001b[0;34m==\u001b[0m \u001b[0;36m3\u001b[0m\u001b[0;34m)\u001b[0m \u001b[0;32mand\u001b[0m \u001b[0;34m(\u001b[0m\u001b[0mnp\u001b[0m\u001b[0;34m.\u001b[0m\u001b[0marray\u001b[0m\u001b[0;34m(\u001b[0m\u001b[0;34m[\u001b[0m\u001b[0;36m1\u001b[0m\u001b[0;34m,\u001b[0m\u001b[0;36m0\u001b[0m\u001b[0;34m,\u001b[0m\u001b[0;36m1\u001b[0m\u001b[0;34m,\u001b[0m\u001b[0;36m0\u001b[0m\u001b[0;34m]\u001b[0m\u001b[0;34m)\u001b[0m\u001b[0;34m==\u001b[0m\u001b[0;36m1\u001b[0m\u001b[0;34m)\u001b[0m\u001b[0;34m\u001b[0m\u001b[0;34m\u001b[0m\u001b[0m\n\u001b[0m",
      "\u001b[0;31mValueError\u001b[0m: The truth value of an array with more than one element is ambiguous. Use a.any() or a.all()"
     ]
    }
   ],
   "source": [
    "(np.array([1,2,3,4]) == 3) and (np.array([1,0,1,0])==1)"
   ]
  },
  {
   "cell_type": "code",
   "execution_count": 77,
   "metadata": {},
   "outputs": [],
   "source": [
    "a = 1\n",
    "a += 1"
   ]
  },
  {
   "cell_type": "code",
   "execution_count": 78,
   "metadata": {},
   "outputs": [
    {
     "data": {
      "text/plain": [
       "2"
      ]
     },
     "execution_count": 78,
     "metadata": {},
     "output_type": "execute_result"
    }
   ],
   "source": [
    "a"
   ]
  },
  {
   "cell_type": "code",
   "execution_count": 91,
   "metadata": {},
   "outputs": [],
   "source": [
    "a = np.zeros((10,10))\n",
    "a[:, np.array([1,1,1,0,0,0,1,1,1,0]) == 1] += result.data[:,0].numpy().reshape((10,1))"
   ]
  },
  {
   "cell_type": "code",
   "execution_count": 92,
   "metadata": {},
   "outputs": [
    {
     "data": {
      "text/plain": [
       "array([[-0.73311132, -0.73311132, -0.73311132,  0.        ,  0.        ,\n",
       "         0.        , -0.73311132, -0.73311132, -0.73311132,  0.        ],\n",
       "       [-0.65205967, -0.65205967, -0.65205967,  0.        ,  0.        ,\n",
       "         0.        , -0.65205967, -0.65205967, -0.65205967,  0.        ],\n",
       "       [-0.42079869, -0.42079869, -0.42079869,  0.        ,  0.        ,\n",
       "         0.        , -0.42079869, -0.42079869, -0.42079869,  0.        ],\n",
       "       [-0.55688125, -0.55688125, -0.55688125,  0.        ,  0.        ,\n",
       "         0.        , -0.55688125, -0.55688125, -0.55688125,  0.        ],\n",
       "       [-0.62976092, -0.62976092, -0.62976092,  0.        ,  0.        ,\n",
       "         0.        , -0.62976092, -0.62976092, -0.62976092,  0.        ],\n",
       "       [-1.02886045, -1.02886045, -1.02886045,  0.        ,  0.        ,\n",
       "         0.        , -1.02886045, -1.02886045, -1.02886045,  0.        ],\n",
       "       [-1.03474402, -1.03474402, -1.03474402,  0.        ,  0.        ,\n",
       "         0.        , -1.03474402, -1.03474402, -1.03474402,  0.        ],\n",
       "       [-0.47531348, -0.47531348, -0.47531348,  0.        ,  0.        ,\n",
       "         0.        , -0.47531348, -0.47531348, -0.47531348,  0.        ],\n",
       "       [-0.69805455, -0.69805455, -0.69805455,  0.        ,  0.        ,\n",
       "         0.        , -0.69805455, -0.69805455, -0.69805455,  0.        ],\n",
       "       [-0.72991639, -0.72991639, -0.72991639,  0.        ,  0.        ,\n",
       "         0.        , -0.72991639, -0.72991639, -0.72991639,  0.        ]])"
      ]
     },
     "execution_count": 92,
     "metadata": {},
     "output_type": "execute_result"
    }
   ],
   "source": [
    "a"
   ]
  },
  {
   "cell_type": "code",
   "execution_count": 87,
   "metadata": {},
   "outputs": [
    {
     "data": {
      "text/plain": [
       "tensor([[-0.7331],\n",
       "        [-0.6521],\n",
       "        [-0.4208],\n",
       "        [-0.5569],\n",
       "        [-0.6298],\n",
       "        [-1.0289],\n",
       "        [-1.0347],\n",
       "        [-0.4753],\n",
       "        [-0.6981],\n",
       "        [-0.7299]])"
      ]
     },
     "execution_count": 87,
     "metadata": {},
     "output_type": "execute_result"
    }
   ],
   "source": [
    "result.data[:,0].reshape((10,1))"
   ]
  },
  {
   "cell_type": "code",
   "execution_count": 25,
   "metadata": {},
   "outputs": [
    {
     "data": {
      "text/plain": [
       "array([[ 832,    0,   56,    0,    2,    3,   40,   10,   15,   22],\n",
       "       [   0, 1128,    4,    0,    0,    1,    1,    0,    0,    1],\n",
       "       [   1,    1, 1013,    3,    1,    0,    3,    6,    4,    0],\n",
       "       [   3,    0,    5,  948,    2,   30,    0,   11,   10,    1],\n",
       "       [   0,    6,   15,    0,  822,    0,    8,    5,    9,  117],\n",
       "       [   1,   17,    3,    8,    3,  838,    8,    4,    5,    5],\n",
       "       [   0,    2,    2,    0,    1,    1,  952,    0,    0,    0],\n",
       "       [   3,   18,   35,    3,    7,    1,    0,  891,    4,   66],\n",
       "       [  13,    3,   18,   38,   21,   60,   24,    7,  691,   99],\n",
       "       [   4,    1,    1,    0,    4,    1,    1,    8,    3,  986]])"
      ]
     },
     "execution_count": 25,
     "metadata": {},
     "output_type": "execute_result"
    }
   ],
   "source": [
    "cm = np.load(\"MNIST_hierarchical_test_whole_system_test/result_outputs/confusion_matrix.npy\").astype(int)\n",
    "cm"
   ]
  },
  {
   "cell_type": "code",
   "execution_count": 27,
   "metadata": {},
   "outputs": [
    {
     "data": {
      "text/plain": [
       "0.9086663501138753"
      ]
     },
     "execution_count": 27,
     "metadata": {},
     "output_type": "execute_result"
    }
   ],
   "source": [
    "np.average(np.sum(np.eye(10)* cm,1) / np.sum(cm,1))"
   ]
  },
  {
   "cell_type": "code",
   "execution_count": 9,
   "metadata": {},
   "outputs": [
    {
     "data": {
      "text/plain": [
       "2.718281828459045"
      ]
     },
     "execution_count": 9,
     "metadata": {},
     "output_type": "execute_result"
    }
   ],
   "source": [
    "np.exp(1)"
   ]
  },
  {
   "cell_type": "code",
   "execution_count": 12,
   "metadata": {},
   "outputs": [
    {
     "data": {
      "text/plain": [
       "2440.0"
      ]
     },
     "execution_count": 12,
     "metadata": {},
     "output_type": "execute_result"
    }
   ],
   "source": [
    "np.sum(cm,0)[9]"
   ]
  },
  {
   "cell_type": "code",
   "execution_count": 13,
   "metadata": {},
   "outputs": [
    {
     "data": {
      "text/plain": [
       "10000.0"
      ]
     },
     "execution_count": 13,
     "metadata": {},
     "output_type": "execute_result"
    }
   ],
   "source": [
    "np.sum(cm)"
   ]
  },
  {
   "cell_type": "code",
   "execution_count": null,
   "metadata": {},
   "outputs": [],
   "source": []
  }
 ],
 "metadata": {
  "kernelspec": {
   "display_name": "Python 3",
   "language": "python",
   "name": "python3"
  },
  "language_info": {
   "codemirror_mode": {
    "name": "ipython",
    "version": 3
   },
   "file_extension": ".py",
   "mimetype": "text/x-python",
   "name": "python",
   "nbconvert_exporter": "python",
   "pygments_lexer": "ipython3",
   "version": "3.7.4"
  }
 },
 "nbformat": 4,
 "nbformat_minor": 2
}
