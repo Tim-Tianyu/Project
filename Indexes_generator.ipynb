{
 "cells": [
  {
   "cell_type": "markdown",
   "metadata": {},
   "source": [
    "# Simulate Unbalanced Distribution"
   ]
  },
  {
   "cell_type": "code",
   "execution_count": 1,
   "metadata": {},
   "outputs": [],
   "source": [
    "import imp\n",
    "import random\n",
    "import CustomDataset\n",
    "import CustomModels\n",
    "import os\n",
    "import torch\n",
    "import numpy as np\n",
    "import matplotlib.pyplot as plt\n",
    "from torchvision import datasets, transforms\n",
    "from CustomDataset import dataset_partition\n",
    "from setting import *"
   ]
  },
  {
   "cell_type": "code",
   "execution_count": 2,
   "metadata": {},
   "outputs": [],
   "source": [
    "CIFAR10 = datasets.CIFAR10('./data', train=True, transform=transforms.ToTensor())\n",
    "MNIST = datasets.MNIST('./data', train=True, transform=transforms.ToTensor())\n",
    "MNIST_idx_dic = CustomDataset.produce_idx_dic(MNIST.targets)\n",
    "CIFAR10_idx_dic = CustomDataset.produce_idx_dic(CIFAR10.targets)"
   ]
  },
  {
   "cell_type": "code",
   "execution_count": 3,
   "metadata": {},
   "outputs": [],
   "source": [
    "# create directories\n",
    "def create(path):\n",
    "    if not os.path.isdir(path):\n",
    "        os.mkdir(path)\n",
    "        \n",
    "# eg. Indexs/MNIST/p_?/mu_?/\n",
    "#     Indexs/CIFAR10/p_?/linear/\n",
    "\n",
    "create(\"Indexs\")\n",
    "create(\"Indexs/MNIST\")\n",
    "create(\"Indexs/CIFAR10\")\n",
    "\n",
    "# directories in MNIST\n",
    "path = \"Indexs/MNIST\"\n",
    "for p in p_MNIST:\n",
    "    new_dir = os.path.join(path, 'p_'+str(p))\n",
    "    create(new_dir)\n",
    "    create(os.path.join(new_dir, EXPONENTIAL))\n",
    "    create(os.path.join(new_dir, LINEAR))\n",
    "\n",
    "for p in p_MNIST:\n",
    "    path_d1 = os.path.join(path, 'p_'+str(p))\n",
    "    for mu in mu_MNIST:\n",
    "        new_dir = os.path.join(path_d1, 'mu_'+str(mu))\n",
    "        create(new_dir)\n",
    "\n",
    "# # directories in CIFAR10\n",
    "path = \"Indexs/CIFAR10\"\n",
    "for p in p_CIFAR10:\n",
    "    new_dir = os.path.join(path, 'p_'+str(p))\n",
    "    create(new_dir)\n",
    "    create(os.path.join(new_dir, EXPONENTIAL))\n",
    "    create(os.path.join(new_dir, LINEAR))\n",
    "\n",
    "for p in p_CIFAR10:\n",
    "    path_d1 = os.path.join(path, 'p_'+str(p))\n",
    "    for mu in mu_CIFAR10:\n",
    "        new_dir = os.path.join(path_d1, 'mu_'+str(mu))\n",
    "        create(new_dir)\n"
   ]
  },
  {
   "cell_type": "code",
   "execution_count": 4,
   "metadata": {},
   "outputs": [],
   "source": [
    "# create base index, seperate train set in to train and validation set\n",
    "randomState = np.random.RandomState(np.random.seed(12345))\n",
    "MNIST_eval_idx = CustomDataset.random_select(MNIST_idx_dic, [1000]*10, randomState)\n",
    "CIFAR10_eval_idx = CustomDataset.random_select(CIFAR10_idx_dic, [1000]*10, randomState)\n",
    "np.save(\"Indexs/MNIST_eval\", MNIST_eval_idx)\n",
    "np.save(\"Indexs/CIFAR10_eval\", CIFAR10_eval_idx)\n",
    "\n",
    "MNIST_all_idx = np.arange(len(MNIST.targets))\n",
    "MNIST_train_idx = np.delete(MNIST_all_idx, MNIST_eval_idx)\n",
    "CIFAR10_all_idx = np.arange(len(CIFAR10.targets))\n",
    "CIFAR10_train_idx = np.delete(CIFAR10_all_idx, CIFAR10_eval_idx)\n",
    "np.save(\"Indexs/MNIST_train\", MNIST_train_idx)\n",
    "np.save(\"Indexs/CIFAR10_train\", CIFAR10_train_idx)"
   ]
  },
  {
   "cell_type": "code",
   "execution_count": 14,
   "metadata": {},
   "outputs": [],
   "source": [
    "# create indexs for each distribution and permutation\n",
    "def generate_distribution(max_size, num_classes, p, mu, unbalanced_type):\n",
    "    distribution = np.zeros(num_classes).astype(int)\n",
    "    if (unbalanced_type == LINEAR):\n",
    "        diff = (max_size-int(max_size/p))\n",
    "        for i in range(num_classes):\n",
    "            distribution[i] = int(np.ceil(max_size - (diff*i/9)))\n",
    "            \n",
    "    elif (unbalanced_type == EXPONENTIAL):\n",
    "        ratio = 1.0/p\n",
    "        for i in range(num_classes):\n",
    "            distribution[i] = int(np.ceil(max_size * np.power(ratio,i/9)))\n",
    "            \n",
    "    else:\n",
    "        # STEP unbalanced\n",
    "        assert(mu is not None)\n",
    "        min_size = int(np.ceil(max_size/p))\n",
    "        for i in range(num_classes):\n",
    "            if(i < int((num_classes+1)*(1-mu))):\n",
    "                distribution[i] = max_size\n",
    "            else:\n",
    "                distribution[i] = min_size\n",
    "    print(\"({},p={},mu={}): {}\".format(\n",
    "        unbalanced_type, p, mu, distribution))\n",
    "    return distribution\n",
    "        \n",
    "\n",
    "def generate_indexs(dataset_name, p_list, mu_list, permutations):\n",
    "    path = os.path.join(\"Indexs\", dataset_name)\n",
    "    # generate unbalanced train set index\n",
    "    train_max = train_max_size\n",
    "    class_size = 10\n",
    "    for p in p_list:\n",
    "        num = 0\n",
    "        for permutation in permutations:\n",
    "            num += 1\n",
    "            for mu in mu_list:\n",
    "                # STEP\n",
    "                distribution = generate_distribution(train_max, class_size, p, mu, STEP)\n",
    "                distribution = distribution[np.array(permutation)]\n",
    "                idx = CustomDataset.random_select(MNIST_idx_dic, distribution, randomState)\n",
    "                file_name = os.path.join(path, \"p_\"+str(p), \"mu_\"+str(mu), str(num))\n",
    "                np.save(file_name, idx)\n",
    "            \n",
    "            # LINEAR\n",
    "            generate_distribution(train_max, class_size, p, None, LINEAR)\n",
    "            distribution = distribution[np.array(permutation)]\n",
    "            idx = CustomDataset.random_select(MNIST_idx_dic, distribution, randomState)\n",
    "            file_name = os.path.join(path, \"p_\"+str(p), LINEAR, str(num))\n",
    "            np.save(file_name, idx)\n",
    "            \n",
    "            # EXPONENTIAL\n",
    "            generate_distribution(train_max, class_size, p, None, EXPONENTIAL)\n",
    "            distribution = distribution[np.array(permutation)]\n",
    "            idx = CustomDataset.random_select(MNIST_idx_dic, distribution, randomState)\n",
    "            file_name = os.path.join(path, \"p_\"+str(p), EXPONENTIAL, str(num))\n",
    "            np.save(file_name, idx)\n",
    "            \n",
    "    # generate unbalanced evaluation set index\n",
    "    evaluation_max = train_max_size\n",
    "    class_size = 10\n",
    "    for p in p_list:\n",
    "        num = 0\n",
    "        for permutation in permutations:\n",
    "            num += 1\n",
    "            for mu in mu_list:\n",
    "                # STEP\n",
    "                distribution = generate_distribution(evaluation_max, class_size, p, mu, STEP)\n",
    "                distribution = distribution[np.array(permutation)]\n",
    "                idx = CustomDataset.random_select(MNIST_idx_dic, distribution, randomState)\n",
    "                file_name = os.path.join(path, \"p_\"+str(p), \"mu_\"+str(mu), str(num))\n",
    "                np.save(file_name, idx)\n",
    "            \n",
    "            # LINEAR\n",
    "            distribution = generate_distribution(evaluation_max, class_size, p, None, LINEAR)\n",
    "            distribution = distribution[np.array(permutation)]\n",
    "            idx = CustomDataset.random_select(MNIST_idx_dic, distribution, randomState)\n",
    "            file_name = os.path.join(path, \"p_\"+str(p), LINEAR, str(num))\n",
    "            np.save(file_name, idx)\n",
    "            \n",
    "            # EXPONENTIAL\n",
    "            distribution = generate_distribution(evaluation_max, class_size, p, None, EXPONENTIAL)\n",
    "            distribution = distribution[np.array(permutation)]\n",
    "            idx = CustomDataset.random_select(MNIST_idx_dic, distribution, randomState)\n",
    "            file_name = os.path.join(path, \"p_\"+str(p), EXPONENTIAL, str(num))\n",
    "            np.save(file_name, idx)"
   ]
  },
  {
   "cell_type": "code",
   "execution_count": 15,
   "metadata": {},
   "outputs": [
    {
     "name": "stdout",
     "output_type": "stream",
     "text": [
      "(step,p=10,mu=0.2): [4000 4000 4000 4000 4000 4000 4000 4000  400  400]\n",
      "(step,p=10,mu=0.5): [4000 4000 4000 4000 4000  400  400  400  400  400]\n",
      "(step,p=10,mu=0.8): [4000 4000  400  400  400  400  400  400  400  400]\n",
      "(linear,p=10,mu=None): [4000 3600 3200 2800 2400 2000 1600 1200  800  400]\n",
      "(exponential,p=10,mu=None): [4000 3098 2398 1857 1438 1114  862  668  517  400]\n",
      "(step,p=10,mu=0.2): [4000 4000 4000 4000 4000 4000 4000 4000  400  400]\n",
      "(step,p=10,mu=0.5): [4000 4000 4000 4000 4000  400  400  400  400  400]\n",
      "(step,p=10,mu=0.8): [4000 4000  400  400  400  400  400  400  400  400]\n",
      "(linear,p=10,mu=None): [4000 3600 3200 2800 2400 2000 1600 1200  800  400]\n",
      "(exponential,p=10,mu=None): [4000 3098 2398 1857 1438 1114  862  668  517  400]\n",
      "(step,p=10,mu=0.2): [4000 4000 4000 4000 4000 4000 4000 4000  400  400]\n",
      "(step,p=10,mu=0.5): [4000 4000 4000 4000 4000  400  400  400  400  400]\n",
      "(step,p=10,mu=0.8): [4000 4000  400  400  400  400  400  400  400  400]\n",
      "(linear,p=10,mu=None): [4000 3600 3200 2800 2400 2000 1600 1200  800  400]\n",
      "(exponential,p=10,mu=None): [4000 3098 2398 1857 1438 1114  862  668  517  400]\n",
      "(step,p=10,mu=0.2): [4000 4000 4000 4000 4000 4000 4000 4000  400  400]\n",
      "(step,p=10,mu=0.5): [4000 4000 4000 4000 4000  400  400  400  400  400]\n",
      "(step,p=10,mu=0.8): [4000 4000  400  400  400  400  400  400  400  400]\n",
      "(linear,p=10,mu=None): [4000 3600 3200 2800 2400 2000 1600 1200  800  400]\n",
      "(exponential,p=10,mu=None): [4000 3098 2398 1857 1438 1114  862  668  517  400]\n",
      "(step,p=10,mu=0.2): [4000 4000 4000 4000 4000 4000 4000 4000  400  400]\n",
      "(step,p=10,mu=0.5): [4000 4000 4000 4000 4000  400  400  400  400  400]\n",
      "(step,p=10,mu=0.8): [4000 4000  400  400  400  400  400  400  400  400]\n",
      "(linear,p=10,mu=None): [4000 3600 3200 2800 2400 2000 1600 1200  800  400]\n",
      "(exponential,p=10,mu=None): [4000 3098 2398 1857 1438 1114  862  668  517  400]\n",
      "(step,p=25,mu=0.2): [4000 4000 4000 4000 4000 4000 4000 4000  160  160]\n",
      "(step,p=25,mu=0.5): [4000 4000 4000 4000 4000  160  160  160  160  160]\n",
      "(step,p=25,mu=0.8): [4000 4000  160  160  160  160  160  160  160  160]\n",
      "(linear,p=25,mu=None): [4000 3574 3147 2720 2294 1867 1440 1014  587  160]\n",
      "(exponential,p=25,mu=None): [4000 2798 1957 1368  957  670  468  328  229  160]\n",
      "(step,p=25,mu=0.2): [4000 4000 4000 4000 4000 4000 4000 4000  160  160]\n",
      "(step,p=25,mu=0.5): [4000 4000 4000 4000 4000  160  160  160  160  160]\n",
      "(step,p=25,mu=0.8): [4000 4000  160  160  160  160  160  160  160  160]\n",
      "(linear,p=25,mu=None): [4000 3574 3147 2720 2294 1867 1440 1014  587  160]\n",
      "(exponential,p=25,mu=None): [4000 2798 1957 1368  957  670  468  328  229  160]\n",
      "(step,p=25,mu=0.2): [4000 4000 4000 4000 4000 4000 4000 4000  160  160]\n",
      "(step,p=25,mu=0.5): [4000 4000 4000 4000 4000  160  160  160  160  160]\n",
      "(step,p=25,mu=0.8): [4000 4000  160  160  160  160  160  160  160  160]\n",
      "(linear,p=25,mu=None): [4000 3574 3147 2720 2294 1867 1440 1014  587  160]\n",
      "(exponential,p=25,mu=None): [4000 2798 1957 1368  957  670  468  328  229  160]\n",
      "(step,p=25,mu=0.2): [4000 4000 4000 4000 4000 4000 4000 4000  160  160]\n",
      "(step,p=25,mu=0.5): [4000 4000 4000 4000 4000  160  160  160  160  160]\n",
      "(step,p=25,mu=0.8): [4000 4000  160  160  160  160  160  160  160  160]\n",
      "(linear,p=25,mu=None): [4000 3574 3147 2720 2294 1867 1440 1014  587  160]\n",
      "(exponential,p=25,mu=None): [4000 2798 1957 1368  957  670  468  328  229  160]\n",
      "(step,p=25,mu=0.2): [4000 4000 4000 4000 4000 4000 4000 4000  160  160]\n",
      "(step,p=25,mu=0.5): [4000 4000 4000 4000 4000  160  160  160  160  160]\n",
      "(step,p=25,mu=0.8): [4000 4000  160  160  160  160  160  160  160  160]\n",
      "(linear,p=25,mu=None): [4000 3574 3147 2720 2294 1867 1440 1014  587  160]\n",
      "(exponential,p=25,mu=None): [4000 2798 1957 1368  957  670  468  328  229  160]\n",
      "(step,p=50,mu=0.2): [4000 4000 4000 4000 4000 4000 4000 4000   80   80]\n",
      "(step,p=50,mu=0.5): [4000 4000 4000 4000 4000   80   80   80   80   80]\n",
      "(step,p=50,mu=0.8): [4000 4000   80   80   80   80   80   80   80   80]\n",
      "(linear,p=50,mu=None): [4000 3565 3129 2694 2258 1823 1387  952  516   80]\n",
      "(exponential,p=50,mu=None): [4000 2590 1677 1086  704  456  295  191  124   80]\n",
      "(step,p=50,mu=0.2): [4000 4000 4000 4000 4000 4000 4000 4000   80   80]\n",
      "(step,p=50,mu=0.5): [4000 4000 4000 4000 4000   80   80   80   80   80]\n",
      "(step,p=50,mu=0.8): [4000 4000   80   80   80   80   80   80   80   80]\n",
      "(linear,p=50,mu=None): [4000 3565 3129 2694 2258 1823 1387  952  516   80]\n",
      "(exponential,p=50,mu=None): [4000 2590 1677 1086  704  456  295  191  124   80]\n",
      "(step,p=50,mu=0.2): [4000 4000 4000 4000 4000 4000 4000 4000   80   80]\n",
      "(step,p=50,mu=0.5): [4000 4000 4000 4000 4000   80   80   80   80   80]\n",
      "(step,p=50,mu=0.8): [4000 4000   80   80   80   80   80   80   80   80]\n",
      "(linear,p=50,mu=None): [4000 3565 3129 2694 2258 1823 1387  952  516   80]\n",
      "(exponential,p=50,mu=None): [4000 2590 1677 1086  704  456  295  191  124   80]\n",
      "(step,p=50,mu=0.2): [4000 4000 4000 4000 4000 4000 4000 4000   80   80]\n",
      "(step,p=50,mu=0.5): [4000 4000 4000 4000 4000   80   80   80   80   80]\n",
      "(step,p=50,mu=0.8): [4000 4000   80   80   80   80   80   80   80   80]\n",
      "(linear,p=50,mu=None): [4000 3565 3129 2694 2258 1823 1387  952  516   80]\n",
      "(exponential,p=50,mu=None): [4000 2590 1677 1086  704  456  295  191  124   80]\n",
      "(step,p=50,mu=0.2): [4000 4000 4000 4000 4000 4000 4000 4000   80   80]\n",
      "(step,p=50,mu=0.5): [4000 4000 4000 4000 4000   80   80   80   80   80]\n",
      "(step,p=50,mu=0.8): [4000 4000   80   80   80   80   80   80   80   80]\n",
      "(linear,p=50,mu=None): [4000 3565 3129 2694 2258 1823 1387  952  516   80]\n",
      "(exponential,p=50,mu=None): [4000 2590 1677 1086  704  456  295  191  124   80]\n",
      "(step,p=100,mu=0.2): [4000 4000 4000 4000 4000 4000 4000 4000   40   40]\n",
      "(step,p=100,mu=0.5): [4000 4000 4000 4000 4000   40   40   40   40   40]\n",
      "(step,p=100,mu=0.8): [4000 4000   40   40   40   40   40   40   40   40]\n",
      "(linear,p=100,mu=None): [4000 3560 3120 2680 2240 1800 1360  920  480   40]\n",
      "(exponential,p=100,mu=None): [4000 2398 1438  862  517  310  186  112   67   40]\n",
      "(step,p=100,mu=0.2): [4000 4000 4000 4000 4000 4000 4000 4000   40   40]\n",
      "(step,p=100,mu=0.5): [4000 4000 4000 4000 4000   40   40   40   40   40]\n",
      "(step,p=100,mu=0.8): [4000 4000   40   40   40   40   40   40   40   40]\n",
      "(linear,p=100,mu=None): [4000 3560 3120 2680 2240 1800 1360  920  480   40]\n",
      "(exponential,p=100,mu=None): [4000 2398 1438  862  517  310  186  112   67   40]\n",
      "(step,p=100,mu=0.2): [4000 4000 4000 4000 4000 4000 4000 4000   40   40]\n",
      "(step,p=100,mu=0.5): [4000 4000 4000 4000 4000   40   40   40   40   40]\n",
      "(step,p=100,mu=0.8): [4000 4000   40   40   40   40   40   40   40   40]\n",
      "(linear,p=100,mu=None): [4000 3560 3120 2680 2240 1800 1360  920  480   40]\n",
      "(exponential,p=100,mu=None): [4000 2398 1438  862  517  310  186  112   67   40]\n",
      "(step,p=100,mu=0.2): [4000 4000 4000 4000 4000 4000 4000 4000   40   40]\n",
      "(step,p=100,mu=0.5): [4000 4000 4000 4000 4000   40   40   40   40   40]\n",
      "(step,p=100,mu=0.8): [4000 4000   40   40   40   40   40   40   40   40]\n",
      "(linear,p=100,mu=None): [4000 3560 3120 2680 2240 1800 1360  920  480   40]\n",
      "(exponential,p=100,mu=None): [4000 2398 1438  862  517  310  186  112   67   40]\n",
      "(step,p=100,mu=0.2): [4000 4000 4000 4000 4000 4000 4000 4000   40   40]\n",
      "(step,p=100,mu=0.5): [4000 4000 4000 4000 4000   40   40   40   40   40]\n",
      "(step,p=100,mu=0.8): [4000 4000   40   40   40   40   40   40   40   40]\n",
      "(linear,p=100,mu=None): [4000 3560 3120 2680 2240 1800 1360  920  480   40]\n",
      "(exponential,p=100,mu=None): [4000 2398 1438  862  517  310  186  112   67   40]\n",
      "(step,p=250,mu=0.2): [4000 4000 4000 4000 4000 4000 4000 4000   16   16]\n",
      "(step,p=250,mu=0.5): [4000 4000 4000 4000 4000   16   16   16   16   16]\n",
      "(step,p=250,mu=0.8): [4000 4000   16   16   16   16   16   16   16   16]\n",
      "(linear,p=250,mu=None): [4000 3558 3115 2672 2230 1787 1344  902  459   16]\n",
      "(exponential,p=250,mu=None): [4000 2166 1173  635  344  187  101   55   30   16]\n",
      "(step,p=250,mu=0.2): [4000 4000 4000 4000 4000 4000 4000 4000   16   16]\n",
      "(step,p=250,mu=0.5): [4000 4000 4000 4000 4000   16   16   16   16   16]\n",
      "(step,p=250,mu=0.8): [4000 4000   16   16   16   16   16   16   16   16]\n",
      "(linear,p=250,mu=None): [4000 3558 3115 2672 2230 1787 1344  902  459   16]\n",
      "(exponential,p=250,mu=None): [4000 2166 1173  635  344  187  101   55   30   16]\n",
      "(step,p=250,mu=0.2): [4000 4000 4000 4000 4000 4000 4000 4000   16   16]\n",
      "(step,p=250,mu=0.5): [4000 4000 4000 4000 4000   16   16   16   16   16]\n",
      "(step,p=250,mu=0.8): [4000 4000   16   16   16   16   16   16   16   16]\n",
      "(linear,p=250,mu=None): [4000 3558 3115 2672 2230 1787 1344  902  459   16]\n",
      "(exponential,p=250,mu=None): [4000 2166 1173  635  344  187  101   55   30   16]\n",
      "(step,p=250,mu=0.2): [4000 4000 4000 4000 4000 4000 4000 4000   16   16]\n",
      "(step,p=250,mu=0.5): [4000 4000 4000 4000 4000   16   16   16   16   16]\n",
      "(step,p=250,mu=0.8): [4000 4000   16   16   16   16   16   16   16   16]\n",
      "(linear,p=250,mu=None): [4000 3558 3115 2672 2230 1787 1344  902  459   16]\n",
      "(exponential,p=250,mu=None): [4000 2166 1173  635  344  187  101   55   30   16]\n",
      "(step,p=250,mu=0.2): [4000 4000 4000 4000 4000 4000 4000 4000   16   16]\n",
      "(step,p=250,mu=0.5): [4000 4000 4000 4000 4000   16   16   16   16   16]\n",
      "(step,p=250,mu=0.8): [4000 4000   16   16   16   16   16   16   16   16]\n",
      "(linear,p=250,mu=None): [4000 3558 3115 2672 2230 1787 1344  902  459   16]\n"
     ]
    },
    {
     "name": "stdout",
     "output_type": "stream",
     "text": [
      "(exponential,p=250,mu=None): [4000 2166 1173  635  344  187  101   55   30   16]\n",
      "(step,p=500,mu=0.2): [4000 4000 4000 4000 4000 4000 4000 4000    8    8]\n",
      "(step,p=500,mu=0.5): [4000 4000 4000 4000 4000    8    8    8    8    8]\n",
      "(step,p=500,mu=0.8): [4000 4000    8    8    8    8    8    8    8    8]\n",
      "(linear,p=500,mu=None): [4000 3557 3113 2670 2226 1783 1339  896  452    8]\n",
      "(exponential,p=500,mu=None): [4000 2006 1006  504  253  127   64   32   16    8]\n",
      "(step,p=500,mu=0.2): [4000 4000 4000 4000 4000 4000 4000 4000    8    8]\n",
      "(step,p=500,mu=0.5): [4000 4000 4000 4000 4000    8    8    8    8    8]\n",
      "(step,p=500,mu=0.8): [4000 4000    8    8    8    8    8    8    8    8]\n",
      "(linear,p=500,mu=None): [4000 3557 3113 2670 2226 1783 1339  896  452    8]\n",
      "(exponential,p=500,mu=None): [4000 2006 1006  504  253  127   64   32   16    8]\n",
      "(step,p=500,mu=0.2): [4000 4000 4000 4000 4000 4000 4000 4000    8    8]\n",
      "(step,p=500,mu=0.5): [4000 4000 4000 4000 4000    8    8    8    8    8]\n",
      "(step,p=500,mu=0.8): [4000 4000    8    8    8    8    8    8    8    8]\n",
      "(linear,p=500,mu=None): [4000 3557 3113 2670 2226 1783 1339  896  452    8]\n",
      "(exponential,p=500,mu=None): [4000 2006 1006  504  253  127   64   32   16    8]\n",
      "(step,p=500,mu=0.2): [4000 4000 4000 4000 4000 4000 4000 4000    8    8]\n",
      "(step,p=500,mu=0.5): [4000 4000 4000 4000 4000    8    8    8    8    8]\n",
      "(step,p=500,mu=0.8): [4000 4000    8    8    8    8    8    8    8    8]\n",
      "(linear,p=500,mu=None): [4000 3557 3113 2670 2226 1783 1339  896  452    8]\n",
      "(exponential,p=500,mu=None): [4000 2006 1006  504  253  127   64   32   16    8]\n",
      "(step,p=500,mu=0.2): [4000 4000 4000 4000 4000 4000 4000 4000    8    8]\n",
      "(step,p=500,mu=0.5): [4000 4000 4000 4000 4000    8    8    8    8    8]\n",
      "(step,p=500,mu=0.8): [4000 4000    8    8    8    8    8    8    8    8]\n",
      "(linear,p=500,mu=None): [4000 3557 3113 2670 2226 1783 1339  896  452    8]\n",
      "(exponential,p=500,mu=None): [4000 2006 1006  504  253  127   64   32   16    8]\n",
      "(step,p=1000,mu=0.2): [4000 4000 4000 4000 4000 4000 4000 4000    4    4]\n",
      "(step,p=1000,mu=0.5): [4000 4000 4000 4000 4000    4    4    4    4    4]\n",
      "(step,p=1000,mu=0.8): [4000 4000    4    4    4    4    4    4    4    4]\n",
      "(linear,p=1000,mu=None): [4000 3556 3112 2668 2224 1780 1336  892  448    4]\n",
      "(exponential,p=1000,mu=None): [4000 1857  862  401  186   87   41   19    9    4]\n",
      "(step,p=1000,mu=0.2): [4000 4000 4000 4000 4000 4000 4000 4000    4    4]\n",
      "(step,p=1000,mu=0.5): [4000 4000 4000 4000 4000    4    4    4    4    4]\n",
      "(step,p=1000,mu=0.8): [4000 4000    4    4    4    4    4    4    4    4]\n",
      "(linear,p=1000,mu=None): [4000 3556 3112 2668 2224 1780 1336  892  448    4]\n",
      "(exponential,p=1000,mu=None): [4000 1857  862  401  186   87   41   19    9    4]\n",
      "(step,p=1000,mu=0.2): [4000 4000 4000 4000 4000 4000 4000 4000    4    4]\n",
      "(step,p=1000,mu=0.5): [4000 4000 4000 4000 4000    4    4    4    4    4]\n",
      "(step,p=1000,mu=0.8): [4000 4000    4    4    4    4    4    4    4    4]\n",
      "(linear,p=1000,mu=None): [4000 3556 3112 2668 2224 1780 1336  892  448    4]\n",
      "(exponential,p=1000,mu=None): [4000 1857  862  401  186   87   41   19    9    4]\n",
      "(step,p=1000,mu=0.2): [4000 4000 4000 4000 4000 4000 4000 4000    4    4]\n",
      "(step,p=1000,mu=0.5): [4000 4000 4000 4000 4000    4    4    4    4    4]\n",
      "(step,p=1000,mu=0.8): [4000 4000    4    4    4    4    4    4    4    4]\n",
      "(linear,p=1000,mu=None): [4000 3556 3112 2668 2224 1780 1336  892  448    4]\n",
      "(exponential,p=1000,mu=None): [4000 1857  862  401  186   87   41   19    9    4]\n",
      "(step,p=1000,mu=0.2): [4000 4000 4000 4000 4000 4000 4000 4000    4    4]\n",
      "(step,p=1000,mu=0.5): [4000 4000 4000 4000 4000    4    4    4    4    4]\n",
      "(step,p=1000,mu=0.8): [4000 4000    4    4    4    4    4    4    4    4]\n",
      "(linear,p=1000,mu=None): [4000 3556 3112 2668 2224 1780 1336  892  448    4]\n",
      "(exponential,p=1000,mu=None): [4000 1857  862  401  186   87   41   19    9    4]\n",
      "(step,p=2000,mu=0.2): [4000 4000 4000 4000 4000 4000 4000 4000    2    2]\n",
      "(step,p=2000,mu=0.5): [4000 4000 4000 4000 4000    2    2    2    2    2]\n",
      "(step,p=2000,mu=0.8): [4000 4000    2    2    2    2    2    2    2    2]\n",
      "(linear,p=2000,mu=None): [4000 3556 3112 2668 2224 1779 1335  891  447    2]\n",
      "(exponential,p=2000,mu=None): [4000 1720  739  318  137   59   26   11    5    2]\n",
      "(step,p=2000,mu=0.2): [4000 4000 4000 4000 4000 4000 4000 4000    2    2]\n",
      "(step,p=2000,mu=0.5): [4000 4000 4000 4000 4000    2    2    2    2    2]\n",
      "(step,p=2000,mu=0.8): [4000 4000    2    2    2    2    2    2    2    2]\n",
      "(linear,p=2000,mu=None): [4000 3556 3112 2668 2224 1779 1335  891  447    2]\n",
      "(exponential,p=2000,mu=None): [4000 1720  739  318  137   59   26   11    5    2]\n",
      "(step,p=2000,mu=0.2): [4000 4000 4000 4000 4000 4000 4000 4000    2    2]\n",
      "(step,p=2000,mu=0.5): [4000 4000 4000 4000 4000    2    2    2    2    2]\n",
      "(step,p=2000,mu=0.8): [4000 4000    2    2    2    2    2    2    2    2]\n",
      "(linear,p=2000,mu=None): [4000 3556 3112 2668 2224 1779 1335  891  447    2]\n",
      "(exponential,p=2000,mu=None): [4000 1720  739  318  137   59   26   11    5    2]\n",
      "(step,p=2000,mu=0.2): [4000 4000 4000 4000 4000 4000 4000 4000    2    2]\n",
      "(step,p=2000,mu=0.5): [4000 4000 4000 4000 4000    2    2    2    2    2]\n",
      "(step,p=2000,mu=0.8): [4000 4000    2    2    2    2    2    2    2    2]\n",
      "(linear,p=2000,mu=None): [4000 3556 3112 2668 2224 1779 1335  891  447    2]\n",
      "(exponential,p=2000,mu=None): [4000 1720  739  318  137   59   26   11    5    2]\n",
      "(step,p=2000,mu=0.2): [4000 4000 4000 4000 4000 4000 4000 4000    2    2]\n",
      "(step,p=2000,mu=0.5): [4000 4000 4000 4000 4000    2    2    2    2    2]\n",
      "(step,p=2000,mu=0.8): [4000 4000    2    2    2    2    2    2    2    2]\n",
      "(linear,p=2000,mu=None): [4000 3556 3112 2668 2224 1779 1335  891  447    2]\n",
      "(exponential,p=2000,mu=None): [4000 1720  739  318  137   59   26   11    5    2]\n",
      "(step,p=4000,mu=0.2): [4000 4000 4000 4000 4000 4000 4000 4000    1    1]\n",
      "(step,p=4000,mu=0.5): [4000 4000 4000 4000 4000    1    1    1    1    1]\n",
      "(step,p=4000,mu=0.8): [4000 4000    1    1    1    1    1    1    1    1]\n",
      "(linear,p=4000,mu=None): [4000 3556 3112 2667 2223 1779 1334  890  446    1]\n",
      "(exponential,p=4000,mu=None): [4000 1592  634  252  101   40   16    7    3    1]\n",
      "(step,p=4000,mu=0.2): [4000 4000 4000 4000 4000 4000 4000 4000    1    1]\n",
      "(step,p=4000,mu=0.5): [4000 4000 4000 4000 4000    1    1    1    1    1]\n",
      "(step,p=4000,mu=0.8): [4000 4000    1    1    1    1    1    1    1    1]\n",
      "(linear,p=4000,mu=None): [4000 3556 3112 2667 2223 1779 1334  890  446    1]\n",
      "(exponential,p=4000,mu=None): [4000 1592  634  252  101   40   16    7    3    1]\n",
      "(step,p=4000,mu=0.2): [4000 4000 4000 4000 4000 4000 4000 4000    1    1]\n",
      "(step,p=4000,mu=0.5): [4000 4000 4000 4000 4000    1    1    1    1    1]\n",
      "(step,p=4000,mu=0.8): [4000 4000    1    1    1    1    1    1    1    1]\n",
      "(linear,p=4000,mu=None): [4000 3556 3112 2667 2223 1779 1334  890  446    1]\n",
      "(exponential,p=4000,mu=None): [4000 1592  634  252  101   40   16    7    3    1]\n",
      "(step,p=4000,mu=0.2): [4000 4000 4000 4000 4000 4000 4000 4000    1    1]\n",
      "(step,p=4000,mu=0.5): [4000 4000 4000 4000 4000    1    1    1    1    1]\n",
      "(step,p=4000,mu=0.8): [4000 4000    1    1    1    1    1    1    1    1]\n",
      "(linear,p=4000,mu=None): [4000 3556 3112 2667 2223 1779 1334  890  446    1]\n",
      "(exponential,p=4000,mu=None): [4000 1592  634  252  101   40   16    7    3    1]\n",
      "(step,p=4000,mu=0.2): [4000 4000 4000 4000 4000 4000 4000 4000    1    1]\n",
      "(step,p=4000,mu=0.5): [4000 4000 4000 4000 4000    1    1    1    1    1]\n",
      "(step,p=4000,mu=0.8): [4000 4000    1    1    1    1    1    1    1    1]\n",
      "(linear,p=4000,mu=None): [4000 3556 3112 2667 2223 1779 1334  890  446    1]\n",
      "(exponential,p=4000,mu=None): [4000 1592  634  252  101   40   16    7    3    1]\n",
      "(step,p=10,mu=0.2): [4000 4000 4000 4000 4000 4000 4000 4000  400  400]\n",
      "(step,p=10,mu=0.5): [4000 4000 4000 4000 4000  400  400  400  400  400]\n",
      "(step,p=10,mu=0.8): [4000 4000  400  400  400  400  400  400  400  400]\n",
      "(linear,p=10,mu=None): [4000 3600 3200 2800 2400 2000 1600 1200  800  400]\n",
      "(exponential,p=10,mu=None): [4000 3098 2398 1857 1438 1114  862  668  517  400]\n",
      "(step,p=10,mu=0.2): [4000 4000 4000 4000 4000 4000 4000 4000  400  400]\n",
      "(step,p=10,mu=0.5): [4000 4000 4000 4000 4000  400  400  400  400  400]\n",
      "(step,p=10,mu=0.8): [4000 4000  400  400  400  400  400  400  400  400]\n",
      "(linear,p=10,mu=None): [4000 3600 3200 2800 2400 2000 1600 1200  800  400]\n",
      "(exponential,p=10,mu=None): [4000 3098 2398 1857 1438 1114  862  668  517  400]\n",
      "(step,p=10,mu=0.2): [4000 4000 4000 4000 4000 4000 4000 4000  400  400]\n",
      "(step,p=10,mu=0.5): [4000 4000 4000 4000 4000  400  400  400  400  400]\n",
      "(step,p=10,mu=0.8): [4000 4000  400  400  400  400  400  400  400  400]\n",
      "(linear,p=10,mu=None): [4000 3600 3200 2800 2400 2000 1600 1200  800  400]\n",
      "(exponential,p=10,mu=None): [4000 3098 2398 1857 1438 1114  862  668  517  400]\n",
      "(step,p=10,mu=0.2): [4000 4000 4000 4000 4000 4000 4000 4000  400  400]\n"
     ]
    },
    {
     "name": "stdout",
     "output_type": "stream",
     "text": [
      "(step,p=10,mu=0.5): [4000 4000 4000 4000 4000  400  400  400  400  400]\n",
      "(step,p=10,mu=0.8): [4000 4000  400  400  400  400  400  400  400  400]\n",
      "(linear,p=10,mu=None): [4000 3600 3200 2800 2400 2000 1600 1200  800  400]\n",
      "(exponential,p=10,mu=None): [4000 3098 2398 1857 1438 1114  862  668  517  400]\n",
      "(step,p=10,mu=0.2): [4000 4000 4000 4000 4000 4000 4000 4000  400  400]\n",
      "(step,p=10,mu=0.5): [4000 4000 4000 4000 4000  400  400  400  400  400]\n",
      "(step,p=10,mu=0.8): [4000 4000  400  400  400  400  400  400  400  400]\n",
      "(linear,p=10,mu=None): [4000 3600 3200 2800 2400 2000 1600 1200  800  400]\n",
      "(exponential,p=10,mu=None): [4000 3098 2398 1857 1438 1114  862  668  517  400]\n",
      "(step,p=25,mu=0.2): [4000 4000 4000 4000 4000 4000 4000 4000  160  160]\n",
      "(step,p=25,mu=0.5): [4000 4000 4000 4000 4000  160  160  160  160  160]\n",
      "(step,p=25,mu=0.8): [4000 4000  160  160  160  160  160  160  160  160]\n",
      "(linear,p=25,mu=None): [4000 3574 3147 2720 2294 1867 1440 1014  587  160]\n",
      "(exponential,p=25,mu=None): [4000 2798 1957 1368  957  670  468  328  229  160]\n",
      "(step,p=25,mu=0.2): [4000 4000 4000 4000 4000 4000 4000 4000  160  160]\n",
      "(step,p=25,mu=0.5): [4000 4000 4000 4000 4000  160  160  160  160  160]\n",
      "(step,p=25,mu=0.8): [4000 4000  160  160  160  160  160  160  160  160]\n",
      "(linear,p=25,mu=None): [4000 3574 3147 2720 2294 1867 1440 1014  587  160]\n",
      "(exponential,p=25,mu=None): [4000 2798 1957 1368  957  670  468  328  229  160]\n",
      "(step,p=25,mu=0.2): [4000 4000 4000 4000 4000 4000 4000 4000  160  160]\n",
      "(step,p=25,mu=0.5): [4000 4000 4000 4000 4000  160  160  160  160  160]\n",
      "(step,p=25,mu=0.8): [4000 4000  160  160  160  160  160  160  160  160]\n",
      "(linear,p=25,mu=None): [4000 3574 3147 2720 2294 1867 1440 1014  587  160]\n",
      "(exponential,p=25,mu=None): [4000 2798 1957 1368  957  670  468  328  229  160]\n",
      "(step,p=25,mu=0.2): [4000 4000 4000 4000 4000 4000 4000 4000  160  160]\n",
      "(step,p=25,mu=0.5): [4000 4000 4000 4000 4000  160  160  160  160  160]\n",
      "(step,p=25,mu=0.8): [4000 4000  160  160  160  160  160  160  160  160]\n",
      "(linear,p=25,mu=None): [4000 3574 3147 2720 2294 1867 1440 1014  587  160]\n",
      "(exponential,p=25,mu=None): [4000 2798 1957 1368  957  670  468  328  229  160]\n",
      "(step,p=25,mu=0.2): [4000 4000 4000 4000 4000 4000 4000 4000  160  160]\n",
      "(step,p=25,mu=0.5): [4000 4000 4000 4000 4000  160  160  160  160  160]\n",
      "(step,p=25,mu=0.8): [4000 4000  160  160  160  160  160  160  160  160]\n",
      "(linear,p=25,mu=None): [4000 3574 3147 2720 2294 1867 1440 1014  587  160]\n",
      "(exponential,p=25,mu=None): [4000 2798 1957 1368  957  670  468  328  229  160]\n",
      "(step,p=50,mu=0.2): [4000 4000 4000 4000 4000 4000 4000 4000   80   80]\n",
      "(step,p=50,mu=0.5): [4000 4000 4000 4000 4000   80   80   80   80   80]\n",
      "(step,p=50,mu=0.8): [4000 4000   80   80   80   80   80   80   80   80]\n",
      "(linear,p=50,mu=None): [4000 3565 3129 2694 2258 1823 1387  952  516   80]\n",
      "(exponential,p=50,mu=None): [4000 2590 1677 1086  704  456  295  191  124   80]\n",
      "(step,p=50,mu=0.2): [4000 4000 4000 4000 4000 4000 4000 4000   80   80]\n",
      "(step,p=50,mu=0.5): [4000 4000 4000 4000 4000   80   80   80   80   80]\n",
      "(step,p=50,mu=0.8): [4000 4000   80   80   80   80   80   80   80   80]\n",
      "(linear,p=50,mu=None): [4000 3565 3129 2694 2258 1823 1387  952  516   80]\n",
      "(exponential,p=50,mu=None): [4000 2590 1677 1086  704  456  295  191  124   80]\n",
      "(step,p=50,mu=0.2): [4000 4000 4000 4000 4000 4000 4000 4000   80   80]\n",
      "(step,p=50,mu=0.5): [4000 4000 4000 4000 4000   80   80   80   80   80]\n",
      "(step,p=50,mu=0.8): [4000 4000   80   80   80   80   80   80   80   80]\n",
      "(linear,p=50,mu=None): [4000 3565 3129 2694 2258 1823 1387  952  516   80]\n",
      "(exponential,p=50,mu=None): [4000 2590 1677 1086  704  456  295  191  124   80]\n",
      "(step,p=50,mu=0.2): [4000 4000 4000 4000 4000 4000 4000 4000   80   80]\n",
      "(step,p=50,mu=0.5): [4000 4000 4000 4000 4000   80   80   80   80   80]\n",
      "(step,p=50,mu=0.8): [4000 4000   80   80   80   80   80   80   80   80]\n",
      "(linear,p=50,mu=None): [4000 3565 3129 2694 2258 1823 1387  952  516   80]\n",
      "(exponential,p=50,mu=None): [4000 2590 1677 1086  704  456  295  191  124   80]\n",
      "(step,p=50,mu=0.2): [4000 4000 4000 4000 4000 4000 4000 4000   80   80]\n",
      "(step,p=50,mu=0.5): [4000 4000 4000 4000 4000   80   80   80   80   80]\n",
      "(step,p=50,mu=0.8): [4000 4000   80   80   80   80   80   80   80   80]\n",
      "(linear,p=50,mu=None): [4000 3565 3129 2694 2258 1823 1387  952  516   80]\n",
      "(exponential,p=50,mu=None): [4000 2590 1677 1086  704  456  295  191  124   80]\n",
      "(step,p=100,mu=0.2): [4000 4000 4000 4000 4000 4000 4000 4000   40   40]\n",
      "(step,p=100,mu=0.5): [4000 4000 4000 4000 4000   40   40   40   40   40]\n",
      "(step,p=100,mu=0.8): [4000 4000   40   40   40   40   40   40   40   40]\n",
      "(linear,p=100,mu=None): [4000 3560 3120 2680 2240 1800 1360  920  480   40]\n",
      "(exponential,p=100,mu=None): [4000 2398 1438  862  517  310  186  112   67   40]\n",
      "(step,p=100,mu=0.2): [4000 4000 4000 4000 4000 4000 4000 4000   40   40]\n",
      "(step,p=100,mu=0.5): [4000 4000 4000 4000 4000   40   40   40   40   40]\n",
      "(step,p=100,mu=0.8): [4000 4000   40   40   40   40   40   40   40   40]\n",
      "(linear,p=100,mu=None): [4000 3560 3120 2680 2240 1800 1360  920  480   40]\n",
      "(exponential,p=100,mu=None): [4000 2398 1438  862  517  310  186  112   67   40]\n",
      "(step,p=100,mu=0.2): [4000 4000 4000 4000 4000 4000 4000 4000   40   40]\n",
      "(step,p=100,mu=0.5): [4000 4000 4000 4000 4000   40   40   40   40   40]\n",
      "(step,p=100,mu=0.8): [4000 4000   40   40   40   40   40   40   40   40]\n",
      "(linear,p=100,mu=None): [4000 3560 3120 2680 2240 1800 1360  920  480   40]\n",
      "(exponential,p=100,mu=None): [4000 2398 1438  862  517  310  186  112   67   40]\n",
      "(step,p=100,mu=0.2): [4000 4000 4000 4000 4000 4000 4000 4000   40   40]\n",
      "(step,p=100,mu=0.5): [4000 4000 4000 4000 4000   40   40   40   40   40]\n",
      "(step,p=100,mu=0.8): [4000 4000   40   40   40   40   40   40   40   40]\n",
      "(linear,p=100,mu=None): [4000 3560 3120 2680 2240 1800 1360  920  480   40]\n",
      "(exponential,p=100,mu=None): [4000 2398 1438  862  517  310  186  112   67   40]\n",
      "(step,p=100,mu=0.2): [4000 4000 4000 4000 4000 4000 4000 4000   40   40]\n",
      "(step,p=100,mu=0.5): [4000 4000 4000 4000 4000   40   40   40   40   40]\n",
      "(step,p=100,mu=0.8): [4000 4000   40   40   40   40   40   40   40   40]\n",
      "(linear,p=100,mu=None): [4000 3560 3120 2680 2240 1800 1360  920  480   40]\n",
      "(exponential,p=100,mu=None): [4000 2398 1438  862  517  310  186  112   67   40]\n",
      "(step,p=250,mu=0.2): [4000 4000 4000 4000 4000 4000 4000 4000   16   16]\n",
      "(step,p=250,mu=0.5): [4000 4000 4000 4000 4000   16   16   16   16   16]\n",
      "(step,p=250,mu=0.8): [4000 4000   16   16   16   16   16   16   16   16]\n",
      "(linear,p=250,mu=None): [4000 3558 3115 2672 2230 1787 1344  902  459   16]\n",
      "(exponential,p=250,mu=None): [4000 2166 1173  635  344  187  101   55   30   16]\n",
      "(step,p=250,mu=0.2): [4000 4000 4000 4000 4000 4000 4000 4000   16   16]\n",
      "(step,p=250,mu=0.5): [4000 4000 4000 4000 4000   16   16   16   16   16]\n",
      "(step,p=250,mu=0.8): [4000 4000   16   16   16   16   16   16   16   16]\n",
      "(linear,p=250,mu=None): [4000 3558 3115 2672 2230 1787 1344  902  459   16]\n",
      "(exponential,p=250,mu=None): [4000 2166 1173  635  344  187  101   55   30   16]\n",
      "(step,p=250,mu=0.2): [4000 4000 4000 4000 4000 4000 4000 4000   16   16]\n",
      "(step,p=250,mu=0.5): [4000 4000 4000 4000 4000   16   16   16   16   16]\n",
      "(step,p=250,mu=0.8): [4000 4000   16   16   16   16   16   16   16   16]\n",
      "(linear,p=250,mu=None): [4000 3558 3115 2672 2230 1787 1344  902  459   16]\n",
      "(exponential,p=250,mu=None): [4000 2166 1173  635  344  187  101   55   30   16]\n",
      "(step,p=250,mu=0.2): [4000 4000 4000 4000 4000 4000 4000 4000   16   16]\n",
      "(step,p=250,mu=0.5): [4000 4000 4000 4000 4000   16   16   16   16   16]\n",
      "(step,p=250,mu=0.8): [4000 4000   16   16   16   16   16   16   16   16]\n",
      "(linear,p=250,mu=None): [4000 3558 3115 2672 2230 1787 1344  902  459   16]\n",
      "(exponential,p=250,mu=None): [4000 2166 1173  635  344  187  101   55   30   16]\n",
      "(step,p=250,mu=0.2): [4000 4000 4000 4000 4000 4000 4000 4000   16   16]\n",
      "(step,p=250,mu=0.5): [4000 4000 4000 4000 4000   16   16   16   16   16]\n",
      "(step,p=250,mu=0.8): [4000 4000   16   16   16   16   16   16   16   16]\n",
      "(linear,p=250,mu=None): [4000 3558 3115 2672 2230 1787 1344  902  459   16]\n",
      "(exponential,p=250,mu=None): [4000 2166 1173  635  344  187  101   55   30   16]\n",
      "(step,p=500,mu=0.2): [4000 4000 4000 4000 4000 4000 4000 4000    8    8]\n",
      "(step,p=500,mu=0.5): [4000 4000 4000 4000 4000    8    8    8    8    8]\n",
      "(step,p=500,mu=0.8): [4000 4000    8    8    8    8    8    8    8    8]\n",
      "(linear,p=500,mu=None): [4000 3557 3113 2670 2226 1783 1339  896  452    8]\n",
      "(exponential,p=500,mu=None): [4000 2006 1006  504  253  127   64   32   16    8]\n",
      "(step,p=500,mu=0.2): [4000 4000 4000 4000 4000 4000 4000 4000    8    8]\n",
      "(step,p=500,mu=0.5): [4000 4000 4000 4000 4000    8    8    8    8    8]\n",
      "(step,p=500,mu=0.8): [4000 4000    8    8    8    8    8    8    8    8]\n",
      "(linear,p=500,mu=None): [4000 3557 3113 2670 2226 1783 1339  896  452    8]\n",
      "(exponential,p=500,mu=None): [4000 2006 1006  504  253  127   64   32   16    8]\n",
      "(step,p=500,mu=0.2): [4000 4000 4000 4000 4000 4000 4000 4000    8    8]\n",
      "(step,p=500,mu=0.5): [4000 4000 4000 4000 4000    8    8    8    8    8]\n",
      "(step,p=500,mu=0.8): [4000 4000    8    8    8    8    8    8    8    8]\n"
     ]
    },
    {
     "name": "stdout",
     "output_type": "stream",
     "text": [
      "(linear,p=500,mu=None): [4000 3557 3113 2670 2226 1783 1339  896  452    8]\n",
      "(exponential,p=500,mu=None): [4000 2006 1006  504  253  127   64   32   16    8]\n",
      "(step,p=500,mu=0.2): [4000 4000 4000 4000 4000 4000 4000 4000    8    8]\n",
      "(step,p=500,mu=0.5): [4000 4000 4000 4000 4000    8    8    8    8    8]\n",
      "(step,p=500,mu=0.8): [4000 4000    8    8    8    8    8    8    8    8]\n",
      "(linear,p=500,mu=None): [4000 3557 3113 2670 2226 1783 1339  896  452    8]\n",
      "(exponential,p=500,mu=None): [4000 2006 1006  504  253  127   64   32   16    8]\n",
      "(step,p=500,mu=0.2): [4000 4000 4000 4000 4000 4000 4000 4000    8    8]\n",
      "(step,p=500,mu=0.5): [4000 4000 4000 4000 4000    8    8    8    8    8]\n",
      "(step,p=500,mu=0.8): [4000 4000    8    8    8    8    8    8    8    8]\n",
      "(linear,p=500,mu=None): [4000 3557 3113 2670 2226 1783 1339  896  452    8]\n",
      "(exponential,p=500,mu=None): [4000 2006 1006  504  253  127   64   32   16    8]\n",
      "(step,p=1000,mu=0.2): [4000 4000 4000 4000 4000 4000 4000 4000    4    4]\n",
      "(step,p=1000,mu=0.5): [4000 4000 4000 4000 4000    4    4    4    4    4]\n",
      "(step,p=1000,mu=0.8): [4000 4000    4    4    4    4    4    4    4    4]\n",
      "(linear,p=1000,mu=None): [4000 3556 3112 2668 2224 1780 1336  892  448    4]\n",
      "(exponential,p=1000,mu=None): [4000 1857  862  401  186   87   41   19    9    4]\n",
      "(step,p=1000,mu=0.2): [4000 4000 4000 4000 4000 4000 4000 4000    4    4]\n",
      "(step,p=1000,mu=0.5): [4000 4000 4000 4000 4000    4    4    4    4    4]\n",
      "(step,p=1000,mu=0.8): [4000 4000    4    4    4    4    4    4    4    4]\n",
      "(linear,p=1000,mu=None): [4000 3556 3112 2668 2224 1780 1336  892  448    4]\n",
      "(exponential,p=1000,mu=None): [4000 1857  862  401  186   87   41   19    9    4]\n",
      "(step,p=1000,mu=0.2): [4000 4000 4000 4000 4000 4000 4000 4000    4    4]\n",
      "(step,p=1000,mu=0.5): [4000 4000 4000 4000 4000    4    4    4    4    4]\n",
      "(step,p=1000,mu=0.8): [4000 4000    4    4    4    4    4    4    4    4]\n",
      "(linear,p=1000,mu=None): [4000 3556 3112 2668 2224 1780 1336  892  448    4]\n",
      "(exponential,p=1000,mu=None): [4000 1857  862  401  186   87   41   19    9    4]\n",
      "(step,p=1000,mu=0.2): [4000 4000 4000 4000 4000 4000 4000 4000    4    4]\n",
      "(step,p=1000,mu=0.5): [4000 4000 4000 4000 4000    4    4    4    4    4]\n",
      "(step,p=1000,mu=0.8): [4000 4000    4    4    4    4    4    4    4    4]\n",
      "(linear,p=1000,mu=None): [4000 3556 3112 2668 2224 1780 1336  892  448    4]\n",
      "(exponential,p=1000,mu=None): [4000 1857  862  401  186   87   41   19    9    4]\n",
      "(step,p=1000,mu=0.2): [4000 4000 4000 4000 4000 4000 4000 4000    4    4]\n",
      "(step,p=1000,mu=0.5): [4000 4000 4000 4000 4000    4    4    4    4    4]\n",
      "(step,p=1000,mu=0.8): [4000 4000    4    4    4    4    4    4    4    4]\n",
      "(linear,p=1000,mu=None): [4000 3556 3112 2668 2224 1780 1336  892  448    4]\n",
      "(exponential,p=1000,mu=None): [4000 1857  862  401  186   87   41   19    9    4]\n",
      "(step,p=2000,mu=0.2): [4000 4000 4000 4000 4000 4000 4000 4000    2    2]\n",
      "(step,p=2000,mu=0.5): [4000 4000 4000 4000 4000    2    2    2    2    2]\n",
      "(step,p=2000,mu=0.8): [4000 4000    2    2    2    2    2    2    2    2]\n",
      "(linear,p=2000,mu=None): [4000 3556 3112 2668 2224 1779 1335  891  447    2]\n",
      "(exponential,p=2000,mu=None): [4000 1720  739  318  137   59   26   11    5    2]\n",
      "(step,p=2000,mu=0.2): [4000 4000 4000 4000 4000 4000 4000 4000    2    2]\n",
      "(step,p=2000,mu=0.5): [4000 4000 4000 4000 4000    2    2    2    2    2]\n",
      "(step,p=2000,mu=0.8): [4000 4000    2    2    2    2    2    2    2    2]\n",
      "(linear,p=2000,mu=None): [4000 3556 3112 2668 2224 1779 1335  891  447    2]\n",
      "(exponential,p=2000,mu=None): [4000 1720  739  318  137   59   26   11    5    2]\n",
      "(step,p=2000,mu=0.2): [4000 4000 4000 4000 4000 4000 4000 4000    2    2]\n",
      "(step,p=2000,mu=0.5): [4000 4000 4000 4000 4000    2    2    2    2    2]\n",
      "(step,p=2000,mu=0.8): [4000 4000    2    2    2    2    2    2    2    2]\n",
      "(linear,p=2000,mu=None): [4000 3556 3112 2668 2224 1779 1335  891  447    2]\n",
      "(exponential,p=2000,mu=None): [4000 1720  739  318  137   59   26   11    5    2]\n",
      "(step,p=2000,mu=0.2): [4000 4000 4000 4000 4000 4000 4000 4000    2    2]\n",
      "(step,p=2000,mu=0.5): [4000 4000 4000 4000 4000    2    2    2    2    2]\n",
      "(step,p=2000,mu=0.8): [4000 4000    2    2    2    2    2    2    2    2]\n",
      "(linear,p=2000,mu=None): [4000 3556 3112 2668 2224 1779 1335  891  447    2]\n",
      "(exponential,p=2000,mu=None): [4000 1720  739  318  137   59   26   11    5    2]\n",
      "(step,p=2000,mu=0.2): [4000 4000 4000 4000 4000 4000 4000 4000    2    2]\n",
      "(step,p=2000,mu=0.5): [4000 4000 4000 4000 4000    2    2    2    2    2]\n",
      "(step,p=2000,mu=0.8): [4000 4000    2    2    2    2    2    2    2    2]\n",
      "(linear,p=2000,mu=None): [4000 3556 3112 2668 2224 1779 1335  891  447    2]\n",
      "(exponential,p=2000,mu=None): [4000 1720  739  318  137   59   26   11    5    2]\n",
      "(step,p=4000,mu=0.2): [4000 4000 4000 4000 4000 4000 4000 4000    1    1]\n",
      "(step,p=4000,mu=0.5): [4000 4000 4000 4000 4000    1    1    1    1    1]\n",
      "(step,p=4000,mu=0.8): [4000 4000    1    1    1    1    1    1    1    1]\n",
      "(linear,p=4000,mu=None): [4000 3556 3112 2667 2223 1779 1334  890  446    1]\n",
      "(exponential,p=4000,mu=None): [4000 1592  634  252  101   40   16    7    3    1]\n",
      "(step,p=4000,mu=0.2): [4000 4000 4000 4000 4000 4000 4000 4000    1    1]\n",
      "(step,p=4000,mu=0.5): [4000 4000 4000 4000 4000    1    1    1    1    1]\n",
      "(step,p=4000,mu=0.8): [4000 4000    1    1    1    1    1    1    1    1]\n",
      "(linear,p=4000,mu=None): [4000 3556 3112 2667 2223 1779 1334  890  446    1]\n",
      "(exponential,p=4000,mu=None): [4000 1592  634  252  101   40   16    7    3    1]\n",
      "(step,p=4000,mu=0.2): [4000 4000 4000 4000 4000 4000 4000 4000    1    1]\n",
      "(step,p=4000,mu=0.5): [4000 4000 4000 4000 4000    1    1    1    1    1]\n",
      "(step,p=4000,mu=0.8): [4000 4000    1    1    1    1    1    1    1    1]\n",
      "(linear,p=4000,mu=None): [4000 3556 3112 2667 2223 1779 1334  890  446    1]\n",
      "(exponential,p=4000,mu=None): [4000 1592  634  252  101   40   16    7    3    1]\n",
      "(step,p=4000,mu=0.2): [4000 4000 4000 4000 4000 4000 4000 4000    1    1]\n",
      "(step,p=4000,mu=0.5): [4000 4000 4000 4000 4000    1    1    1    1    1]\n",
      "(step,p=4000,mu=0.8): [4000 4000    1    1    1    1    1    1    1    1]\n",
      "(linear,p=4000,mu=None): [4000 3556 3112 2667 2223 1779 1334  890  446    1]\n",
      "(exponential,p=4000,mu=None): [4000 1592  634  252  101   40   16    7    3    1]\n",
      "(step,p=4000,mu=0.2): [4000 4000 4000 4000 4000 4000 4000 4000    1    1]\n",
      "(step,p=4000,mu=0.5): [4000 4000 4000 4000 4000    1    1    1    1    1]\n",
      "(step,p=4000,mu=0.8): [4000 4000    1    1    1    1    1    1    1    1]\n",
      "(linear,p=4000,mu=None): [4000 3556 3112 2667 2223 1779 1334  890  446    1]\n",
      "(exponential,p=4000,mu=None): [4000 1592  634  252  101   40   16    7    3    1]\n"
     ]
    }
   ],
   "source": [
    "generate_indexs('MNIST', p_MNIST, mu_MNIST, permutations)"
   ]
  },
  {
   "cell_type": "code",
   "execution_count": 34,
   "metadata": {},
   "outputs": [
    {
     "data": {
      "text/plain": [
       "'a/b/c'"
      ]
     },
     "execution_count": 34,
     "metadata": {},
     "output_type": "execute_result"
    }
   ],
   "source": [
    "os.path.join(\"a\",\"b\",\"c\")"
   ]
  },
  {
   "cell_type": "code",
   "execution_count": 32,
   "metadata": {},
   "outputs": [
    {
     "data": {
      "text/plain": [
       "1.0"
      ]
     },
     "execution_count": 32,
     "metadata": {},
     "output_type": "execute_result"
    }
   ],
   "source": [
    "np.power(np.power(1.0/2, 0), 9)"
   ]
  },
  {
   "cell_type": "code",
   "execution_count": 8,
   "metadata": {},
   "outputs": [],
   "source": [
    "# get indexs for each targets\n",
    "MNIST_idx_dic = CustomDataset.produce_idx_dic(MNIST.targets)\n",
    "CIFAR10_idx_dic = CustomDataset.produce_idx_dic(CIFAR10.targets)"
   ]
  },
  {
   "cell_type": "code",
   "execution_count": 9,
   "metadata": {},
   "outputs": [],
   "source": [
    "# randomly select index and store as a npy file\n",
    "randomState = np.random.RandomState(np.random.seed(12345))\n",
    "for i in range(len(names)-1, len(names)):\n",
    "    distribution = np.array(shapes[i])[permutation]\n",
    "    MNIST_new_idx = CustomDataset.random_select(MNIST_idx_dic, distribution, randomState)\n",
    "    CIFAR10_new_idx = CustomDataset.random_select(CIFAR10_idx_dic, distribution, randomState)\n",
    "    \n",
    "    np.save(\"./data/MNIST_\"+names[i], MNIST_new_idx)\n",
    "    np.save(\"./data/CIFAR10_\"+names[i], CIFAR10_new_idx)\n",
    "    "
   ]
  },
  {
   "cell_type": "code",
   "execution_count": 21,
   "metadata": {},
   "outputs": [
    {
     "name": "stdout",
     "output_type": "stream",
     "text": [
      "Files already downloaded and verified\n"
     ]
    }
   ],
   "source": [
    "# produce evaluation set indexs\n",
    "permutation = np.array([9, 2, 3, 4, 7, 5, 0, 6, 8, 1])\n",
    "transform = transforms.Compose(\n",
    "    [transforms.ToTensor(),\n",
    "     transforms.Normalize((0.4914, 0.4822, 0.4465), (0.247, 0.243, 0.261))])\n",
    "\n",
    "CIFAR10 = datasets.CIFAR10(root='./data', train=False,\n",
    "                                        download=True, transform=transform)\n",
    "\n",
    "MNIST = datasets.MNIST('./data', train=False, download=True,\n",
    "                       transform=transforms.Compose([\n",
    "                           transforms.ToTensor(),\n",
    "                           transforms.Normalize((0.1307,), (0.3081,))\n",
    "                       ]))\n",
    "\n",
    "MNIST_idx_dic = CustomDataset.produce_idx_dic(MNIST.targets)\n",
    "CIFAR10_idx_dic = CustomDataset.produce_idx_dic(CIFAR10.targets)\n",
    "\n",
    "randomState = np.random.RandomState(np.random.seed(32131))\n",
    "for i in range(0, len(names)):\n",
    "    distribution =((np.array(shapes[i])[permutation] / 6) + 5).astype(int)\n",
    "    MNIST_new_idx = CustomDataset.random_select(MNIST_idx_dic, distribution, randomState)\n",
    "    MNIST_test_idx = np.delete(np.arange(len(MNIST.targets)), MNIST_new_idx, axis=0)\n",
    "    np.save(\"./data/MNIST_\"+names[i]+\"_eval\", MNIST_new_idx)\n",
    "    np.save(\"./data/MNIST_\"+names[i]+\"_test\", MNIST_test_idx)\n",
    "    \n",
    "    CIFAR10_new_idx = CustomDataset.random_select(CIFAR10_idx_dic, distribution, randomState)\n",
    "    CIFAR10_test_idx = np.delete(np.arange(len(CIFAR10.targets)), CIFAR10_new_idx, axis=0)\n",
    "    np.save(\"./data/CIFAR10_\"+names[i]+\"_eval\", CIFAR10_new_idx)\n",
    "    np.save(\"./data/CIFAR10_\"+names[i]+\"_test\", CIFAR10_test_idx)\n",
    "    "
   ]
  },
  {
   "cell_type": "code",
   "execution_count": 6,
   "metadata": {},
   "outputs": [],
   "source": [
    "# duplicate samples in expo_unbalance_2560to5 make it have the same size as balance_2560, compare with balance_2560\n",
    "Dataset = 'MNIST'\n",
    "Original_Distribution = 'expo_unbalance_2560to5'\n",
    "Rescaled_Distribution = '2560to5_rescaled'\n",
    "Rescaled_Number = 2560"
   ]
  },
  {
   "cell_type": "code",
   "execution_count": 5,
   "metadata": {},
   "outputs": [
    {
     "ename": "NameError",
     "evalue": "name 'Dataset' is not defined",
     "output_type": "error",
     "traceback": [
      "\u001b[0;31m---------------------------------------------------------------------------\u001b[0m",
      "\u001b[0;31mNameError\u001b[0m                                 Traceback (most recent call last)",
      "\u001b[0;32m<ipython-input-5-ebf5b8d77e98>\u001b[0m in \u001b[0;36m<module>\u001b[0;34m\u001b[0m\n\u001b[1;32m      1\u001b[0m \u001b[0mrandomState\u001b[0m \u001b[0;34m=\u001b[0m \u001b[0mnp\u001b[0m\u001b[0;34m.\u001b[0m\u001b[0mrandom\u001b[0m\u001b[0;34m.\u001b[0m\u001b[0mRandomState\u001b[0m\u001b[0;34m(\u001b[0m\u001b[0mnp\u001b[0m\u001b[0;34m.\u001b[0m\u001b[0mrandom\u001b[0m\u001b[0;34m.\u001b[0m\u001b[0mseed\u001b[0m\u001b[0;34m(\u001b[0m\u001b[0;36m12345\u001b[0m\u001b[0;34m)\u001b[0m\u001b[0;34m)\u001b[0m\u001b[0;34m\u001b[0m\u001b[0;34m\u001b[0m\u001b[0m\n\u001b[0;32m----> 2\u001b[0;31m \u001b[0mtarget_dataset\u001b[0m \u001b[0;34m=\u001b[0m \u001b[0mCustomDataset\u001b[0m\u001b[0;34m.\u001b[0m\u001b[0mload_dataset\u001b[0m\u001b[0;34m(\u001b[0m\u001b[0mdataset_name\u001b[0m\u001b[0;34m=\u001b[0m\u001b[0mDataset\u001b[0m\u001b[0;34m,\u001b[0m \u001b[0mdistribution_name\u001b[0m\u001b[0;34m=\u001b[0m\u001b[0mOriginal_Distribution\u001b[0m\u001b[0;34m,\u001b[0m \u001b[0mtransform\u001b[0m \u001b[0;34m=\u001b[0m \u001b[0;32mNone\u001b[0m\u001b[0;34m,\u001b[0m \u001b[0mdata_folder\u001b[0m\u001b[0;34m=\u001b[0m\u001b[0;34m\"./data\"\u001b[0m\u001b[0;34m)\u001b[0m\u001b[0;34m\u001b[0m\u001b[0;34m\u001b[0m\u001b[0m\n\u001b[0m\u001b[1;32m      3\u001b[0m \u001b[0mtarget_idx_dic\u001b[0m \u001b[0;34m=\u001b[0m \u001b[0mCustomDataset\u001b[0m\u001b[0;34m.\u001b[0m\u001b[0mproduce_idx_dic\u001b[0m\u001b[0;34m(\u001b[0m\u001b[0mtarget_dataset\u001b[0m\u001b[0;34m.\u001b[0m\u001b[0mtargets\u001b[0m\u001b[0;34m)\u001b[0m\u001b[0;34m\u001b[0m\u001b[0;34m\u001b[0m\u001b[0m\n\u001b[1;32m      4\u001b[0m \u001b[0mresult_idxs\u001b[0m \u001b[0;34m=\u001b[0m \u001b[0mCustomDataset\u001b[0m\u001b[0;34m.\u001b[0m\u001b[0mduplicate_idxs\u001b[0m\u001b[0;34m(\u001b[0m\u001b[0mtarget_idx_dic\u001b[0m\u001b[0;34m,\u001b[0m \u001b[0mRescaled_Number\u001b[0m\u001b[0;34m,\u001b[0m \u001b[0mrandomState\u001b[0m\u001b[0;34m=\u001b[0m\u001b[0mrandomState\u001b[0m\u001b[0;34m)\u001b[0m\u001b[0;34m\u001b[0m\u001b[0;34m\u001b[0m\u001b[0m\n\u001b[1;32m      5\u001b[0m \u001b[0mnp\u001b[0m\u001b[0;34m.\u001b[0m\u001b[0msave\u001b[0m\u001b[0;34m(\u001b[0m\u001b[0;34m\"./data/\"\u001b[0m\u001b[0;34m+\u001b[0m\u001b[0mDataset\u001b[0m\u001b[0;34m+\u001b[0m\u001b[0;34m\"_\"\u001b[0m\u001b[0;34m+\u001b[0m\u001b[0mRescaled_Distribution\u001b[0m\u001b[0;34m,\u001b[0m \u001b[0mnp\u001b[0m\u001b[0;34m.\u001b[0m\u001b[0mload\u001b[0m\u001b[0;34m(\u001b[0m\u001b[0;34m\"./data/\"\u001b[0m\u001b[0;34m+\u001b[0m\u001b[0mDataset\u001b[0m\u001b[0;34m+\u001b[0m\u001b[0;34m\"_\"\u001b[0m\u001b[0;34m+\u001b[0m\u001b[0mOriginal_Distribution\u001b[0m\u001b[0;34m+\u001b[0m\u001b[0;34m\".npy\"\u001b[0m\u001b[0;34m)\u001b[0m\u001b[0;34m[\u001b[0m\u001b[0mresult_idxs\u001b[0m\u001b[0;34m]\u001b[0m\u001b[0;34m)\u001b[0m\u001b[0;34m\u001b[0m\u001b[0;34m\u001b[0m\u001b[0m\n",
      "\u001b[0;31mNameError\u001b[0m: name 'Dataset' is not defined"
     ]
    }
   ],
   "source": [
    "randomState = np.random.RandomState(np.random.seed(12345))\n",
    "target_dataset = CustomDataset.load_dataset(dataset_name=Dataset, distribution_name=Original_Distribution, transform = None, data_folder=\"./data\")\n",
    "target_idx_dic = CustomDataset.produce_idx_dic(target_dataset.targets)\n",
    "result_idxs = CustomDataset.duplicate_idxs(target_idx_dic, Rescaled_Number, randomState=randomState)\n",
    "np.save(\"./data/\"+Dataset+\"_\"+Rescaled_Distribution, np.load(\"./data/\"+Dataset+\"_\"+Original_Distribution+\".npy\")[result_idxs])"
   ]
  },
  {
   "cell_type": "code",
   "execution_count": 16,
   "metadata": {},
   "outputs": [],
   "source": [
    "#test\n",
    "test = CustomDataset.CustomMNIST(\"./data\", \n",
    "                                 indexs_name=\"MNIST_2560to5_rescaled.npy\")\n",
    "dic = CustomDataset.produce_idx_dic(test.targets)"
   ]
  },
  {
   "cell_type": "code",
   "execution_count": 17,
   "metadata": {},
   "outputs": [
    {
     "name": "stdout",
     "output_type": "stream",
     "text": [
      "0\n",
      "5\n",
      "1\n",
      "640\n",
      "2\n",
      "320\n",
      "3\n",
      "160\n",
      "4\n",
      "20\n",
      "5\n",
      "80\n",
      "6\n",
      "2560\n",
      "7\n",
      "40\n",
      "8\n",
      "10\n",
      "9\n",
      "1280\n"
     ]
    },
    {
     "data": {
      "image/png": "[encoded data removed]",
      "text/plain": [
       "<Figure size 432x288 with 10 Axes>"
      ]
     },
     "metadata": {
      "needs_background": "light"
     },
     "output_type": "display_data"
    }
   ],
   "source": [
    "fig = plt.figure()\n",
    "for (k,v) in dic.items():\n",
    "    plt.subplot(2,5,k+1)\n",
    "    print(k)\n",
    "    print(len(v))\n",
    "    #plt.imshow(test[v[10]][0][0,:,:], cmap='gray', interpolation='none')"
   ]
  },
  {
   "cell_type": "code",
   "execution_count": null,
   "metadata": {},
   "outputs": [],
   "source": [
    "# Produce targrt transform and index transform on datasets use by the hierarchical method"
   ]
  },
  {
   "cell_type": "code",
   "execution_count": 5,
   "metadata": {},
   "outputs": [
    {
     "name": "stdout",
     "output_type": "stream",
     "text": [
      "897\n"
     ]
    }
   ],
   "source": [
    "# target dataset MNIST_expo_unbalance_2560to5\n",
    "Dataset = 'MNIST'\n",
    "Distribution = 'expo_unbalance_2560to5'\n",
    "randomState = np.random.RandomState(np.random.seed(12345))\n",
    "target_dataset, _, _ = CustomDataset.load_dataset(dataset_name=Dataset, distribution_name=Distribution, transform = None, data_folder=\"./data\")\n",
    "target_idx_dic = CustomDataset.produce_idx_dic(target_dataset.targets)\n",
    "origin_indexs = np.load(\"./data/\"+Dataset+\"_\"+Distribution +\".npy\")"
   ]
  },
  {
   "cell_type": "code",
   "execution_count": 6,
   "metadata": {},
   "outputs": [
    {
     "data": {
      "text/plain": [
       "array([   13,    14,    19, ..., 59983, 59986, 59998])"
      ]
     },
     "execution_count": 6,
     "metadata": {},
     "output_type": "execute_result"
    }
   ],
   "source": [
    "origin_indexs"
   ]
  },
  {
   "cell_type": "code",
   "execution_count": 7,
   "metadata": {},
   "outputs": [
    {
     "data": {
      "text/plain": [
       "[414, 1748, 2611, 3507, 3853]"
      ]
     },
     "execution_count": 7,
     "metadata": {},
     "output_type": "execute_result"
    }
   ],
   "source": [
    "target_idx_dic[0]"
   ]
  },
  {
   "cell_type": "code",
   "execution_count": 8,
   "metadata": {},
   "outputs": [],
   "source": [
    "# using binary splits on the targets\n",
    "dtype = [('key', int), ('size', int)]\n",
    "sizes = np.array([(0,0)]*len(target_idx_dic.keys()), dtype)\n",
    "total_size = 0\n",
    "\n",
    "for (k,v) in target_idx_dic.items():\n",
    "    sizes[k] = (k,len(v))\n",
    "    total_size = total_size + len(v)\n",
    "\n",
    "sizes[::-1].sort(order='size')\n",
    "\n",
    "def recursive_partition(sizes, total_size):\n",
    "    if (len(sizes) == 1):\n",
    "        return sizes[0]\n",
    "    \n",
    "    class_one_size = 0\n",
    "    index = 0\n",
    "    while class_one_size < total_size/2:\n",
    "        class_one_size = class_one_size + sizes[index][1]\n",
    "        index = index+1\n",
    "    return [\n",
    "        recursive_partition(sizes[0:index], class_one_size), \n",
    "        recursive_partition(sizes[index:], total_size-class_one_size)\n",
    "    ]"
   ]
  },
  {
   "cell_type": "code",
   "execution_count": 9,
   "metadata": {},
   "outputs": [],
   "source": [
    "class_partition = recursive_partition(sizes, total_size)"
   ]
  },
  {
   "cell_type": "code",
   "execution_count": 10,
   "metadata": {},
   "outputs": [
    {
     "data": {
      "text/plain": [
       "True"
      ]
     },
     "execution_count": 10,
     "metadata": {},
     "output_type": "execute_result"
    }
   ],
   "source": [
    "isinstance(class_partition, list)"
   ]
  },
  {
   "cell_type": "code",
   "execution_count": 11,
   "metadata": {},
   "outputs": [
    {
     "data": {
      "text/plain": [
       "[(6, 2560),\n",
       " [(9, 1280),\n",
       "  [(1, 640),\n",
       "   [(2, 320),\n",
       "    [(3, 160), [(5, 80), [(7, 40), [(4, 20), [(8, 10), (0, 5)]]]]]]]]]"
      ]
     },
     "execution_count": 11,
     "metadata": {},
     "output_type": "execute_result"
    }
   ],
   "source": [
    "class_partition"
   ]
  },
  {
   "cell_type": "code",
   "execution_count": 12,
   "metadata": {},
   "outputs": [],
   "source": [
    "# TODO: build levels of classifers and datasets based on the given hierarchical structure"
   ]
  },
  {
   "cell_type": "code",
   "execution_count": 19,
   "metadata": {},
   "outputs": [],
   "source": [
    "def build_datasets_partition(target_idx_dic, class_partition, origin_indexs):\n",
    "    # dataset_partition : (idxs, classes, children) | (idxs, old_class_number)\n",
    "    # children : [dataset_partition, dataset_partition]\n",
    "    # this function will return an dataset_partition build from the root of class_partition\n",
    "    classes = np.array([-1]*10)\n",
    "    children = []\n",
    "    class_number = 0\n",
    "    for child_class_partition in class_partition:\n",
    "        if isinstance(child_class_partition, list):\n",
    "            # build child partition for the classes\n",
    "            child_dataset_partition = build_datasets_partition(target_idx_dic, child_class_partition, origin_indexs)\n",
    "            children.append(child_dataset_partition)\n",
    "            # all classes in the child partition will be merged into single class of current partition\n",
    "            classes[child_dataset_partition.classes!=-1] = class_number\n",
    "        else:\n",
    "            # no child partition, single class\n",
    "            old_class_number = child_class_partition[0]\n",
    "            children.append(\n",
    "                dataset_partition(\n",
    "                    idxs = origin_indexs[target_idx_dic[old_class_number]], \n",
    "                    old_class_number = old_class_number\n",
    "                )\n",
    "            )\n",
    "            classes[old_class_number] = class_number\n",
    "        class_number = class_number+1\n",
    "    \n",
    "    return dataset_partition(classes=classes, children=children)\n",
    "\n",
    "def check_dataset_partition(target_idx_dic, partition):\n",
    "    classes = np.array([0,1,2,3,4,5,6,7,8,9])\n",
    "    frontier = partition.children[:]\n",
    "    while len(frontier) != 0:\n",
    "        item = frontier.pop(0)\n",
    "        if (not item.has_children):\n",
    "            print(item.old_class_number)\n",
    "        else:\n",
    "            frontier = frontier+item.children[:]\n",
    "            temp = classes[item.classes!=-1]\n",
    "            print(temp)\n",
    "    \n",
    "    "
   ]
  },
  {
   "cell_type": "code",
   "execution_count": 20,
   "metadata": {},
   "outputs": [],
   "source": [
    "a = build_datasets_partition(target_idx_dic, class_partition, origin_indexs)"
   ]
  },
  {
   "cell_type": "code",
   "execution_count": 37,
   "metadata": {},
   "outputs": [],
   "source": [
    "import pickle \n",
    "filehandler = open('./data/partition_object_test.txt', 'wb') \n",
    "pickle.dump(a, filehandler)"
   ]
  },
  {
   "cell_type": "code",
   "execution_count": 46,
   "metadata": {},
   "outputs": [],
   "source": [
    "import pickle \n",
    "filehandler = open('./data/partition_object_test.txt', 'rb') \n",
    "a_2 = pickle.load(filehandler)"
   ]
  },
  {
   "cell_type": "code",
   "execution_count": 52,
   "metadata": {},
   "outputs": [],
   "source": [
    "d=CustomDataset.load_partition_dataset(\"MNIST\", a_2.children[1], None, train=True, data_folder=\"./data\")"
   ]
  },
  {
   "cell_type": "code",
   "execution_count": 53,
   "metadata": {},
   "outputs": [],
   "source": [
    "dic = CustomDataset.produce_idx_dic(d.targets)"
   ]
  },
  {
   "cell_type": "code",
   "execution_count": 54,
   "metadata": {},
   "outputs": [
    {
     "name": "stdout",
     "output_type": "stream",
     "text": [
      "1280\n",
      "1275\n"
     ]
    }
   ],
   "source": [
    "for (k,v) in dic.items():\n",
    "    print(len(v))"
   ]
  },
  {
   "cell_type": "code",
   "execution_count": 51,
   "metadata": {},
   "outputs": [
    {
     "name": "stdout",
     "output_type": "stream",
     "text": [
      "6\n",
      "Number: 2560\n",
      "[0 1 2 3 4 5 7 8 9]\n",
      "Number: 2555\n",
      "9\n",
      "Number: 1280\n",
      "[0 1 2 3 4 5 7 8]\n",
      "Number: 1275\n",
      "1\n",
      "Number: 640\n",
      "[0 2 3 4 5 7 8]\n",
      "Number: 635\n",
      "2\n",
      "Number: 320\n",
      "[0 3 4 5 7 8]\n",
      "Number: 315\n",
      "3\n",
      "Number: 160\n",
      "[0 4 5 7 8]\n",
      "Number: 155\n",
      "5\n",
      "Number: 80\n",
      "[0 4 7 8]\n",
      "Number: 75\n",
      "7\n",
      "Number: 40\n",
      "[0 4 8]\n",
      "Number: 35\n",
      "4\n",
      "Number: 20\n",
      "[0 8]\n",
      "Number: 15\n",
      "8\n",
      "Number: 10\n",
      "0\n",
      "Number: 5\n"
     ]
    }
   ],
   "source": [
    "check_dataset_partition(target_idx_dic, a_2)"
   ]
  },
  {
   "cell_type": "code",
   "execution_count": 12,
   "metadata": {},
   "outputs": [],
   "source": [
    "# finished"
   ]
  },
  {
   "cell_type": "code",
   "execution_count": 6,
   "metadata": {},
   "outputs": [
    {
     "data": {
      "text/plain": [
       "array([[-1,  1,  1]])"
      ]
     },
     "execution_count": 6,
     "metadata": {},
     "output_type": "execute_result"
    }
   ],
   "source": [
    "np.array([-1,1,1])[True]"
   ]
  },
  {
   "cell_type": "code",
   "execution_count": 1,
   "metadata": {},
   "outputs": [
    {
     "data": {
      "text/plain": [
       "'1\\n1\\n1\\n1'"
      ]
     },
     "execution_count": 1,
     "metadata": {},
     "output_type": "execute_result"
    }
   ],
   "source": [
    "\"\\n\".join(str(item) for item in [1,1,1,1])"
   ]
  },
  {
   "cell_type": "code",
   "execution_count": 45,
   "metadata": {},
   "outputs": [],
   "source": [
    "m = CustomModels.load_model('Custom_05', 1,  2)\n",
    "target_dataset = datasets.MNIST('./data', train=False, download=True,\n",
    "                                transform=transforms.Compose([\n",
    "                            transforms.Pad(2, fill=0, padding_mode='constant'),\n",
    "                           transforms.ToTensor(),\n",
    "                           transforms.Normalize((0.1307,), (0.3081,))\n",
    "                       ]))"
   ]
  },
  {
   "cell_type": "code",
   "execution_count": 46,
   "metadata": {},
   "outputs": [],
   "source": [
    "loader= torch.utils.data.DataLoader(target_dataset, batch_size=10, shuffle=True, num_workers=4)"
   ]
  },
  {
   "cell_type": "code",
   "execution_count": 32,
   "metadata": {},
   "outputs": [
    {
     "data": {
      "text/plain": [
       "tensor([[[[0., 0., 0.,  ..., 0., 0., 0.],\n",
       "          [0., 0., 0.,  ..., 0., 0., 0.],\n",
       "          [0., 0., 0.,  ..., 0., 0., 0.],\n",
       "          ...,\n",
       "          [0., 0., 0.,  ..., 0., 0., 0.],\n",
       "          [0., 0., 0.,  ..., 0., 0., 0.],\n",
       "          [0., 0., 0.,  ..., 0., 0., 0.]]]])"
      ]
     },
     "execution_count": 32,
     "metadata": {},
     "output_type": "execute_result"
    }
   ],
   "source": [
    "pic = (target_dataset[0][0])\n",
    "tensor = transforms.ToTensor()(pic)\n",
    "tensor.unsqueeze_(0)"
   ]
  },
  {
   "cell_type": "code",
   "execution_count": 48,
   "metadata": {},
   "outputs": [],
   "source": [
    "a = loader.__iter__().next()"
   ]
  },
  {
   "cell_type": "code",
   "execution_count": 72,
   "metadata": {},
   "outputs": [
    {
     "data": {
      "text/plain": [
       "10"
      ]
     },
     "execution_count": 72,
     "metadata": {},
     "output_type": "execute_result"
    }
   ],
   "source": [
    "a[0].shape[0]"
   ]
  },
  {
   "cell_type": "code",
   "execution_count": 33,
   "metadata": {},
   "outputs": [
    {
     "data": {
      "text/plain": [
       "torch.Size([1, 1, 32, 32])"
      ]
     },
     "execution_count": 33,
     "metadata": {},
     "output_type": "execute_result"
    }
   ],
   "source": [
    "tensor.shape"
   ]
  },
  {
   "cell_type": "code",
   "execution_count": 58,
   "metadata": {},
   "outputs": [],
   "source": [
    "result = m(a[0])"
   ]
  },
  {
   "cell_type": "code",
   "execution_count": 74,
   "metadata": {},
   "outputs": [
    {
     "data": {
      "text/plain": [
       "tensor([-0.7331, -0.6521, -0.4208, -0.5569, -0.6298, -1.0289, -1.0347, -0.4753,\n",
       "        -0.6981, -0.7299])"
      ]
     },
     "execution_count": 74,
     "metadata": {},
     "output_type": "execute_result"
    }
   ],
   "source": [
    "result.data[:,0]"
   ]
  },
  {
   "cell_type": "code",
   "execution_count": 73,
   "metadata": {},
   "outputs": [
    {
     "data": {
      "text/plain": [
       "array([[0.48041195, 0.519588  ],\n",
       "       [0.52097166, 0.47902843],\n",
       "       [0.6565223 , 0.34347776],\n",
       "       [0.5729933 , 0.42700675],\n",
       "       [0.53271914, 0.46728086],\n",
       "       [0.357414  , 0.642586  ],\n",
       "       [0.35531732, 0.64468265],\n",
       "       [0.62169015, 0.37830985],\n",
       "       [0.49755234, 0.50244766],\n",
       "       [0.48194927, 0.51805073]], dtype=float32)"
      ]
     },
     "execution_count": 73,
     "metadata": {},
     "output_type": "execute_result"
    }
   ],
   "source": [
    "np.exp(result.data.numpy())"
   ]
  },
  {
   "cell_type": "code",
   "execution_count": 96,
   "metadata": {},
   "outputs": [
    {
     "data": {
      "text/plain": [
       "10"
      ]
     },
     "execution_count": 96,
     "metadata": {},
     "output_type": "execute_result"
    }
   ],
   "source": []
  },
  {
   "cell_type": "code",
   "execution_count": 34,
   "metadata": {},
   "outputs": [],
   "source": [
    "m = torch.tensor([[1,2],\n",
    "             [1,2],\n",
    "                 [2,1]])\n",
    "n = torch.argmax(m,axis=1)"
   ]
  },
  {
   "cell_type": "code",
   "execution_count": 35,
   "metadata": {},
   "outputs": [
    {
     "data": {
      "text/plain": [
       "-0.01005033585350145"
      ]
     },
     "execution_count": 35,
     "metadata": {},
     "output_type": "execute_result"
    }
   ],
   "source": [
    "np.log(0.99)"
   ]
  },
  {
   "cell_type": "code",
   "execution_count": 36,
   "metadata": {},
   "outputs": [
    {
     "data": {
      "text/plain": [
       "tensor([1, 1, 0])"
      ]
     },
     "execution_count": 36,
     "metadata": {},
     "output_type": "execute_result"
    }
   ],
   "source": [
    "n"
   ]
  },
  {
   "cell_type": "code",
   "execution_count": 44,
   "metadata": {},
   "outputs": [],
   "source": [
    "m[np.arange(len(m)),n]\n",
    "m[:,:] = 1"
   ]
  },
  {
   "cell_type": "code",
   "execution_count": 45,
   "metadata": {},
   "outputs": [
    {
     "data": {
      "text/plain": [
       "tensor([[1, 1],\n",
       "        [1, 1],\n",
       "        [1, 1]])"
      ]
     },
     "execution_count": 45,
     "metadata": {},
     "output_type": "execute_result"
    }
   ],
   "source": [
    "m"
   ]
  },
  {
   "cell_type": "code",
   "execution_count": 66,
   "metadata": {},
   "outputs": [
    {
     "ename": "ValueError",
     "evalue": "The truth value of an array with more than one element is ambiguous. Use a.any() or a.all()",
     "output_type": "error",
     "traceback": [
      "\u001b[0;31m---------------------------------------------------------------------------\u001b[0m",
      "\u001b[0;31mValueError\u001b[0m                                Traceback (most recent call last)",
      "\u001b[0;32m<ipython-input-66-f5fe4c8a6b41>\u001b[0m in \u001b[0;36m<module>\u001b[0;34m\u001b[0m\n\u001b[0;32m----> 1\u001b[0;31m \u001b[0;34m(\u001b[0m\u001b[0mnp\u001b[0m\u001b[0;34m.\u001b[0m\u001b[0marray\u001b[0m\u001b[0;34m(\u001b[0m\u001b[0;34m[\u001b[0m\u001b[0;36m1\u001b[0m\u001b[0;34m,\u001b[0m\u001b[0;36m2\u001b[0m\u001b[0;34m,\u001b[0m\u001b[0;36m3\u001b[0m\u001b[0;34m,\u001b[0m\u001b[0;36m4\u001b[0m\u001b[0;34m]\u001b[0m\u001b[0;34m)\u001b[0m \u001b[0;34m==\u001b[0m \u001b[0;36m3\u001b[0m\u001b[0;34m)\u001b[0m \u001b[0;32mand\u001b[0m \u001b[0;34m(\u001b[0m\u001b[0mnp\u001b[0m\u001b[0;34m.\u001b[0m\u001b[0marray\u001b[0m\u001b[0;34m(\u001b[0m\u001b[0;34m[\u001b[0m\u001b[0;36m1\u001b[0m\u001b[0;34m,\u001b[0m\u001b[0;36m0\u001b[0m\u001b[0;34m,\u001b[0m\u001b[0;36m1\u001b[0m\u001b[0;34m,\u001b[0m\u001b[0;36m0\u001b[0m\u001b[0;34m]\u001b[0m\u001b[0;34m)\u001b[0m\u001b[0;34m==\u001b[0m\u001b[0;36m1\u001b[0m\u001b[0;34m)\u001b[0m\u001b[0;34m\u001b[0m\u001b[0;34m\u001b[0m\u001b[0m\n\u001b[0m",
      "\u001b[0;31mValueError\u001b[0m: The truth value of an array with more than one element is ambiguous. Use a.any() or a.all()"
     ]
    }
   ],
   "source": [
    "(np.array([1,2,3,4]) == 3) and (np.array([1,0,1,0])==1)"
   ]
  },
  {
   "cell_type": "code",
   "execution_count": 77,
   "metadata": {},
   "outputs": [],
   "source": [
    "a = 1\n",
    "a += 1"
   ]
  },
  {
   "cell_type": "code",
   "execution_count": 78,
   "metadata": {},
   "outputs": [
    {
     "data": {
      "text/plain": [
       "2"
      ]
     },
     "execution_count": 78,
     "metadata": {},
     "output_type": "execute_result"
    }
   ],
   "source": [
    "a"
   ]
  },
  {
   "cell_type": "code",
   "execution_count": 91,
   "metadata": {},
   "outputs": [],
   "source": [
    "a = np.zeros((10,10))\n",
    "a[:, np.array([1,1,1,0,0,0,1,1,1,0]) == 1] += result.data[:,0].numpy().reshape((10,1))"
   ]
  },
  {
   "cell_type": "code",
   "execution_count": 92,
   "metadata": {},
   "outputs": [
    {
     "data": {
      "text/plain": [
       "array([[-0.73311132, -0.73311132, -0.73311132,  0.        ,  0.        ,\n",
       "         0.        , -0.73311132, -0.73311132, -0.73311132,  0.        ],\n",
       "       [-0.65205967, -0.65205967, -0.65205967,  0.        ,  0.        ,\n",
       "         0.        , -0.65205967, -0.65205967, -0.65205967,  0.        ],\n",
       "       [-0.42079869, -0.42079869, -0.42079869,  0.        ,  0.        ,\n",
       "         0.        , -0.42079869, -0.42079869, -0.42079869,  0.        ],\n",
       "       [-0.55688125, -0.55688125, -0.55688125,  0.        ,  0.        ,\n",
       "         0.        , -0.55688125, -0.55688125, -0.55688125,  0.        ],\n",
       "       [-0.62976092, -0.62976092, -0.62976092,  0.        ,  0.        ,\n",
       "         0.        , -0.62976092, -0.62976092, -0.62976092,  0.        ],\n",
       "       [-1.02886045, -1.02886045, -1.02886045,  0.        ,  0.        ,\n",
       "         0.        , -1.02886045, -1.02886045, -1.02886045,  0.        ],\n",
       "       [-1.03474402, -1.03474402, -1.03474402,  0.        ,  0.        ,\n",
       "         0.        , -1.03474402, -1.03474402, -1.03474402,  0.        ],\n",
       "       [-0.47531348, -0.47531348, -0.47531348,  0.        ,  0.        ,\n",
       "         0.        , -0.47531348, -0.47531348, -0.47531348,  0.        ],\n",
       "       [-0.69805455, -0.69805455, -0.69805455,  0.        ,  0.        ,\n",
       "         0.        , -0.69805455, -0.69805455, -0.69805455,  0.        ],\n",
       "       [-0.72991639, -0.72991639, -0.72991639,  0.        ,  0.        ,\n",
       "         0.        , -0.72991639, -0.72991639, -0.72991639,  0.        ]])"
      ]
     },
     "execution_count": 92,
     "metadata": {},
     "output_type": "execute_result"
    }
   ],
   "source": [
    "a"
   ]
  },
  {
   "cell_type": "code",
   "execution_count": 87,
   "metadata": {},
   "outputs": [
    {
     "data": {
      "text/plain": [
       "tensor([[-0.7331],\n",
       "        [-0.6521],\n",
       "        [-0.4208],\n",
       "        [-0.5569],\n",
       "        [-0.6298],\n",
       "        [-1.0289],\n",
       "        [-1.0347],\n",
       "        [-0.4753],\n",
       "        [-0.6981],\n",
       "        [-0.7299]])"
      ]
     },
     "execution_count": 87,
     "metadata": {},
     "output_type": "execute_result"
    }
   ],
   "source": [
    "result.data[:,0].reshape((10,1))"
   ]
  },
  {
   "cell_type": "code",
   "execution_count": 25,
   "metadata": {},
   "outputs": [
    {
     "data": {
      "text/plain": [
       "array([[ 832,    0,   56,    0,    2,    3,   40,   10,   15,   22],\n",
       "       [   0, 1128,    4,    0,    0,    1,    1,    0,    0,    1],\n",
       "       [   1,    1, 1013,    3,    1,    0,    3,    6,    4,    0],\n",
       "       [   3,    0,    5,  948,    2,   30,    0,   11,   10,    1],\n",
       "       [   0,    6,   15,    0,  822,    0,    8,    5,    9,  117],\n",
       "       [   1,   17,    3,    8,    3,  838,    8,    4,    5,    5],\n",
       "       [   0,    2,    2,    0,    1,    1,  952,    0,    0,    0],\n",
       "       [   3,   18,   35,    3,    7,    1,    0,  891,    4,   66],\n",
       "       [  13,    3,   18,   38,   21,   60,   24,    7,  691,   99],\n",
       "       [   4,    1,    1,    0,    4,    1,    1,    8,    3,  986]])"
      ]
     },
     "execution_count": 25,
     "metadata": {},
     "output_type": "execute_result"
    }
   ],
   "source": [
    "cm = np.load(\"MNIST_hierarchical_test_whole_system_test/result_outputs/confusion_matrix.npy\").astype(int)\n",
    "cm"
   ]
  },
  {
   "cell_type": "code",
   "execution_count": 27,
   "metadata": {},
   "outputs": [
    {
     "data": {
      "text/plain": [
       "0.9086663501138753"
      ]
     },
     "execution_count": 27,
     "metadata": {},
     "output_type": "execute_result"
    }
   ],
   "source": [
    "np.average(np.sum(np.eye(10)* cm,1) / np.sum(cm,1))"
   ]
  },
  {
   "cell_type": "code",
   "execution_count": 9,
   "metadata": {},
   "outputs": [
    {
     "data": {
      "text/plain": [
       "2.718281828459045"
      ]
     },
     "execution_count": 9,
     "metadata": {},
     "output_type": "execute_result"
    }
   ],
   "source": [
    "np.exp(1)"
   ]
  },
  {
   "cell_type": "code",
   "execution_count": 12,
   "metadata": {},
   "outputs": [
    {
     "data": {
      "text/plain": [
       "2440.0"
      ]
     },
     "execution_count": 12,
     "metadata": {},
     "output_type": "execute_result"
    }
   ],
   "source": [
    "np.sum(cm,0)[9]"
   ]
  },
  {
   "cell_type": "code",
   "execution_count": 13,
   "metadata": {},
   "outputs": [
    {
     "data": {
      "text/plain": [
       "10000.0"
      ]
     },
     "execution_count": 13,
     "metadata": {},
     "output_type": "execute_result"
    }
   ],
   "source": [
    "np.sum(cm)"
   ]
  },
  {
   "cell_type": "code",
   "execution_count": null,
   "metadata": {},
   "outputs": [],
   "source": []
  }
 ],
 "metadata": {
  "kernelspec": {
   "display_name": "Python 3",
   "language": "python",
   "name": "python3"
  },
  "language_info": {
   "codemirror_mode": {
    "name": "ipython",
    "version": 3
   },
   "file_extension": ".py",
   "mimetype": "text/x-python",
   "name": "python",
   "nbconvert_exporter": "python",
   "pygments_lexer": "ipython3",
   "version": "3.7.4"
  }
 },
 "nbformat": 4,
 "nbformat_minor": 2
}
